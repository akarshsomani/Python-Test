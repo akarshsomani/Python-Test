{
 "cells": [
  {
   "cell_type": "code",
   "execution_count": 1,
   "metadata": {},
   "outputs": [],
   "source": [
    "import numpy as np\n",
    "import pandas as pd"
   ]
  },
  {
   "cell_type": "code",
   "execution_count": 2,
   "metadata": {},
   "outputs": [],
   "source": [
    "tcs=pd.read_csv('tcs_updated.csv')\n",
    "infy=pd.read_csv('infy_updated.csv')"
   ]
  },
  {
   "cell_type": "code",
   "execution_count": 3,
   "metadata": {},
   "outputs": [
    {
     "name": "stdout",
     "output_type": "stream",
     "text": [
      "<class 'pandas.core.frame.DataFrame'>\n",
      "RangeIndex: 249 entries, 0 to 248\n",
      "Data columns (total 23 columns):\n",
      "Date                         249 non-null object\n",
      "Date.1                       249 non-null object\n",
      "Symbol                       249 non-null object\n",
      "Series                       249 non-null object\n",
      "Prev Close                   249 non-null float64\n",
      "Open                         249 non-null float64\n",
      "High                         249 non-null float64\n",
      "Low                          249 non-null float64\n",
      "Last                         249 non-null float64\n",
      "Close                        249 non-null float64\n",
      "VWAP                         249 non-null float64\n",
      "Volume                       249 non-null int64\n",
      "Turnover                     249 non-null float64\n",
      "Trades                       249 non-null int64\n",
      "Deliverable Volume           249 non-null int64\n",
      "%Deliverble                  249 non-null float64\n",
      "Volume_next_day              248 non-null float64\n",
      "volume_shock                 249 non-null int64\n",
      "volume_dir                   249 non-null int64\n",
      "Close_next_day               248 non-null float64\n",
      "Close_shock                  249 non-null int64\n",
      "Close_dir                    249 non-null int64\n",
      "price_shock_w/0_vol_shock    249 non-null int64\n",
      "dtypes: float64(11), int64(8), object(4)\n",
      "memory usage: 44.8+ KB\n"
     ]
    }
   ],
   "source": [
    "tcs.info()"
   ]
  },
  {
   "cell_type": "code",
   "execution_count": null,
   "metadata": {},
   "outputs": [],
   "source": [
    "tcs=tcs.dr"
   ]
  },
  {
   "cell_type": "code",
   "execution_count": null,
   "metadata": {},
   "outputs": [],
   "source": [
    ">>> from sklearn import linear_model\n",
    ">>> reg = linear_model.LassoLars(alpha=0.01)\n",
    ">>> reg.fit([[-1, 1], [0, 0], [1, 1]], [-1, 0, -1])"
   ]
  }
 ],
 "metadata": {
  "kernelspec": {
   "display_name": "Python 3",
   "language": "python",
   "name": "python3"
  },
  "language_info": {
   "codemirror_mode": {
    "name": "ipython",
    "version": 3
   },
   "file_extension": ".py",
   "mimetype": "text/x-python",
   "name": "python",
   "nbconvert_exporter": "python",
   "pygments_lexer": "ipython3",
   "version": "3.6.5"
  }
 },
 "nbformat": 4,
 "nbformat_minor": 2
}
