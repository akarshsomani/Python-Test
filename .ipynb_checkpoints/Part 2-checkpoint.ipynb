{
 "cells": [
  {
   "cell_type": "markdown",
   "metadata": {},
   "source": [
    "### Importing packages"
   ]
  },
  {
   "cell_type": "code",
   "execution_count": 1,
   "metadata": {},
   "outputs": [],
   "source": [
    "import bokeh\n",
    "from bokeh.plotting import figure, output_file, show\n",
    "from bokeh.io import show, output_notebook"
   ]
  },
  {
   "cell_type": "code",
   "execution_count": 2,
   "metadata": {},
   "outputs": [
    {
     "data": {
      "text/html": [
       "\n",
       "    <div class=\"bk-root\">\n",
       "        <a href=\"https://bokeh.pydata.org\" target=\"_blank\" class=\"bk-logo bk-logo-small bk-logo-notebook\"></a>\n",
       "        <span id=\"6714bacc-0754-4c61-bc1c-be6124368a17\">Loading BokehJS ...</span>\n",
       "    </div>"
      ]
     },
     "metadata": {},
     "output_type": "display_data"
    },
    {
     "data": {
      "application/javascript": [
       "\n",
       "(function(root) {\n",
       "  function now() {\n",
       "    return new Date();\n",
       "  }\n",
       "\n",
       "  var force = true;\n",
       "\n",
       "  if (typeof (root._bokeh_onload_callbacks) === \"undefined\" || force === true) {\n",
       "    root._bokeh_onload_callbacks = [];\n",
       "    root._bokeh_is_loading = undefined;\n",
       "  }\n",
       "\n",
       "  var JS_MIME_TYPE = 'application/javascript';\n",
       "  var HTML_MIME_TYPE = 'text/html';\n",
       "  var EXEC_MIME_TYPE = 'application/vnd.bokehjs_exec.v0+json';\n",
       "  var CLASS_NAME = 'output_bokeh rendered_html';\n",
       "\n",
       "  /**\n",
       "   * Render data to the DOM node\n",
       "   */\n",
       "  function render(props, node) {\n",
       "    var script = document.createElement(\"script\");\n",
       "    node.appendChild(script);\n",
       "  }\n",
       "\n",
       "  /**\n",
       "   * Handle when an output is cleared or removed\n",
       "   */\n",
       "  function handleClearOutput(event, handle) {\n",
       "    var cell = handle.cell;\n",
       "\n",
       "    var id = cell.output_area._bokeh_element_id;\n",
       "    var server_id = cell.output_area._bokeh_server_id;\n",
       "    // Clean up Bokeh references\n",
       "    if (id !== undefined) {\n",
       "      Bokeh.index[id].model.document.clear();\n",
       "      delete Bokeh.index[id];\n",
       "    }\n",
       "\n",
       "    if (server_id !== undefined) {\n",
       "      // Clean up Bokeh references\n",
       "      var cmd = \"from bokeh.io.state import curstate; print(curstate().uuid_to_server['\" + server_id + \"'].get_sessions()[0].document.roots[0]._id)\";\n",
       "      cell.notebook.kernel.execute(cmd, {\n",
       "        iopub: {\n",
       "          output: function(msg) {\n",
       "            var element_id = msg.content.text.trim();\n",
       "            Bokeh.index[element_id].model.document.clear();\n",
       "            delete Bokeh.index[element_id];\n",
       "          }\n",
       "        }\n",
       "      });\n",
       "      // Destroy server and session\n",
       "      var cmd = \"import bokeh.io.notebook as ion; ion.destroy_server('\" + server_id + \"')\";\n",
       "      cell.notebook.kernel.execute(cmd);\n",
       "    }\n",
       "  }\n",
       "\n",
       "  /**\n",
       "   * Handle when a new output is added\n",
       "   */\n",
       "  function handleAddOutput(event, handle) {\n",
       "    var output_area = handle.output_area;\n",
       "    var output = handle.output;\n",
       "\n",
       "    // limit handleAddOutput to display_data with EXEC_MIME_TYPE content only\n",
       "    if ((output.output_type != \"display_data\") || (!output.data.hasOwnProperty(EXEC_MIME_TYPE))) {\n",
       "      return\n",
       "    }\n",
       "\n",
       "    var toinsert = output_area.element.find(\".\" + CLASS_NAME.split(' ')[0]);\n",
       "\n",
       "    if (output.metadata[EXEC_MIME_TYPE][\"id\"] !== undefined) {\n",
       "      toinsert[toinsert.length - 1].firstChild.textContent = output.data[JS_MIME_TYPE];\n",
       "      // store reference to embed id on output_area\n",
       "      output_area._bokeh_element_id = output.metadata[EXEC_MIME_TYPE][\"id\"];\n",
       "    }\n",
       "    if (output.metadata[EXEC_MIME_TYPE][\"server_id\"] !== undefined) {\n",
       "      var bk_div = document.createElement(\"div\");\n",
       "      bk_div.innerHTML = output.data[HTML_MIME_TYPE];\n",
       "      var script_attrs = bk_div.children[0].attributes;\n",
       "      for (var i = 0; i < script_attrs.length; i++) {\n",
       "        toinsert[toinsert.length - 1].firstChild.setAttribute(script_attrs[i].name, script_attrs[i].value);\n",
       "      }\n",
       "      // store reference to server id on output_area\n",
       "      output_area._bokeh_server_id = output.metadata[EXEC_MIME_TYPE][\"server_id\"];\n",
       "    }\n",
       "  }\n",
       "\n",
       "  function register_renderer(events, OutputArea) {\n",
       "\n",
       "    function append_mime(data, metadata, element) {\n",
       "      // create a DOM node to render to\n",
       "      var toinsert = this.create_output_subarea(\n",
       "        metadata,\n",
       "        CLASS_NAME,\n",
       "        EXEC_MIME_TYPE\n",
       "      );\n",
       "      this.keyboard_manager.register_events(toinsert);\n",
       "      // Render to node\n",
       "      var props = {data: data, metadata: metadata[EXEC_MIME_TYPE]};\n",
       "      render(props, toinsert[toinsert.length - 1]);\n",
       "      element.append(toinsert);\n",
       "      return toinsert\n",
       "    }\n",
       "\n",
       "    /* Handle when an output is cleared or removed */\n",
       "    events.on('clear_output.CodeCell', handleClearOutput);\n",
       "    events.on('delete.Cell', handleClearOutput);\n",
       "\n",
       "    /* Handle when a new output is added */\n",
       "    events.on('output_added.OutputArea', handleAddOutput);\n",
       "\n",
       "    /**\n",
       "     * Register the mime type and append_mime function with output_area\n",
       "     */\n",
       "    OutputArea.prototype.register_mime_type(EXEC_MIME_TYPE, append_mime, {\n",
       "      /* Is output safe? */\n",
       "      safe: true,\n",
       "      /* Index of renderer in `output_area.display_order` */\n",
       "      index: 0\n",
       "    });\n",
       "  }\n",
       "\n",
       "  // register the mime type if in Jupyter Notebook environment and previously unregistered\n",
       "  if (root.Jupyter !== undefined) {\n",
       "    var events = require('base/js/events');\n",
       "    var OutputArea = require('notebook/js/outputarea').OutputArea;\n",
       "\n",
       "    if (OutputArea.prototype.mime_types().indexOf(EXEC_MIME_TYPE) == -1) {\n",
       "      register_renderer(events, OutputArea);\n",
       "    }\n",
       "  }\n",
       "\n",
       "  \n",
       "  if (typeof (root._bokeh_timeout) === \"undefined\" || force === true) {\n",
       "    root._bokeh_timeout = Date.now() + 5000;\n",
       "    root._bokeh_failed_load = false;\n",
       "  }\n",
       "\n",
       "  var NB_LOAD_WARNING = {'data': {'text/html':\n",
       "     \"<div style='background-color: #fdd'>\\n\"+\n",
       "     \"<p>\\n\"+\n",
       "     \"BokehJS does not appear to have successfully loaded. If loading BokehJS from CDN, this \\n\"+\n",
       "     \"may be due to a slow or bad network connection. Possible fixes:\\n\"+\n",
       "     \"</p>\\n\"+\n",
       "     \"<ul>\\n\"+\n",
       "     \"<li>re-rerun `output_notebook()` to attempt to load from CDN again, or</li>\\n\"+\n",
       "     \"<li>use INLINE resources instead, as so:</li>\\n\"+\n",
       "     \"</ul>\\n\"+\n",
       "     \"<code>\\n\"+\n",
       "     \"from bokeh.resources import INLINE\\n\"+\n",
       "     \"output_notebook(resources=INLINE)\\n\"+\n",
       "     \"</code>\\n\"+\n",
       "     \"</div>\"}};\n",
       "\n",
       "  function display_loaded() {\n",
       "    var el = document.getElementById(\"6714bacc-0754-4c61-bc1c-be6124368a17\");\n",
       "    if (el != null) {\n",
       "      el.textContent = \"BokehJS is loading...\";\n",
       "    }\n",
       "    if (root.Bokeh !== undefined) {\n",
       "      if (el != null) {\n",
       "        el.textContent = \"BokehJS \" + root.Bokeh.version + \" successfully loaded.\";\n",
       "      }\n",
       "    } else if (Date.now() < root._bokeh_timeout) {\n",
       "      setTimeout(display_loaded, 100)\n",
       "    }\n",
       "  }\n",
       "\n",
       "\n",
       "  function run_callbacks() {\n",
       "    try {\n",
       "      root._bokeh_onload_callbacks.forEach(function(callback) { callback() });\n",
       "    }\n",
       "    finally {\n",
       "      delete root._bokeh_onload_callbacks\n",
       "    }\n",
       "    console.info(\"Bokeh: all callbacks have finished\");\n",
       "  }\n",
       "\n",
       "  function load_libs(js_urls, callback) {\n",
       "    root._bokeh_onload_callbacks.push(callback);\n",
       "    if (root._bokeh_is_loading > 0) {\n",
       "      console.log(\"Bokeh: BokehJS is being loaded, scheduling callback at\", now());\n",
       "      return null;\n",
       "    }\n",
       "    if (js_urls == null || js_urls.length === 0) {\n",
       "      run_callbacks();\n",
       "      return null;\n",
       "    }\n",
       "    console.log(\"Bokeh: BokehJS not loaded, scheduling load and callback at\", now());\n",
       "    root._bokeh_is_loading = js_urls.length;\n",
       "    for (var i = 0; i < js_urls.length; i++) {\n",
       "      var url = js_urls[i];\n",
       "      var s = document.createElement('script');\n",
       "      s.src = url;\n",
       "      s.async = false;\n",
       "      s.onreadystatechange = s.onload = function() {\n",
       "        root._bokeh_is_loading--;\n",
       "        if (root._bokeh_is_loading === 0) {\n",
       "          console.log(\"Bokeh: all BokehJS libraries loaded\");\n",
       "          run_callbacks()\n",
       "        }\n",
       "      };\n",
       "      s.onerror = function() {\n",
       "        console.warn(\"failed to load library \" + url);\n",
       "      };\n",
       "      console.log(\"Bokeh: injecting script tag for BokehJS library: \", url);\n",
       "      document.getElementsByTagName(\"head\")[0].appendChild(s);\n",
       "    }\n",
       "  };var element = document.getElementById(\"6714bacc-0754-4c61-bc1c-be6124368a17\");\n",
       "  if (element == null) {\n",
       "    console.log(\"Bokeh: ERROR: autoload.js configured with elementid '6714bacc-0754-4c61-bc1c-be6124368a17' but no matching script tag was found. \")\n",
       "    return false;\n",
       "  }\n",
       "\n",
       "  var js_urls = [\"https://cdn.pydata.org/bokeh/release/bokeh-0.12.16.min.js\", \"https://cdn.pydata.org/bokeh/release/bokeh-widgets-0.12.16.min.js\", \"https://cdn.pydata.org/bokeh/release/bokeh-tables-0.12.16.min.js\", \"https://cdn.pydata.org/bokeh/release/bokeh-gl-0.12.16.min.js\"];\n",
       "\n",
       "  var inline_js = [\n",
       "    function(Bokeh) {\n",
       "      Bokeh.set_log_level(\"info\");\n",
       "    },\n",
       "    \n",
       "    function(Bokeh) {\n",
       "      \n",
       "    },\n",
       "    function(Bokeh) {\n",
       "      console.log(\"Bokeh: injecting CSS: https://cdn.pydata.org/bokeh/release/bokeh-0.12.16.min.css\");\n",
       "      Bokeh.embed.inject_css(\"https://cdn.pydata.org/bokeh/release/bokeh-0.12.16.min.css\");\n",
       "      console.log(\"Bokeh: injecting CSS: https://cdn.pydata.org/bokeh/release/bokeh-widgets-0.12.16.min.css\");\n",
       "      Bokeh.embed.inject_css(\"https://cdn.pydata.org/bokeh/release/bokeh-widgets-0.12.16.min.css\");\n",
       "      console.log(\"Bokeh: injecting CSS: https://cdn.pydata.org/bokeh/release/bokeh-tables-0.12.16.min.css\");\n",
       "      Bokeh.embed.inject_css(\"https://cdn.pydata.org/bokeh/release/bokeh-tables-0.12.16.min.css\");\n",
       "    }\n",
       "  ];\n",
       "\n",
       "  function run_inline_js() {\n",
       "    \n",
       "    if ((root.Bokeh !== undefined) || (force === true)) {\n",
       "      for (var i = 0; i < inline_js.length; i++) {\n",
       "        inline_js[i].call(root, root.Bokeh);\n",
       "      }if (force === true) {\n",
       "        display_loaded();\n",
       "      }} else if (Date.now() < root._bokeh_timeout) {\n",
       "      setTimeout(run_inline_js, 100);\n",
       "    } else if (!root._bokeh_failed_load) {\n",
       "      console.log(\"Bokeh: BokehJS failed to load within specified timeout.\");\n",
       "      root._bokeh_failed_load = true;\n",
       "    } else if (force !== true) {\n",
       "      var cell = $(document.getElementById(\"6714bacc-0754-4c61-bc1c-be6124368a17\")).parents('.cell').data().cell;\n",
       "      cell.output_area.append_execute_result(NB_LOAD_WARNING)\n",
       "    }\n",
       "\n",
       "  }\n",
       "\n",
       "  if (root._bokeh_is_loading === 0) {\n",
       "    console.log(\"Bokeh: BokehJS loaded, going straight to plotting\");\n",
       "    run_inline_js();\n",
       "  } else {\n",
       "    load_libs(js_urls, function() {\n",
       "      console.log(\"Bokeh: BokehJS plotting callback run at\", now());\n",
       "      run_inline_js();\n",
       "    });\n",
       "  }\n",
       "}(window));"
      ],
      "application/vnd.bokehjs_load.v0+json": "\n(function(root) {\n  function now() {\n    return new Date();\n  }\n\n  var force = true;\n\n  if (typeof (root._bokeh_onload_callbacks) === \"undefined\" || force === true) {\n    root._bokeh_onload_callbacks = [];\n    root._bokeh_is_loading = undefined;\n  }\n\n  \n\n  \n  if (typeof (root._bokeh_timeout) === \"undefined\" || force === true) {\n    root._bokeh_timeout = Date.now() + 5000;\n    root._bokeh_failed_load = false;\n  }\n\n  var NB_LOAD_WARNING = {'data': {'text/html':\n     \"<div style='background-color: #fdd'>\\n\"+\n     \"<p>\\n\"+\n     \"BokehJS does not appear to have successfully loaded. If loading BokehJS from CDN, this \\n\"+\n     \"may be due to a slow or bad network connection. Possible fixes:\\n\"+\n     \"</p>\\n\"+\n     \"<ul>\\n\"+\n     \"<li>re-rerun `output_notebook()` to attempt to load from CDN again, or</li>\\n\"+\n     \"<li>use INLINE resources instead, as so:</li>\\n\"+\n     \"</ul>\\n\"+\n     \"<code>\\n\"+\n     \"from bokeh.resources import INLINE\\n\"+\n     \"output_notebook(resources=INLINE)\\n\"+\n     \"</code>\\n\"+\n     \"</div>\"}};\n\n  function display_loaded() {\n    var el = document.getElementById(\"6714bacc-0754-4c61-bc1c-be6124368a17\");\n    if (el != null) {\n      el.textContent = \"BokehJS is loading...\";\n    }\n    if (root.Bokeh !== undefined) {\n      if (el != null) {\n        el.textContent = \"BokehJS \" + root.Bokeh.version + \" successfully loaded.\";\n      }\n    } else if (Date.now() < root._bokeh_timeout) {\n      setTimeout(display_loaded, 100)\n    }\n  }\n\n\n  function run_callbacks() {\n    try {\n      root._bokeh_onload_callbacks.forEach(function(callback) { callback() });\n    }\n    finally {\n      delete root._bokeh_onload_callbacks\n    }\n    console.info(\"Bokeh: all callbacks have finished\");\n  }\n\n  function load_libs(js_urls, callback) {\n    root._bokeh_onload_callbacks.push(callback);\n    if (root._bokeh_is_loading > 0) {\n      console.log(\"Bokeh: BokehJS is being loaded, scheduling callback at\", now());\n      return null;\n    }\n    if (js_urls == null || js_urls.length === 0) {\n      run_callbacks();\n      return null;\n    }\n    console.log(\"Bokeh: BokehJS not loaded, scheduling load and callback at\", now());\n    root._bokeh_is_loading = js_urls.length;\n    for (var i = 0; i < js_urls.length; i++) {\n      var url = js_urls[i];\n      var s = document.createElement('script');\n      s.src = url;\n      s.async = false;\n      s.onreadystatechange = s.onload = function() {\n        root._bokeh_is_loading--;\n        if (root._bokeh_is_loading === 0) {\n          console.log(\"Bokeh: all BokehJS libraries loaded\");\n          run_callbacks()\n        }\n      };\n      s.onerror = function() {\n        console.warn(\"failed to load library \" + url);\n      };\n      console.log(\"Bokeh: injecting script tag for BokehJS library: \", url);\n      document.getElementsByTagName(\"head\")[0].appendChild(s);\n    }\n  };var element = document.getElementById(\"6714bacc-0754-4c61-bc1c-be6124368a17\");\n  if (element == null) {\n    console.log(\"Bokeh: ERROR: autoload.js configured with elementid '6714bacc-0754-4c61-bc1c-be6124368a17' but no matching script tag was found. \")\n    return false;\n  }\n\n  var js_urls = [\"https://cdn.pydata.org/bokeh/release/bokeh-0.12.16.min.js\", \"https://cdn.pydata.org/bokeh/release/bokeh-widgets-0.12.16.min.js\", \"https://cdn.pydata.org/bokeh/release/bokeh-tables-0.12.16.min.js\", \"https://cdn.pydata.org/bokeh/release/bokeh-gl-0.12.16.min.js\"];\n\n  var inline_js = [\n    function(Bokeh) {\n      Bokeh.set_log_level(\"info\");\n    },\n    \n    function(Bokeh) {\n      \n    },\n    function(Bokeh) {\n      console.log(\"Bokeh: injecting CSS: https://cdn.pydata.org/bokeh/release/bokeh-0.12.16.min.css\");\n      Bokeh.embed.inject_css(\"https://cdn.pydata.org/bokeh/release/bokeh-0.12.16.min.css\");\n      console.log(\"Bokeh: injecting CSS: https://cdn.pydata.org/bokeh/release/bokeh-widgets-0.12.16.min.css\");\n      Bokeh.embed.inject_css(\"https://cdn.pydata.org/bokeh/release/bokeh-widgets-0.12.16.min.css\");\n      console.log(\"Bokeh: injecting CSS: https://cdn.pydata.org/bokeh/release/bokeh-tables-0.12.16.min.css\");\n      Bokeh.embed.inject_css(\"https://cdn.pydata.org/bokeh/release/bokeh-tables-0.12.16.min.css\");\n    }\n  ];\n\n  function run_inline_js() {\n    \n    if ((root.Bokeh !== undefined) || (force === true)) {\n      for (var i = 0; i < inline_js.length; i++) {\n        inline_js[i].call(root, root.Bokeh);\n      }if (force === true) {\n        display_loaded();\n      }} else if (Date.now() < root._bokeh_timeout) {\n      setTimeout(run_inline_js, 100);\n    } else if (!root._bokeh_failed_load) {\n      console.log(\"Bokeh: BokehJS failed to load within specified timeout.\");\n      root._bokeh_failed_load = true;\n    } else if (force !== true) {\n      var cell = $(document.getElementById(\"6714bacc-0754-4c61-bc1c-be6124368a17\")).parents('.cell').data().cell;\n      cell.output_area.append_execute_result(NB_LOAD_WARNING)\n    }\n\n  }\n\n  if (root._bokeh_is_loading === 0) {\n    console.log(\"Bokeh: BokehJS loaded, going straight to plotting\");\n    run_inline_js();\n  } else {\n    load_libs(js_urls, function() {\n      console.log(\"Bokeh: BokehJS plotting callback run at\", now());\n      run_inline_js();\n    });\n  }\n}(window));"
     },
     "metadata": {},
     "output_type": "display_data"
    }
   ],
   "source": [
    "\n",
    "\n",
    "output_notebook()\n",
    "\n"
   ]
  },
  {
   "cell_type": "markdown",
   "metadata": {},
   "source": [
    "### Reading Files"
   ]
  },
  {
   "cell_type": "code",
   "execution_count": 3,
   "metadata": {},
   "outputs": [],
   "source": [
    "import pandas as pd\n",
    "tcs=pd.read_csv('tcs_updated.csv')\n",
    "infy=pd.read_csv('infy_updated.csv')"
   ]
  },
  {
   "cell_type": "markdown",
   "metadata": {},
   "source": [
    "### converting index to datetime formated dates."
   ]
  },
  {
   "cell_type": "code",
   "execution_count": 4,
   "metadata": {},
   "outputs": [],
   "source": [
    "tcs.index=pd.to_datetime(tcs.Date)\n",
    "infy.index=pd.to_datetime(infy.Date)\n"
   ]
  },
  {
   "cell_type": "markdown",
   "metadata": {},
   "source": [
    "### Time series Plot with Pointed volume shock points."
   ]
  },
  {
   "cell_type": "code",
   "execution_count": 5,
   "metadata": {},
   "outputs": [],
   "source": [
    "#volume shock\n",
    "def bokeh_plot_1(stock):\n",
    "    data = dict(stock=stock['Close'], Date=stock.index)\n",
    "    \n",
    "    p = figure(plot_width=800, plot_height=400,  title = 'Time Series for {}' .format(stock.Symbol[0]), x_axis_type=\"datetime\")\n",
    "    p.line(stock.index, stock['Close'], color='blue', alpha=0.5)\n",
    "    \n",
    "    #show price shock w/o vol shock\n",
    "    temp=stock[stock['volume_shock']==1]\n",
    "    p.circle(temp.index, temp.Close,size=2,color='red', alpha=1,legend='Volume Shock>10%')\n",
    "    show(p)"
   ]
  },
  {
   "cell_type": "code",
   "execution_count": 6,
   "metadata": {},
   "outputs": [
    {
     "data": {
      "text/html": [
       "\n",
       "<div class=\"bk-root\">\n",
       "    <div class=\"bk-plotdiv\" id=\"77923e56-6d59-4864-8acb-fb87d13e46f9\"></div>\n",
       "</div>"
      ]
     },
     "metadata": {},
     "output_type": "display_data"
    },
    {
     "data": {
      "application/javascript": [
       "(function(root) {\n",
       "  function embed_document(root) {\n",
       "    \n",
       "  var docs_json = {\"7d07f533-0cad-4db8-a9b9-9f370a541559\":{\"roots\":{\"references\":[{\"attributes\":{},\"id\":\"f7d0fb0a-683a-45b3-911b-058f0def486a\",\"type\":\"Selection\"},{\"attributes\":{\"items\":[{\"id\":\"f9443a4a-5629-4563-8713-49505fb851f7\",\"type\":\"LegendItem\"}],\"plot\":{\"id\":\"d56dd699-0abd-4a98-adc3-bab0104d6ae3\",\"subtype\":\"Figure\",\"type\":\"Plot\"}},\"id\":\"2a286c83-02d0-4ff8-a1d1-57fae5eea591\",\"type\":\"Legend\"},{\"attributes\":{\"below\":[{\"id\":\"26c12021-6802-473b-9e5a-1e6956f480a2\",\"type\":\"DatetimeAxis\"}],\"left\":[{\"id\":\"3fe76d82-27c6-47e3-8e4b-2734f783e106\",\"type\":\"LinearAxis\"}],\"plot_height\":400,\"plot_width\":800,\"renderers\":[{\"id\":\"26c12021-6802-473b-9e5a-1e6956f480a2\",\"type\":\"DatetimeAxis\"},{\"id\":\"5a1552f6-a4ed-45a2-9025-25382329f296\",\"type\":\"Grid\"},{\"id\":\"3fe76d82-27c6-47e3-8e4b-2734f783e106\",\"type\":\"LinearAxis\"},{\"id\":\"718ed54e-214f-4e00-8dcd-c8af45dc36fb\",\"type\":\"Grid\"},{\"id\":\"1820a370-9d98-4fe5-8103-5603f100a794\",\"type\":\"BoxAnnotation\"},{\"id\":\"0bb9e355-e8ac-4d01-8ec0-6dcd5894d98f\",\"type\":\"GlyphRenderer\"},{\"id\":\"2a286c83-02d0-4ff8-a1d1-57fae5eea591\",\"type\":\"Legend\"},{\"id\":\"c54238c9-da0e-467f-bef1-8eee3989a71e\",\"type\":\"GlyphRenderer\"}],\"title\":{\"id\":\"68510098-46d4-4042-b725-845df2062c18\",\"type\":\"Title\"},\"toolbar\":{\"id\":\"ce4355d2-a8b9-4e39-aeff-ad5c7c7639b4\",\"type\":\"Toolbar\"},\"x_range\":{\"id\":\"b73ebc99-7c84-49a1-b18d-4b0b84d5472e\",\"type\":\"DataRange1d\"},\"x_scale\":{\"id\":\"e8c190e3-eec9-429e-b51e-88635385a6ba\",\"type\":\"LinearScale\"},\"y_range\":{\"id\":\"5a96a57c-2e2d-493e-866c-ca57442c5901\",\"type\":\"DataRange1d\"},\"y_scale\":{\"id\":\"37094a03-65c2-4da6-9c54-03ea31baa830\",\"type\":\"LinearScale\"}},\"id\":\"d56dd699-0abd-4a98-adc3-bab0104d6ae3\",\"subtype\":\"Figure\",\"type\":\"Plot\"},{\"attributes\":{\"formatter\":{\"id\":\"e2fa891a-12e8-417a-84eb-a5487a10f78b\",\"type\":\"BasicTickFormatter\"},\"plot\":{\"id\":\"d56dd699-0abd-4a98-adc3-bab0104d6ae3\",\"subtype\":\"Figure\",\"type\":\"Plot\"},\"ticker\":{\"id\":\"030af15a-c47f-4912-9324-0cfa8e7884c8\",\"type\":\"BasicTicker\"}},\"id\":\"3fe76d82-27c6-47e3-8e4b-2734f783e106\",\"type\":\"LinearAxis\"},{\"attributes\":{\"label\":{\"value\":\"Volume Shock>10%\"},\"renderers\":[{\"id\":\"c54238c9-da0e-467f-bef1-8eee3989a71e\",\"type\":\"GlyphRenderer\"}]},\"id\":\"f9443a4a-5629-4563-8713-49505fb851f7\",\"type\":\"LegendItem\"},{\"attributes\":{},\"id\":\"030af15a-c47f-4912-9324-0cfa8e7884c8\",\"type\":\"BasicTicker\"},{\"attributes\":{\"callback\":null,\"data\":{\"x\":{\"__ndarray__\":\"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\",\"dtype\":\"float64\",\"shape\":[249]},\"y\":{\"__ndarray__\":\"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\",\"dtype\":\"float64\",\"shape\":[249]}},\"selected\":{\"id\":\"3f9dc9cb-bbf2-48c4-a55a-a8387f33ffeb\",\"type\":\"Selection\"},\"selection_policy\":{\"id\":\"f7f7cbe5-c412-479d-9d1a-193beac746db\",\"type\":\"UnionRenderers\"}},\"id\":\"9c04c298-2fe7-412f-8277-d6c5ba51a50b\",\"type\":\"ColumnDataSource\"},{\"attributes\":{},\"id\":\"e8c190e3-eec9-429e-b51e-88635385a6ba\",\"type\":\"LinearScale\"},{\"attributes\":{\"months\":[0,6]},\"id\":\"02aa5a26-7b9a-4251-8f3a-f10737dd712c\",\"type\":\"MonthsTicker\"},{\"attributes\":{},\"id\":\"37094a03-65c2-4da6-9c54-03ea31baa830\",\"type\":\"LinearScale\"},{\"attributes\":{},\"id\":\"6220285a-497c-4ee9-9bb8-5a6cd62086c0\",\"type\":\"YearsTicker\"},{\"attributes\":{\"num_minor_ticks\":5,\"tickers\":[{\"id\":\"082a2ac9-56f7-4705-9aab-4fdd0a11c929\",\"type\":\"AdaptiveTicker\"},{\"id\":\"6f291205-c9b0-42dd-98df-a7cb897cec9a\",\"type\":\"AdaptiveTicker\"},{\"id\":\"f9f384cc-3c5b-4486-93e1-d601eff3b4c3\",\"type\":\"AdaptiveTicker\"},{\"id\":\"65e50834-a315-4348-a8ce-2e10fa5a4370\",\"type\":\"DaysTicker\"},{\"id\":\"89f3e091-9b6b-4f06-ac41-c5fb0c3186d5\",\"type\":\"DaysTicker\"},{\"id\":\"3d3ee8c9-3b40-4c51-9d0e-e3a6e6cbcd9f\",\"type\":\"DaysTicker\"},{\"id\":\"72569e04-b07d-42a1-ba83-3cc08145462c\",\"type\":\"DaysTicker\"},{\"id\":\"9b55eec9-7842-427b-ac36-01a9f31d8d29\",\"type\":\"MonthsTicker\"},{\"id\":\"17b20ae2-0b4a-4cfc-9960-09de5b800d9f\",\"type\":\"MonthsTicker\"},{\"id\":\"21a61010-998b-402b-b323-86a5832f1350\",\"type\":\"MonthsTicker\"},{\"id\":\"02aa5a26-7b9a-4251-8f3a-f10737dd712c\",\"type\":\"MonthsTicker\"},{\"id\":\"6220285a-497c-4ee9-9bb8-5a6cd62086c0\",\"type\":\"YearsTicker\"}]},\"id\":\"1a280d39-e828-4343-8134-cb7fc19e0a87\",\"type\":\"DatetimeTicker\"},{\"attributes\":{\"callback\":null},\"id\":\"5a96a57c-2e2d-493e-866c-ca57442c5901\",\"type\":\"DataRange1d\"},{\"attributes\":{},\"id\":\"3f9dc9cb-bbf2-48c4-a55a-a8387f33ffeb\",\"type\":\"Selection\"},{\"attributes\":{\"plot\":{\"id\":\"d56dd699-0abd-4a98-adc3-bab0104d6ae3\",\"subtype\":\"Figure\",\"type\":\"Plot\"},\"ticker\":{\"id\":\"1a280d39-e828-4343-8134-cb7fc19e0a87\",\"type\":\"DatetimeTicker\"}},\"id\":\"5a1552f6-a4ed-45a2-9025-25382329f296\",\"type\":\"Grid\"},{\"attributes\":{},\"id\":\"f7f7cbe5-c412-479d-9d1a-193beac746db\",\"type\":\"UnionRenderers\"},{\"attributes\":{\"line_alpha\":0.1,\"line_color\":\"#1f77b4\",\"x\":{\"field\":\"x\"},\"y\":{\"field\":\"y\"}},\"id\":\"b9031ae3-721c-45c5-89c6-2877faa6d89b\",\"type\":\"Line\"},{\"attributes\":{\"mantissas\":[1,2,5],\"max_interval\":500.0,\"num_minor_ticks\":0},\"id\":\"082a2ac9-56f7-4705-9aab-4fdd0a11c929\",\"type\":\"AdaptiveTicker\"},{\"attributes\":{\"formatter\":{\"id\":\"b7297165-a1de-49e4-b6d4-0c91fbec7c3f\",\"type\":\"DatetimeTickFormatter\"},\"plot\":{\"id\":\"d56dd699-0abd-4a98-adc3-bab0104d6ae3\",\"subtype\":\"Figure\",\"type\":\"Plot\"},\"ticker\":{\"id\":\"1a280d39-e828-4343-8134-cb7fc19e0a87\",\"type\":\"DatetimeTicker\"}},\"id\":\"26c12021-6802-473b-9e5a-1e6956f480a2\",\"type\":\"DatetimeAxis\"},{\"attributes\":{\"dimension\":1,\"plot\":{\"id\":\"d56dd699-0abd-4a98-adc3-bab0104d6ae3\",\"subtype\":\"Figure\",\"type\":\"Plot\"},\"ticker\":{\"id\":\"030af15a-c47f-4912-9324-0cfa8e7884c8\",\"type\":\"BasicTicker\"}},\"id\":\"718ed54e-214f-4e00-8dcd-c8af45dc36fb\",\"type\":\"Grid\"},{\"attributes\":{\"base\":24,\"mantissas\":[1,2,4,6,8,12],\"max_interval\":43200000.0,\"min_interval\":3600000.0,\"num_minor_ticks\":0},\"id\":\"f9f384cc-3c5b-4486-93e1-d601eff3b4c3\",\"type\":\"AdaptiveTicker\"},{\"attributes\":{\"bottom_units\":\"screen\",\"fill_alpha\":{\"value\":0.5},\"fill_color\":{\"value\":\"lightgrey\"},\"left_units\":\"screen\",\"level\":\"overlay\",\"line_alpha\":{\"value\":1.0},\"line_color\":{\"value\":\"black\"},\"line_dash\":[4,4],\"line_width\":{\"value\":2},\"plot\":null,\"render_mode\":\"css\",\"right_units\":\"screen\",\"top_units\":\"screen\"},\"id\":\"1820a370-9d98-4fe5-8103-5603f100a794\",\"type\":\"BoxAnnotation\"},{\"attributes\":{\"days\":[1,8,15,22]},\"id\":\"3d3ee8c9-3b40-4c51-9d0e-e3a6e6cbcd9f\",\"type\":\"DaysTicker\"},{\"attributes\":{\"days\":[1,15]},\"id\":\"72569e04-b07d-42a1-ba83-3cc08145462c\",\"type\":\"DaysTicker\"},{\"attributes\":{\"months\":[0,1,2,3,4,5,6,7,8,9,10,11]},\"id\":\"9b55eec9-7842-427b-ac36-01a9f31d8d29\",\"type\":\"MonthsTicker\"},{\"attributes\":{\"active_drag\":\"auto\",\"active_inspect\":\"auto\",\"active_scroll\":\"auto\",\"active_tap\":\"auto\",\"tools\":[{\"id\":\"b79772f1-c5e2-48e5-8277-c28e0ec92848\",\"type\":\"PanTool\"},{\"id\":\"c3b86583-b851-4692-8df0-4208658f31d0\",\"type\":\"WheelZoomTool\"},{\"id\":\"2f00c57b-718f-4f14-980c-f2aaa3a526c4\",\"type\":\"BoxZoomTool\"},{\"id\":\"60e64531-2dc2-4dad-97d1-5597cb1f6855\",\"type\":\"SaveTool\"},{\"id\":\"432946e1-ab9c-44af-8e22-0dd022d9b568\",\"type\":\"ResetTool\"},{\"id\":\"31cb2940-247b-4cfc-890b-c40962b58e78\",\"type\":\"HelpTool\"}]},\"id\":\"ce4355d2-a8b9-4e39-aeff-ad5c7c7639b4\",\"type\":\"Toolbar\"},{\"attributes\":{\"source\":{\"id\":\"9c04c298-2fe7-412f-8277-d6c5ba51a50b\",\"type\":\"ColumnDataSource\"}},\"id\":\"f581c7ae-2b64-437e-9314-2a7e5d4e84d4\",\"type\":\"CDSView\"},{\"attributes\":{\"months\":[0,2,4,6,8,10]},\"id\":\"17b20ae2-0b4a-4cfc-9960-09de5b800d9f\",\"type\":\"MonthsTicker\"},{\"attributes\":{\"months\":[0,4,8]},\"id\":\"21a61010-998b-402b-b323-86a5832f1350\",\"type\":\"MonthsTicker\"},{\"attributes\":{\"plot\":null,\"text\":\"Time Series for TCS\"},\"id\":\"68510098-46d4-4042-b725-845df2062c18\",\"type\":\"Title\"},{\"attributes\":{\"overlay\":{\"id\":\"1820a370-9d98-4fe5-8103-5603f100a794\",\"type\":\"BoxAnnotation\"}},\"id\":\"2f00c57b-718f-4f14-980c-f2aaa3a526c4\",\"type\":\"BoxZoomTool\"},{\"attributes\":{},\"id\":\"60e64531-2dc2-4dad-97d1-5597cb1f6855\",\"type\":\"SaveTool\"},{\"attributes\":{},\"id\":\"432946e1-ab9c-44af-8e22-0dd022d9b568\",\"type\":\"ResetTool\"},{\"attributes\":{},\"id\":\"31cb2940-247b-4cfc-890b-c40962b58e78\",\"type\":\"HelpTool\"},{\"attributes\":{},\"id\":\"afe3318d-7c5e-4ef2-81ed-5e73bd955d7a\",\"type\":\"UnionRenderers\"},{\"attributes\":{\"callback\":null},\"id\":\"b73ebc99-7c84-49a1-b18d-4b0b84d5472e\",\"type\":\"DataRange1d\"},{\"attributes\":{},\"id\":\"b79772f1-c5e2-48e5-8277-c28e0ec92848\",\"type\":\"PanTool\"},{\"attributes\":{\"data_source\":{\"id\":\"9c04c298-2fe7-412f-8277-d6c5ba51a50b\",\"type\":\"ColumnDataSource\"},\"glyph\":{\"id\":\"6f414913-1eb3-4266-83cc-e70f5bc83be9\",\"type\":\"Line\"},\"hover_glyph\":null,\"muted_glyph\":null,\"nonselection_glyph\":{\"id\":\"b9031ae3-721c-45c5-89c6-2877faa6d89b\",\"type\":\"Line\"},\"selection_glyph\":null,\"view\":{\"id\":\"f581c7ae-2b64-437e-9314-2a7e5d4e84d4\",\"type\":\"CDSView\"}},\"id\":\"0bb9e355-e8ac-4d01-8ec0-6dcd5894d98f\",\"type\":\"GlyphRenderer\"},{\"attributes\":{},\"id\":\"c3b86583-b851-4692-8df0-4208658f31d0\",\"type\":\"WheelZoomTool\"},{\"attributes\":{\"line_alpha\":0.5,\"line_color\":\"blue\",\"x\":{\"field\":\"x\"},\"y\":{\"field\":\"y\"}},\"id\":\"6f414913-1eb3-4266-83cc-e70f5bc83be9\",\"type\":\"Line\"},{\"attributes\":{\"fill_color\":{\"value\":\"red\"},\"line_color\":{\"value\":\"red\"},\"size\":{\"units\":\"screen\",\"value\":2},\"x\":{\"field\":\"x\"},\"y\":{\"field\":\"y\"}},\"id\":\"042c5720-519e-4ecb-902e-b88d9b92650a\",\"type\":\"Circle\"},{\"attributes\":{\"days\":[1,4,7,10,13,16,19,22,25,28]},\"id\":\"89f3e091-9b6b-4f06-ac41-c5fb0c3186d5\",\"type\":\"DaysTicker\"},{\"attributes\":{},\"id\":\"e2fa891a-12e8-417a-84eb-a5487a10f78b\",\"type\":\"BasicTickFormatter\"},{\"attributes\":{},\"id\":\"b7297165-a1de-49e4-b6d4-0c91fbec7c3f\",\"type\":\"DatetimeTickFormatter\"},{\"attributes\":{\"fill_alpha\":{\"value\":0.1},\"fill_color\":{\"value\":\"#1f77b4\"},\"line_alpha\":{\"value\":0.1},\"line_color\":{\"value\":\"#1f77b4\"},\"size\":{\"units\":\"screen\",\"value\":2},\"x\":{\"field\":\"x\"},\"y\":{\"field\":\"y\"}},\"id\":\"89f3583d-ecad-4839-b5a0-414a43784b27\",\"type\":\"Circle\"},{\"attributes\":{\"base\":60,\"mantissas\":[1,2,5,10,15,20,30],\"max_interval\":1800000.0,\"min_interval\":1000.0,\"num_minor_ticks\":0},\"id\":\"6f291205-c9b0-42dd-98df-a7cb897cec9a\",\"type\":\"AdaptiveTicker\"},{\"attributes\":{\"data_source\":{\"id\":\"5c98721a-f9d3-4208-86c1-ef91fe287870\",\"type\":\"ColumnDataSource\"},\"glyph\":{\"id\":\"042c5720-519e-4ecb-902e-b88d9b92650a\",\"type\":\"Circle\"},\"hover_glyph\":null,\"muted_glyph\":null,\"nonselection_glyph\":{\"id\":\"89f3583d-ecad-4839-b5a0-414a43784b27\",\"type\":\"Circle\"},\"selection_glyph\":null,\"view\":{\"id\":\"1515d793-0892-46a3-a08e-b1c89a1e750b\",\"type\":\"CDSView\"}},\"id\":\"c54238c9-da0e-467f-bef1-8eee3989a71e\",\"type\":\"GlyphRenderer\"},{\"attributes\":{\"source\":{\"id\":\"5c98721a-f9d3-4208-86c1-ef91fe287870\",\"type\":\"ColumnDataSource\"}},\"id\":\"1515d793-0892-46a3-a08e-b1c89a1e750b\",\"type\":\"CDSView\"},{\"attributes\":{\"callback\":null,\"data\":{\"x\":{\"__ndarray__\":\"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\",\"dtype\":\"float64\",\"shape\":[203]},\"y\":{\"__ndarray__\":\"ZmZmZuYmpEAAAAAAgNijQDMzMzMzHaNAmpmZmZkXo0CamZmZmaCjQGZmZmZmm6NAZmZmZuazo0AzMzMzM9ajQAAAAAAAnqNAZmZmZuaIo0CamZmZmaOjQDMzMzMzj6NAmpmZmRmMo0AzMzMzM9ejQM3MzMxM4aNAmpmZmRlko0BmZmZmZqSjQAAAAACA/KNAzczMzMzwo0AAAAAAgB+kQM3MzMxMEqNAzczMzMw3o0AAAAAAgNWjQJqZmZmZMaRAzczMzEyXpECamZmZGeekQM3MzMxMEaVAAAAAAIAhpUBmZmZmZuCkQGZmZmbmwKRAMzMzM7PMpEAAAAAAgOakQM3MzMzM2qRAAAAAAACwpUAAAAAAAHSlQGZmZmbmEKVAmpmZmZmtpECamZmZGV2kQJqZmZkZdqRAMzMzM7MspEBmZmZmZi+kQAAAAACASKRAZmZmZuZlpEDNzMzMTHKkQJqZmZmZPqRAMzMzMzOio0CamZmZmaWjQM3MzMxMCKRAZmZmZubzo0DNzMzMTN2jQJqZmZmZ5qNAAAAAAAAypEDNzMzMzKKkQJqZmZkZ0aRAAAAAAIC7pEAAAAAAAL+kQAAAAACAh6RAMzMzM7NVo0CamZmZmfmiQJqZmZkZ9qJAMzMzMzMao0CamZmZGXqjQGZmZmZmiKNAAAAAAAB+o0CamZmZmW6jQGZmZmZmP6NAmpmZmRljo0AzMzMzs6ujQAAAAAAA+KNAzczMzMymo0AAAAAAgIajQM3MzMxMnqNAzczMzMywo0BmZmZmZqGjQAAAAAAA96NAzczMzMxzpEAAAAAAAFKkQDMzMzOzYaRAAAAAAIBupEAAAAAAAGOkQJqZmZmZZKRAAAAAAIBzpEDNzMzMzE+kQM3MzMzMZaRAzczMzExbpEAzMzMzsx+kQGZmZmbmIqRAzczMzEwDpECamZmZmRakQJqZmZmZk6NAAAAAAACgo0CamZmZmaOjQAAAAAAAP6RAMzMzMzMdpECamZmZmRSkQAAAAAAA7KNAmpmZmZlBpEBmZmZm5u2jQDMzMzMzQqRAAAAAAIAjpEDNzMzMzFekQJqZmZmZkqRAAAAAAIBwpEAzMzMzM0akQAAAAAAAtaNAMzMzM7NUo0CamZmZGZujQAAAAAAAh6NAAAAAAIDjo0BmZmZmZtijQM3MzMzMCKRAzczMzEwmpEDNzMzMzAKkQDMzMzMzcaNAmpmZmRmCo0AAAAAAgJWjQM3MzMxMYaNAAAAAAICdo0AzMzMzM5ujQM3MzMzMmaNAzczMzEzmo0CamZmZmRqkQJqZmZkZ8KNAMzMzMzMYpEBmZmZmZlikQGZmZmZm36RAMzMzMzOXpEBmZmZmZh6lQAAAAACA+aRAzczMzMxppUAzMzMzM1ulQDMzMzOz/aRAzczMzEzopEDNzMzMTCWkQM3MzMxMDqRAAAAAAIAhpEDNzMzMTB2kQDMzMzOzFaRAmpmZmRkIpEDNzMzMzNKjQJqZmZmZP6RAMzMzMzNbpEAAAAAAgNejQAAAAACA66NAzczMzMzio0AAAAAAAPCjQDMzMzMz56NAMzMzM7Pso0AAAAAAgO6jQJqZmZkZ7qNAmpmZmZm9o0DNzMzMTMmjQM3MzMzMKKRAAAAAAIA4pEAzMzMzM6mkQM3MzMxML6VAAAAAAAAYpUBmZmZm5rukQJqZmZmZk6RAmpmZmRlNpEBmZmZmZmejQAAAAACAR6NAAAAAAIBTo0AAAAAAgHGjQAAAAACAvaNAAAAAAADEo0DNzMzMTNKjQJqZmZkZ0aNAMzMzMzPCo0AzMzMzs36jQGZmZmZmfqNAMzMzM7Oqo0CamZmZmcujQM3MzMxMZaNAAAAAAICTo0AzMzMzs06jQM3MzMxMNKNAmpmZmZlJo0DNzMzMzLqiQDMzMzMzjaJAZmZmZuZeokCamZmZGXWiQJqZmZkZrqJAmpmZmRlTokAzMzMzs2KiQGZmZmZmeaJAzczMzMxzokAAAAAAgF2iQM3MzMzMMKJAAAAAAAAyokDNzMzMTH+iQJqZmZkZoaJAZmZmZuaUokAzMzMzs4+iQM3MzMzM0KJAAAAAAIAPo0CamZmZmeGiQM3MzMzMHKNAmpmZmZnzokBmZmZmZj2jQJqZmZmZL6NAMzMzM7MJo0DNzMzMzOCiQA==\",\"dtype\":\"float64\",\"shape\":[203]}},\"selected\":{\"id\":\"f7d0fb0a-683a-45b3-911b-058f0def486a\",\"type\":\"Selection\"},\"selection_policy\":{\"id\":\"afe3318d-7c5e-4ef2-81ed-5e73bd955d7a\",\"type\":\"UnionRenderers\"}},\"id\":\"5c98721a-f9d3-4208-86c1-ef91fe287870\",\"type\":\"ColumnDataSource\"},{\"attributes\":{\"days\":[1,2,3,4,5,6,7,8,9,10,11,12,13,14,15,16,17,18,19,20,21,22,23,24,25,26,27,28,29,30,31]},\"id\":\"65e50834-a315-4348-a8ce-2e10fa5a4370\",\"type\":\"DaysTicker\"}],\"root_ids\":[\"d56dd699-0abd-4a98-adc3-bab0104d6ae3\"]},\"title\":\"Bokeh Application\",\"version\":\"0.12.16\"}};\n",
       "  var render_items = [{\"docid\":\"7d07f533-0cad-4db8-a9b9-9f370a541559\",\"elementid\":\"77923e56-6d59-4864-8acb-fb87d13e46f9\",\"modelid\":\"d56dd699-0abd-4a98-adc3-bab0104d6ae3\"}];\n",
       "  root.Bokeh.embed.embed_items_notebook(docs_json, render_items);\n",
       "\n",
       "  }\n",
       "  if (root.Bokeh !== undefined) {\n",
       "    embed_document(root);\n",
       "  } else {\n",
       "    var attempts = 0;\n",
       "    var timer = setInterval(function(root) {\n",
       "      if (root.Bokeh !== undefined) {\n",
       "        embed_document(root);\n",
       "        clearInterval(timer);\n",
       "      }\n",
       "      attempts++;\n",
       "      if (attempts > 100) {\n",
       "        console.log(\"Bokeh: ERROR: Unable to run BokehJS code because BokehJS library is missing\")\n",
       "        clearInterval(timer);\n",
       "      }\n",
       "    }, 10, root)\n",
       "  }\n",
       "})(window);"
      ],
      "application/vnd.bokehjs_exec.v0+json": ""
     },
     "metadata": {
      "application/vnd.bokehjs_exec.v0+json": {
       "id": "d56dd699-0abd-4a98-adc3-bab0104d6ae3"
      }
     },
     "output_type": "display_data"
    },
    {
     "data": {
      "text/html": [
       "\n",
       "<div class=\"bk-root\">\n",
       "    <div class=\"bk-plotdiv\" id=\"6f999dfd-f887-42af-847d-0b2955430208\"></div>\n",
       "</div>"
      ]
     },
     "metadata": {},
     "output_type": "display_data"
    },
    {
     "data": {
      "application/javascript": [
       "(function(root) {\n",
       "  function embed_document(root) {\n",
       "    \n",
       "  var docs_json = {\"22b9bf27-abb0-458f-ba18-2eec44d2a12a\":{\"roots\":{\"references\":[{\"attributes\":{\"base\":24,\"mantissas\":[1,2,4,6,8,12],\"max_interval\":43200000.0,\"min_interval\":3600000.0,\"num_minor_ticks\":0},\"id\":\"6755b001-1965-4fab-8a17-4ecc3fb5fb94\",\"type\":\"AdaptiveTicker\"},{\"attributes\":{},\"id\":\"7765116d-20e3-4458-a2a5-03c28d2adbc6\",\"type\":\"PanTool\"},{\"attributes\":{\"below\":[{\"id\":\"e50d0403-6d2c-4769-8234-eb91a65b21fc\",\"type\":\"DatetimeAxis\"}],\"left\":[{\"id\":\"6909d68a-93ae-4ac5-9751-2e88aff60c45\",\"type\":\"LinearAxis\"}],\"plot_height\":400,\"plot_width\":800,\"renderers\":[{\"id\":\"e50d0403-6d2c-4769-8234-eb91a65b21fc\",\"type\":\"DatetimeAxis\"},{\"id\":\"93650e56-a182-4e83-a98c-775b04184c15\",\"type\":\"Grid\"},{\"id\":\"6909d68a-93ae-4ac5-9751-2e88aff60c45\",\"type\":\"LinearAxis\"},{\"id\":\"4176ea53-9640-4557-9ea8-55d55916216a\",\"type\":\"Grid\"},{\"id\":\"d32e884c-cc00-46b5-bd12-a5897e13e0a8\",\"type\":\"BoxAnnotation\"},{\"id\":\"e78efa6b-b5b1-4e5e-b8ba-9365662e70d0\",\"type\":\"GlyphRenderer\"},{\"id\":\"a3489d8a-2336-4766-8d28-07c052937fac\",\"type\":\"Legend\"},{\"id\":\"e1b35fdb-2b10-49cf-854f-81e806644467\",\"type\":\"GlyphRenderer\"}],\"title\":{\"id\":\"12b8eb3d-2a20-485f-9b6b-7be2fd9ee9d6\",\"type\":\"Title\"},\"toolbar\":{\"id\":\"9803efa0-2fe4-4a8f-9a71-e295782aa82c\",\"type\":\"Toolbar\"},\"x_range\":{\"id\":\"3c4ec789-3e4f-47b2-a7ea-a5d268b439db\",\"type\":\"DataRange1d\"},\"x_scale\":{\"id\":\"9184a0f0-90cd-4547-b12a-83839a859c43\",\"type\":\"LinearScale\"},\"y_range\":{\"id\":\"78fa950f-1b50-4661-8a33-3adf5bcbbac3\",\"type\":\"DataRange1d\"},\"y_scale\":{\"id\":\"1f2a6651-2f83-401e-af7a-03dd1ff57222\",\"type\":\"LinearScale\"}},\"id\":\"9a6a341b-4367-42e9-af7c-d107589f5050\",\"subtype\":\"Figure\",\"type\":\"Plot\"},{\"attributes\":{\"days\":[1,8,15,22]},\"id\":\"1ee34408-1306-4b54-a9fc-84f2a84f4792\",\"type\":\"DaysTicker\"},{\"attributes\":{\"bottom_units\":\"screen\",\"fill_alpha\":{\"value\":0.5},\"fill_color\":{\"value\":\"lightgrey\"},\"left_units\":\"screen\",\"level\":\"overlay\",\"line_alpha\":{\"value\":1.0},\"line_color\":{\"value\":\"black\"},\"line_dash\":[4,4],\"line_width\":{\"value\":2},\"plot\":null,\"render_mode\":\"css\",\"right_units\":\"screen\",\"top_units\":\"screen\"},\"id\":\"d32e884c-cc00-46b5-bd12-a5897e13e0a8\",\"type\":\"BoxAnnotation\"},{\"attributes\":{\"days\":[1,15]},\"id\":\"1f9678ae-4d88-44e1-ae01-ccddfe97311e\",\"type\":\"DaysTicker\"},{\"attributes\":{\"source\":{\"id\":\"20a68f97-65db-4940-85ac-15b0f1dd2f5e\",\"type\":\"ColumnDataSource\"}},\"id\":\"488b7a7b-6cdf-4f74-8c43-6d2ef63234f7\",\"type\":\"CDSView\"},{\"attributes\":{\"months\":[0,1,2,3,4,5,6,7,8,9,10,11]},\"id\":\"beb2b91a-0574-43e3-ad5f-1442fb483588\",\"type\":\"MonthsTicker\"},{\"attributes\":{\"overlay\":{\"id\":\"d32e884c-cc00-46b5-bd12-a5897e13e0a8\",\"type\":\"BoxAnnotation\"}},\"id\":\"e9070626-8c1a-4376-b0eb-ac1080ab75e4\",\"type\":\"BoxZoomTool\"},{\"attributes\":{\"months\":[0,2,4,6,8,10]},\"id\":\"caec1836-a6b9-4eeb-9902-c99696691e42\",\"type\":\"MonthsTicker\"},{\"attributes\":{},\"id\":\"2770d48b-766c-4210-a78f-b32f1eb42127\",\"type\":\"WheelZoomTool\"},{\"attributes\":{\"months\":[0,4,8]},\"id\":\"ca67bed1-23e2-41c3-a9bb-f20a54a64b17\",\"type\":\"MonthsTicker\"},{\"attributes\":{\"months\":[0,6]},\"id\":\"29d26e18-a4b9-472b-81c4-3d40004ba0fa\",\"type\":\"MonthsTicker\"},{\"attributes\":{\"data_source\":{\"id\":\"20a68f97-65db-4940-85ac-15b0f1dd2f5e\",\"type\":\"ColumnDataSource\"},\"glyph\":{\"id\":\"6a471c28-068b-4bd6-a4d4-e4e75919ad82\",\"type\":\"Line\"},\"hover_glyph\":null,\"muted_glyph\":null,\"nonselection_glyph\":{\"id\":\"8ec095cb-ad34-4dbc-88ea-746f4eab7dd8\",\"type\":\"Line\"},\"selection_glyph\":null,\"view\":{\"id\":\"488b7a7b-6cdf-4f74-8c43-6d2ef63234f7\",\"type\":\"CDSView\"}},\"id\":\"e78efa6b-b5b1-4e5e-b8ba-9365662e70d0\",\"type\":\"GlyphRenderer\"},{\"attributes\":{},\"id\":\"44a999c7-cab7-4350-85a1-b7ca2e55a674\",\"type\":\"YearsTicker\"},{\"attributes\":{},\"id\":\"4674c180-4ffb-4f8d-b0e4-0248fe769133\",\"type\":\"Selection\"},{\"attributes\":{},\"id\":\"a65399d8-ac21-4e89-a31f-e4b2d7977e8c\",\"type\":\"UnionRenderers\"},{\"attributes\":{\"dimension\":1,\"plot\":{\"id\":\"9a6a341b-4367-42e9-af7c-d107589f5050\",\"subtype\":\"Figure\",\"type\":\"Plot\"},\"ticker\":{\"id\":\"ea06202b-b6bd-4a69-ad99-8f719acc736e\",\"type\":\"BasicTicker\"}},\"id\":\"4176ea53-9640-4557-9ea8-55d55916216a\",\"type\":\"Grid\"},{\"attributes\":{},\"id\":\"1290fb52-3be8-43bc-ae64-586b582beee1\",\"type\":\"Selection\"},{\"attributes\":{},\"id\":\"af027c0c-c968-4d97-bc66-222dafa0030b\",\"type\":\"UnionRenderers\"},{\"attributes\":{},\"id\":\"58395cad-3584-417a-a519-e5387c39eda9\",\"type\":\"SaveTool\"},{\"attributes\":{},\"id\":\"b1447f91-7f1a-467c-b4ca-50aae753ba8f\",\"type\":\"DatetimeTickFormatter\"},{\"attributes\":{\"num_minor_ticks\":5,\"tickers\":[{\"id\":\"a19509ac-3d7f-41a6-8365-c6a769bcf58a\",\"type\":\"AdaptiveTicker\"},{\"id\":\"f5dacc61-4118-4828-bc95-e3c3cb45f3da\",\"type\":\"AdaptiveTicker\"},{\"id\":\"6755b001-1965-4fab-8a17-4ecc3fb5fb94\",\"type\":\"AdaptiveTicker\"},{\"id\":\"74de0c2f-a316-496b-9af7-b2a3998bc228\",\"type\":\"DaysTicker\"},{\"id\":\"1a58b195-5af6-4050-befa-d8bac0a0817f\",\"type\":\"DaysTicker\"},{\"id\":\"1ee34408-1306-4b54-a9fc-84f2a84f4792\",\"type\":\"DaysTicker\"},{\"id\":\"1f9678ae-4d88-44e1-ae01-ccddfe97311e\",\"type\":\"DaysTicker\"},{\"id\":\"beb2b91a-0574-43e3-ad5f-1442fb483588\",\"type\":\"MonthsTicker\"},{\"id\":\"caec1836-a6b9-4eeb-9902-c99696691e42\",\"type\":\"MonthsTicker\"},{\"id\":\"ca67bed1-23e2-41c3-a9bb-f20a54a64b17\",\"type\":\"MonthsTicker\"},{\"id\":\"29d26e18-a4b9-472b-81c4-3d40004ba0fa\",\"type\":\"MonthsTicker\"},{\"id\":\"44a999c7-cab7-4350-85a1-b7ca2e55a674\",\"type\":\"YearsTicker\"}]},\"id\":\"c88c075d-0b95-4345-91d7-249914f6ccc7\",\"type\":\"DatetimeTicker\"},{\"attributes\":{\"days\":[1,4,7,10,13,16,19,22,25,28]},\"id\":\"1a58b195-5af6-4050-befa-d8bac0a0817f\",\"type\":\"DaysTicker\"},{\"attributes\":{},\"id\":\"d9d81a4d-e3b4-46c5-b7f6-8a32d7536c05\",\"type\":\"BasicTickFormatter\"},{\"attributes\":{\"line_alpha\":0.1,\"line_color\":\"#1f77b4\",\"x\":{\"field\":\"x\"},\"y\":{\"field\":\"y\"}},\"id\":\"8ec095cb-ad34-4dbc-88ea-746f4eab7dd8\",\"type\":\"Line\"},{\"attributes\":{\"base\":60,\"mantissas\":[1,2,5,10,15,20,30],\"max_interval\":1800000.0,\"min_interval\":1000.0,\"num_minor_ticks\":0},\"id\":\"f5dacc61-4118-4828-bc95-e3c3cb45f3da\",\"type\":\"AdaptiveTicker\"},{\"attributes\":{\"days\":[1,2,3,4,5,6,7,8,9,10,11,12,13,14,15,16,17,18,19,20,21,22,23,24,25,26,27,28,29,30,31]},\"id\":\"74de0c2f-a316-496b-9af7-b2a3998bc228\",\"type\":\"DaysTicker\"},{\"attributes\":{\"label\":{\"value\":\"Volume Shock>10%\"},\"renderers\":[{\"id\":\"e1b35fdb-2b10-49cf-854f-81e806644467\",\"type\":\"GlyphRenderer\"}]},\"id\":\"eb635684-826c-440a-80de-1de211348114\",\"type\":\"LegendItem\"},{\"attributes\":{\"callback\":null},\"id\":\"78fa950f-1b50-4661-8a33-3adf5bcbbac3\",\"type\":\"DataRange1d\"},{\"attributes\":{\"formatter\":{\"id\":\"d9d81a4d-e3b4-46c5-b7f6-8a32d7536c05\",\"type\":\"BasicTickFormatter\"},\"plot\":{\"id\":\"9a6a341b-4367-42e9-af7c-d107589f5050\",\"subtype\":\"Figure\",\"type\":\"Plot\"},\"ticker\":{\"id\":\"ea06202b-b6bd-4a69-ad99-8f719acc736e\",\"type\":\"BasicTicker\"}},\"id\":\"6909d68a-93ae-4ac5-9751-2e88aff60c45\",\"type\":\"LinearAxis\"},{\"attributes\":{\"source\":{\"id\":\"5303fb53-e095-4858-b290-a1e46f15989a\",\"type\":\"ColumnDataSource\"}},\"id\":\"8cf69dcb-5b65-4a28-8979-6f365e1dc95c\",\"type\":\"CDSView\"},{\"attributes\":{\"plot\":{\"id\":\"9a6a341b-4367-42e9-af7c-d107589f5050\",\"subtype\":\"Figure\",\"type\":\"Plot\"},\"ticker\":{\"id\":\"c88c075d-0b95-4345-91d7-249914f6ccc7\",\"type\":\"DatetimeTicker\"}},\"id\":\"93650e56-a182-4e83-a98c-775b04184c15\",\"type\":\"Grid\"},{\"attributes\":{\"callback\":null,\"data\":{\"x\":{\"__ndarray__\":\"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\",\"dtype\":\"float64\",\"shape\":[203]},\"y\":{\"__ndarray__\":\"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\",\"dtype\":\"float64\",\"shape\":[203]}},\"selected\":{\"id\":\"1290fb52-3be8-43bc-ae64-586b582beee1\",\"type\":\"Selection\"},\"selection_policy\":{\"id\":\"af027c0c-c968-4d97-bc66-222dafa0030b\",\"type\":\"UnionRenderers\"}},\"id\":\"5303fb53-e095-4858-b290-a1e46f15989a\",\"type\":\"ColumnDataSource\"},{\"attributes\":{},\"id\":\"06962f5d-f061-404a-87fe-d416eec19f31\",\"type\":\"ResetTool\"},{\"attributes\":{},\"id\":\"9184a0f0-90cd-4547-b12a-83839a859c43\",\"type\":\"LinearScale\"},{\"attributes\":{\"active_drag\":\"auto\",\"active_inspect\":\"auto\",\"active_scroll\":\"auto\",\"active_tap\":\"auto\",\"tools\":[{\"id\":\"7765116d-20e3-4458-a2a5-03c28d2adbc6\",\"type\":\"PanTool\"},{\"id\":\"2770d48b-766c-4210-a78f-b32f1eb42127\",\"type\":\"WheelZoomTool\"},{\"id\":\"e9070626-8c1a-4376-b0eb-ac1080ab75e4\",\"type\":\"BoxZoomTool\"},{\"id\":\"58395cad-3584-417a-a519-e5387c39eda9\",\"type\":\"SaveTool\"},{\"id\":\"06962f5d-f061-404a-87fe-d416eec19f31\",\"type\":\"ResetTool\"},{\"id\":\"10063bb1-a76a-452f-947a-1b56cfd607bb\",\"type\":\"HelpTool\"}]},\"id\":\"9803efa0-2fe4-4a8f-9a71-e295782aa82c\",\"type\":\"Toolbar\"},{\"attributes\":{},\"id\":\"10063bb1-a76a-452f-947a-1b56cfd607bb\",\"type\":\"HelpTool\"},{\"attributes\":{\"plot\":null,\"text\":\"Time Series for INFY\"},\"id\":\"12b8eb3d-2a20-485f-9b6b-7be2fd9ee9d6\",\"type\":\"Title\"},{\"attributes\":{\"data_source\":{\"id\":\"5303fb53-e095-4858-b290-a1e46f15989a\",\"type\":\"ColumnDataSource\"},\"glyph\":{\"id\":\"940c6c54-5aea-438e-8b0d-a870752c92ba\",\"type\":\"Circle\"},\"hover_glyph\":null,\"muted_glyph\":null,\"nonselection_glyph\":{\"id\":\"d8c49478-6bce-4750-a706-caa9dcc0bb52\",\"type\":\"Circle\"},\"selection_glyph\":null,\"view\":{\"id\":\"8cf69dcb-5b65-4a28-8979-6f365e1dc95c\",\"type\":\"CDSView\"}},\"id\":\"e1b35fdb-2b10-49cf-854f-81e806644467\",\"type\":\"GlyphRenderer\"},{\"attributes\":{},\"id\":\"ea06202b-b6bd-4a69-ad99-8f719acc736e\",\"type\":\"BasicTicker\"},{\"attributes\":{\"fill_alpha\":{\"value\":0.1},\"fill_color\":{\"value\":\"#1f77b4\"},\"line_alpha\":{\"value\":0.1},\"line_color\":{\"value\":\"#1f77b4\"},\"size\":{\"units\":\"screen\",\"value\":2},\"x\":{\"field\":\"x\"},\"y\":{\"field\":\"y\"}},\"id\":\"d8c49478-6bce-4750-a706-caa9dcc0bb52\",\"type\":\"Circle\"},{\"attributes\":{\"callback\":null,\"data\":{\"x\":{\"__ndarray__\":\"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\",\"dtype\":\"float64\",\"shape\":[249]},\"y\":{\"__ndarray__\":\"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\",\"dtype\":\"float64\",\"shape\":[249]}},\"selected\":{\"id\":\"4674c180-4ffb-4f8d-b0e4-0248fe769133\",\"type\":\"Selection\"},\"selection_policy\":{\"id\":\"a65399d8-ac21-4e89-a31f-e4b2d7977e8c\",\"type\":\"UnionRenderers\"}},\"id\":\"20a68f97-65db-4940-85ac-15b0f1dd2f5e\",\"type\":\"ColumnDataSource\"},{\"attributes\":{\"fill_color\":{\"value\":\"red\"},\"line_color\":{\"value\":\"red\"},\"size\":{\"units\":\"screen\",\"value\":2},\"x\":{\"field\":\"x\"},\"y\":{\"field\":\"y\"}},\"id\":\"940c6c54-5aea-438e-8b0d-a870752c92ba\",\"type\":\"Circle\"},{\"attributes\":{\"items\":[{\"id\":\"eb635684-826c-440a-80de-1de211348114\",\"type\":\"LegendItem\"}],\"plot\":{\"id\":\"9a6a341b-4367-42e9-af7c-d107589f5050\",\"subtype\":\"Figure\",\"type\":\"Plot\"}},\"id\":\"a3489d8a-2336-4766-8d28-07c052937fac\",\"type\":\"Legend\"},{\"attributes\":{\"line_alpha\":0.5,\"line_color\":\"blue\",\"x\":{\"field\":\"x\"},\"y\":{\"field\":\"y\"}},\"id\":\"6a471c28-068b-4bd6-a4d4-e4e75919ad82\",\"type\":\"Line\"},{\"attributes\":{},\"id\":\"1f2a6651-2f83-401e-af7a-03dd1ff57222\",\"type\":\"LinearScale\"},{\"attributes\":{\"mantissas\":[1,2,5],\"max_interval\":500.0,\"num_minor_ticks\":0},\"id\":\"a19509ac-3d7f-41a6-8365-c6a769bcf58a\",\"type\":\"AdaptiveTicker\"},{\"attributes\":{\"formatter\":{\"id\":\"b1447f91-7f1a-467c-b4ca-50aae753ba8f\",\"type\":\"DatetimeTickFormatter\"},\"plot\":{\"id\":\"9a6a341b-4367-42e9-af7c-d107589f5050\",\"subtype\":\"Figure\",\"type\":\"Plot\"},\"ticker\":{\"id\":\"c88c075d-0b95-4345-91d7-249914f6ccc7\",\"type\":\"DatetimeTicker\"}},\"id\":\"e50d0403-6d2c-4769-8234-eb91a65b21fc\",\"type\":\"DatetimeAxis\"},{\"attributes\":{\"callback\":null},\"id\":\"3c4ec789-3e4f-47b2-a7ea-a5d268b439db\",\"type\":\"DataRange1d\"}],\"root_ids\":[\"9a6a341b-4367-42e9-af7c-d107589f5050\"]},\"title\":\"Bokeh Application\",\"version\":\"0.12.16\"}};\n",
       "  var render_items = [{\"docid\":\"22b9bf27-abb0-458f-ba18-2eec44d2a12a\",\"elementid\":\"6f999dfd-f887-42af-847d-0b2955430208\",\"modelid\":\"9a6a341b-4367-42e9-af7c-d107589f5050\"}];\n",
       "  root.Bokeh.embed.embed_items_notebook(docs_json, render_items);\n",
       "\n",
       "  }\n",
       "  if (root.Bokeh !== undefined) {\n",
       "    embed_document(root);\n",
       "  } else {\n",
       "    var attempts = 0;\n",
       "    var timer = setInterval(function(root) {\n",
       "      if (root.Bokeh !== undefined) {\n",
       "        embed_document(root);\n",
       "        clearInterval(timer);\n",
       "      }\n",
       "      attempts++;\n",
       "      if (attempts > 100) {\n",
       "        console.log(\"Bokeh: ERROR: Unable to run BokehJS code because BokehJS library is missing\")\n",
       "        clearInterval(timer);\n",
       "      }\n",
       "    }, 10, root)\n",
       "  }\n",
       "})(window);"
      ],
      "application/vnd.bokehjs_exec.v0+json": ""
     },
     "metadata": {
      "application/vnd.bokehjs_exec.v0+json": {
       "id": "9a6a341b-4367-42e9-af7c-d107589f5050"
      }
     },
     "output_type": "display_data"
    }
   ],
   "source": [
    "bokeh_plot_1(tcs)\n",
    "bokeh_plot_1(infy)"
   ]
  },
  {
   "cell_type": "markdown",
   "metadata": {},
   "source": [
    "### Time series Plot with Pointed closing Pricing shock without volume shock."
   ]
  },
  {
   "cell_type": "code",
   "execution_count": 7,
   "metadata": {},
   "outputs": [],
   "source": [
    "#closing Pricing shock without volume shock\n",
    "def bokeh_plot_2(stock):\n",
    "    data = dict(stock=stock['Close'], Date=stock.index)\n",
    "    \n",
    "    p = figure(plot_width=800, plot_height=400,  title = 'Time Series for {}' .format(stock.Symbol[0]), x_axis_type=\"datetime\")\n",
    "    p.line(stock.index, stock['Close'], color='blue', alpha=0.5)\n",
    "    \n",
    "    #show price shock w/o vol shock\n",
    "    temp=stock[stock['price_shock_w/0_vol_shock']==1]\n",
    "    p.circle(temp.index, temp.Close,color='red', size=4, legend='price shock without vol shock')\n",
    "    show(p)   "
   ]
  },
  {
   "cell_type": "code",
   "execution_count": 8,
   "metadata": {},
   "outputs": [
    {
     "data": {
      "text/html": [
       "\n",
       "<div class=\"bk-root\">\n",
       "    <div class=\"bk-plotdiv\" id=\"92193d28-f80b-4657-a7f6-b2d0226db5b7\"></div>\n",
       "</div>"
      ]
     },
     "metadata": {},
     "output_type": "display_data"
    },
    {
     "data": {
      "application/javascript": [
       "(function(root) {\n",
       "  function embed_document(root) {\n",
       "    \n",
       "  var docs_json = {\"690d248b-d1d5-4b78-809a-9072371b3b1f\":{\"roots\":{\"references\":[{\"attributes\":{\"bottom_units\":\"screen\",\"fill_alpha\":{\"value\":0.5},\"fill_color\":{\"value\":\"lightgrey\"},\"left_units\":\"screen\",\"level\":\"overlay\",\"line_alpha\":{\"value\":1.0},\"line_color\":{\"value\":\"black\"},\"line_dash\":[4,4],\"line_width\":{\"value\":2},\"plot\":null,\"render_mode\":\"css\",\"right_units\":\"screen\",\"top_units\":\"screen\"},\"id\":\"9bdc764e-c0e7-4faf-80e9-9b26aec63d2d\",\"type\":\"BoxAnnotation\"},{\"attributes\":{},\"id\":\"0f0090db-0f5b-41f5-a07d-f0fee2bb2b4a\",\"type\":\"SaveTool\"},{\"attributes\":{},\"id\":\"1f493046-db5d-4bcf-9914-22809c27221a\",\"type\":\"ResetTool\"},{\"attributes\":{},\"id\":\"71dcb34d-d62e-4c20-a92a-8245869ffcf5\",\"type\":\"HelpTool\"},{\"attributes\":{\"fill_color\":{\"value\":\"red\"},\"line_color\":{\"value\":\"red\"},\"x\":{\"field\":\"x\"},\"y\":{\"field\":\"y\"}},\"id\":\"bf11942c-634a-4218-b5a3-7e46005dbc11\",\"type\":\"Circle\"},{\"attributes\":{\"callback\":null,\"data\":{\"x\":{\"__ndarray__\":\"AABAK7q2dEIAAMBZaNJ0QgAAgL+60nRCAACAcVr5dEI=\",\"dtype\":\"float64\",\"shape\":[4]},\"y\":{\"__ndarray__\":\"zczMzMyho0CamZmZGT6jQAAAAACA4qNAZmZmZubmo0A=\",\"dtype\":\"float64\",\"shape\":[4]}},\"selected\":{\"id\":\"4b802b73-688c-4476-afbf-9cf8d2e6aa08\",\"type\":\"Selection\"},\"selection_policy\":{\"id\":\"481612fa-192a-4544-8ce5-6afebd8e56e7\",\"type\":\"UnionRenderers\"}},\"id\":\"ae517f72-45e2-4848-8102-13583b0f0f04\",\"type\":\"ColumnDataSource\"},{\"attributes\":{\"label\":{\"value\":\"price shock without vol shock\"},\"renderers\":[{\"id\":\"d4855a13-0847-48e6-bb8a-937ee488934b\",\"type\":\"GlyphRenderer\"}]},\"id\":\"9447d025-91c3-40fb-9628-3c528de8e24a\",\"type\":\"LegendItem\"},{\"attributes\":{\"formatter\":{\"id\":\"8f85cadf-785f-4ac3-9f3b-9d5b468a9297\",\"type\":\"DatetimeTickFormatter\"},\"plot\":{\"id\":\"3298d07a-9dd0-4bca-8129-1eb2a3fba6d5\",\"subtype\":\"Figure\",\"type\":\"Plot\"},\"ticker\":{\"id\":\"132e4633-627b-48a8-a7f9-83014be6367a\",\"type\":\"DatetimeTicker\"}},\"id\":\"b5ccdfc0-7f0e-4b4a-ae21-23b853767760\",\"type\":\"DatetimeAxis\"},{\"attributes\":{\"mantissas\":[1,2,5],\"max_interval\":500.0,\"num_minor_ticks\":0},\"id\":\"4381d1f8-05af-4ccb-bd07-20f0f8cffd3b\",\"type\":\"AdaptiveTicker\"},{\"attributes\":{\"plot\":null,\"text\":\"Time Series for TCS\"},\"id\":\"00b33152-403e-4033-8d7a-cc1d4b48e5f1\",\"type\":\"Title\"},{\"attributes\":{},\"id\":\"4b802b73-688c-4476-afbf-9cf8d2e6aa08\",\"type\":\"Selection\"},{\"attributes\":{\"source\":{\"id\":\"ae517f72-45e2-4848-8102-13583b0f0f04\",\"type\":\"ColumnDataSource\"}},\"id\":\"9d12b14e-33d3-42b7-9163-8df4c06a0694\",\"type\":\"CDSView\"},{\"attributes\":{\"data_source\":{\"id\":\"ae517f72-45e2-4848-8102-13583b0f0f04\",\"type\":\"ColumnDataSource\"},\"glyph\":{\"id\":\"bf11942c-634a-4218-b5a3-7e46005dbc11\",\"type\":\"Circle\"},\"hover_glyph\":null,\"muted_glyph\":null,\"nonselection_glyph\":{\"id\":\"24f63325-c626-45eb-9e0b-dedff5f1dd35\",\"type\":\"Circle\"},\"selection_glyph\":null,\"view\":{\"id\":\"9d12b14e-33d3-42b7-9163-8df4c06a0694\",\"type\":\"CDSView\"}},\"id\":\"d4855a13-0847-48e6-bb8a-937ee488934b\",\"type\":\"GlyphRenderer\"},{\"attributes\":{\"days\":[1,2,3,4,5,6,7,8,9,10,11,12,13,14,15,16,17,18,19,20,21,22,23,24,25,26,27,28,29,30,31]},\"id\":\"fcb050d6-ab35-432e-b60a-ef8c7e7327d3\",\"type\":\"DaysTicker\"},{\"attributes\":{\"callback\":null,\"data\":{\"x\":{\"__ndarray__\":\"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\",\"dtype\":\"float64\",\"shape\":[249]},\"y\":{\"__ndarray__\":\"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\",\"dtype\":\"float64\",\"shape\":[249]}},\"selected\":{\"id\":\"3d48cd22-be32-4f30-b8d4-7cc0414466d1\",\"type\":\"Selection\"},\"selection_policy\":{\"id\":\"2a2014fc-d88d-464e-8aa5-b58ee1f779b0\",\"type\":\"UnionRenderers\"}},\"id\":\"f42f6c24-76f5-43fc-b3ca-ab6fbdb69ff0\",\"type\":\"ColumnDataSource\"},{\"attributes\":{},\"id\":\"02f3796f-df98-4e94-88ce-535a98d6fa0c\",\"type\":\"BasicTickFormatter\"},{\"attributes\":{\"dimension\":1,\"plot\":{\"id\":\"3298d07a-9dd0-4bca-8129-1eb2a3fba6d5\",\"subtype\":\"Figure\",\"type\":\"Plot\"},\"ticker\":{\"id\":\"20aa001a-7e91-472e-ac88-7ba75de318a2\",\"type\":\"BasicTicker\"}},\"id\":\"a2a40950-cc53-482f-9c9d-0a91fe238604\",\"type\":\"Grid\"},{\"attributes\":{\"days\":[1,4,7,10,13,16,19,22,25,28]},\"id\":\"be91a16c-1075-4e4a-8d66-8dec71d14553\",\"type\":\"DaysTicker\"},{\"attributes\":{},\"id\":\"8f85cadf-785f-4ac3-9f3b-9d5b468a9297\",\"type\":\"DatetimeTickFormatter\"},{\"attributes\":{\"below\":[{\"id\":\"b5ccdfc0-7f0e-4b4a-ae21-23b853767760\",\"type\":\"DatetimeAxis\"}],\"left\":[{\"id\":\"84688368-08bc-400f-819d-84ad9ee38c49\",\"type\":\"LinearAxis\"}],\"plot_height\":400,\"plot_width\":800,\"renderers\":[{\"id\":\"b5ccdfc0-7f0e-4b4a-ae21-23b853767760\",\"type\":\"DatetimeAxis\"},{\"id\":\"bea82379-a0e5-4b3a-9cbe-40ba6b99765c\",\"type\":\"Grid\"},{\"id\":\"84688368-08bc-400f-819d-84ad9ee38c49\",\"type\":\"LinearAxis\"},{\"id\":\"a2a40950-cc53-482f-9c9d-0a91fe238604\",\"type\":\"Grid\"},{\"id\":\"9bdc764e-c0e7-4faf-80e9-9b26aec63d2d\",\"type\":\"BoxAnnotation\"},{\"id\":\"89de7d04-179c-4002-ac07-259746d243ec\",\"type\":\"GlyphRenderer\"},{\"id\":\"8e076366-146f-407c-9556-99abe116b509\",\"type\":\"Legend\"},{\"id\":\"d4855a13-0847-48e6-bb8a-937ee488934b\",\"type\":\"GlyphRenderer\"}],\"title\":{\"id\":\"00b33152-403e-4033-8d7a-cc1d4b48e5f1\",\"type\":\"Title\"},\"toolbar\":{\"id\":\"da85890a-c5f4-41cc-8f79-ff50aa5c7366\",\"type\":\"Toolbar\"},\"x_range\":{\"id\":\"161d642e-fcda-4f44-ae8b-d485f1e72835\",\"type\":\"DataRange1d\"},\"x_scale\":{\"id\":\"7b0d266d-013e-4f69-a314-18a3b0bd2b14\",\"type\":\"LinearScale\"},\"y_range\":{\"id\":\"27cced5e-9810-41ec-9ce4-e7fb8a2385a6\",\"type\":\"DataRange1d\"},\"y_scale\":{\"id\":\"80d72794-7733-4532-9e71-1e4fecdacf10\",\"type\":\"LinearScale\"}},\"id\":\"3298d07a-9dd0-4bca-8129-1eb2a3fba6d5\",\"subtype\":\"Figure\",\"type\":\"Plot\"},{\"attributes\":{\"fill_alpha\":{\"value\":0.1},\"fill_color\":{\"value\":\"#1f77b4\"},\"line_alpha\":{\"value\":0.1},\"line_color\":{\"value\":\"#1f77b4\"},\"x\":{\"field\":\"x\"},\"y\":{\"field\":\"y\"}},\"id\":\"24f63325-c626-45eb-9e0b-dedff5f1dd35\",\"type\":\"Circle\"},{\"attributes\":{\"line_alpha\":0.1,\"line_color\":\"#1f77b4\",\"x\":{\"field\":\"x\"},\"y\":{\"field\":\"y\"}},\"id\":\"8dfee3c3-d8be-4dac-972b-f9edb211203e\",\"type\":\"Line\"},{\"attributes\":{\"base\":60,\"mantissas\":[1,2,5,10,15,20,30],\"max_interval\":1800000.0,\"min_interval\":1000.0,\"num_minor_ticks\":0},\"id\":\"68b1c416-3098-414f-afde-39f038e060ae\",\"type\":\"AdaptiveTicker\"},{\"attributes\":{},\"id\":\"80d72794-7733-4532-9e71-1e4fecdacf10\",\"type\":\"LinearScale\"},{\"attributes\":{},\"id\":\"481612fa-192a-4544-8ce5-6afebd8e56e7\",\"type\":\"UnionRenderers\"},{\"attributes\":{},\"id\":\"2a2014fc-d88d-464e-8aa5-b58ee1f779b0\",\"type\":\"UnionRenderers\"},{\"attributes\":{\"base\":24,\"mantissas\":[1,2,4,6,8,12],\"max_interval\":43200000.0,\"min_interval\":3600000.0,\"num_minor_ticks\":0},\"id\":\"ccb83668-dd29-44d6-9df9-ad7d6ff12ccc\",\"type\":\"AdaptiveTicker\"},{\"attributes\":{},\"id\":\"ce46685d-829f-4b9e-a257-88f21c4390c6\",\"type\":\"PanTool\"},{\"attributes\":{},\"id\":\"3d48cd22-be32-4f30-b8d4-7cc0414466d1\",\"type\":\"Selection\"},{\"attributes\":{\"callback\":null},\"id\":\"27cced5e-9810-41ec-9ce4-e7fb8a2385a6\",\"type\":\"DataRange1d\"},{\"attributes\":{\"days\":[1,8,15,22]},\"id\":\"c775a758-f801-422d-9a36-bc546f0b996a\",\"type\":\"DaysTicker\"},{\"attributes\":{},\"id\":\"8c8b3e37-349e-4d5b-8103-8252a818ff57\",\"type\":\"WheelZoomTool\"},{\"attributes\":{\"days\":[1,15]},\"id\":\"41781ab5-7eb2-437a-a0e7-bedd76987be1\",\"type\":\"DaysTicker\"},{\"attributes\":{\"months\":[0,2,4,6,8,10]},\"id\":\"6a926830-0ffd-485c-8911-abd11ff87932\",\"type\":\"MonthsTicker\"},{\"attributes\":{\"plot\":{\"id\":\"3298d07a-9dd0-4bca-8129-1eb2a3fba6d5\",\"subtype\":\"Figure\",\"type\":\"Plot\"},\"ticker\":{\"id\":\"132e4633-627b-48a8-a7f9-83014be6367a\",\"type\":\"DatetimeTicker\"}},\"id\":\"bea82379-a0e5-4b3a-9cbe-40ba6b99765c\",\"type\":\"Grid\"},{\"attributes\":{},\"id\":\"aea42142-17ba-4eaa-9413-029ed0b849b7\",\"type\":\"YearsTicker\"},{\"attributes\":{\"num_minor_ticks\":5,\"tickers\":[{\"id\":\"4381d1f8-05af-4ccb-bd07-20f0f8cffd3b\",\"type\":\"AdaptiveTicker\"},{\"id\":\"68b1c416-3098-414f-afde-39f038e060ae\",\"type\":\"AdaptiveTicker\"},{\"id\":\"ccb83668-dd29-44d6-9df9-ad7d6ff12ccc\",\"type\":\"AdaptiveTicker\"},{\"id\":\"fcb050d6-ab35-432e-b60a-ef8c7e7327d3\",\"type\":\"DaysTicker\"},{\"id\":\"be91a16c-1075-4e4a-8d66-8dec71d14553\",\"type\":\"DaysTicker\"},{\"id\":\"c775a758-f801-422d-9a36-bc546f0b996a\",\"type\":\"DaysTicker\"},{\"id\":\"41781ab5-7eb2-437a-a0e7-bedd76987be1\",\"type\":\"DaysTicker\"},{\"id\":\"4008ed51-614e-467b-9191-c0e5614558cc\",\"type\":\"MonthsTicker\"},{\"id\":\"6a926830-0ffd-485c-8911-abd11ff87932\",\"type\":\"MonthsTicker\"},{\"id\":\"68284435-0da8-4f77-959f-8ddea3a7791a\",\"type\":\"MonthsTicker\"},{\"id\":\"e352fbe6-d409-4036-a344-ec2dbfd71729\",\"type\":\"MonthsTicker\"},{\"id\":\"aea42142-17ba-4eaa-9413-029ed0b849b7\",\"type\":\"YearsTicker\"}]},\"id\":\"132e4633-627b-48a8-a7f9-83014be6367a\",\"type\":\"DatetimeTicker\"},{\"attributes\":{\"months\":[0,4,8]},\"id\":\"68284435-0da8-4f77-959f-8ddea3a7791a\",\"type\":\"MonthsTicker\"},{\"attributes\":{\"months\":[0,6]},\"id\":\"e352fbe6-d409-4036-a344-ec2dbfd71729\",\"type\":\"MonthsTicker\"},{\"attributes\":{},\"id\":\"20aa001a-7e91-472e-ac88-7ba75de318a2\",\"type\":\"BasicTicker\"},{\"attributes\":{\"months\":[0,1,2,3,4,5,6,7,8,9,10,11]},\"id\":\"4008ed51-614e-467b-9191-c0e5614558cc\",\"type\":\"MonthsTicker\"},{\"attributes\":{\"source\":{\"id\":\"f42f6c24-76f5-43fc-b3ca-ab6fbdb69ff0\",\"type\":\"ColumnDataSource\"}},\"id\":\"5b8e1608-4f7c-4623-9c79-555d10684176\",\"type\":\"CDSView\"},{\"attributes\":{\"line_alpha\":0.5,\"line_color\":\"blue\",\"x\":{\"field\":\"x\"},\"y\":{\"field\":\"y\"}},\"id\":\"453f2050-347c-47c0-a145-216395aaed30\",\"type\":\"Line\"},{\"attributes\":{\"items\":[{\"id\":\"9447d025-91c3-40fb-9628-3c528de8e24a\",\"type\":\"LegendItem\"}],\"plot\":{\"id\":\"3298d07a-9dd0-4bca-8129-1eb2a3fba6d5\",\"subtype\":\"Figure\",\"type\":\"Plot\"}},\"id\":\"8e076366-146f-407c-9556-99abe116b509\",\"type\":\"Legend\"},{\"attributes\":{\"overlay\":{\"id\":\"9bdc764e-c0e7-4faf-80e9-9b26aec63d2d\",\"type\":\"BoxAnnotation\"}},\"id\":\"30e450c2-f1ee-4669-820e-82d9e75a6445\",\"type\":\"BoxZoomTool\"},{\"attributes\":{\"data_source\":{\"id\":\"f42f6c24-76f5-43fc-b3ca-ab6fbdb69ff0\",\"type\":\"ColumnDataSource\"},\"glyph\":{\"id\":\"453f2050-347c-47c0-a145-216395aaed30\",\"type\":\"Line\"},\"hover_glyph\":null,\"muted_glyph\":null,\"nonselection_glyph\":{\"id\":\"8dfee3c3-d8be-4dac-972b-f9edb211203e\",\"type\":\"Line\"},\"selection_glyph\":null,\"view\":{\"id\":\"5b8e1608-4f7c-4623-9c79-555d10684176\",\"type\":\"CDSView\"}},\"id\":\"89de7d04-179c-4002-ac07-259746d243ec\",\"type\":\"GlyphRenderer\"},{\"attributes\":{},\"id\":\"7b0d266d-013e-4f69-a314-18a3b0bd2b14\",\"type\":\"LinearScale\"},{\"attributes\":{\"formatter\":{\"id\":\"02f3796f-df98-4e94-88ce-535a98d6fa0c\",\"type\":\"BasicTickFormatter\"},\"plot\":{\"id\":\"3298d07a-9dd0-4bca-8129-1eb2a3fba6d5\",\"subtype\":\"Figure\",\"type\":\"Plot\"},\"ticker\":{\"id\":\"20aa001a-7e91-472e-ac88-7ba75de318a2\",\"type\":\"BasicTicker\"}},\"id\":\"84688368-08bc-400f-819d-84ad9ee38c49\",\"type\":\"LinearAxis\"},{\"attributes\":{\"active_drag\":\"auto\",\"active_inspect\":\"auto\",\"active_scroll\":\"auto\",\"active_tap\":\"auto\",\"tools\":[{\"id\":\"ce46685d-829f-4b9e-a257-88f21c4390c6\",\"type\":\"PanTool\"},{\"id\":\"8c8b3e37-349e-4d5b-8103-8252a818ff57\",\"type\":\"WheelZoomTool\"},{\"id\":\"30e450c2-f1ee-4669-820e-82d9e75a6445\",\"type\":\"BoxZoomTool\"},{\"id\":\"0f0090db-0f5b-41f5-a07d-f0fee2bb2b4a\",\"type\":\"SaveTool\"},{\"id\":\"1f493046-db5d-4bcf-9914-22809c27221a\",\"type\":\"ResetTool\"},{\"id\":\"71dcb34d-d62e-4c20-a92a-8245869ffcf5\",\"type\":\"HelpTool\"}]},\"id\":\"da85890a-c5f4-41cc-8f79-ff50aa5c7366\",\"type\":\"Toolbar\"},{\"attributes\":{\"callback\":null},\"id\":\"161d642e-fcda-4f44-ae8b-d485f1e72835\",\"type\":\"DataRange1d\"}],\"root_ids\":[\"3298d07a-9dd0-4bca-8129-1eb2a3fba6d5\"]},\"title\":\"Bokeh Application\",\"version\":\"0.12.16\"}};\n",
       "  var render_items = [{\"docid\":\"690d248b-d1d5-4b78-809a-9072371b3b1f\",\"elementid\":\"92193d28-f80b-4657-a7f6-b2d0226db5b7\",\"modelid\":\"3298d07a-9dd0-4bca-8129-1eb2a3fba6d5\"}];\n",
       "  root.Bokeh.embed.embed_items_notebook(docs_json, render_items);\n",
       "\n",
       "  }\n",
       "  if (root.Bokeh !== undefined) {\n",
       "    embed_document(root);\n",
       "  } else {\n",
       "    var attempts = 0;\n",
       "    var timer = setInterval(function(root) {\n",
       "      if (root.Bokeh !== undefined) {\n",
       "        embed_document(root);\n",
       "        clearInterval(timer);\n",
       "      }\n",
       "      attempts++;\n",
       "      if (attempts > 100) {\n",
       "        console.log(\"Bokeh: ERROR: Unable to run BokehJS code because BokehJS library is missing\")\n",
       "        clearInterval(timer);\n",
       "      }\n",
       "    }, 10, root)\n",
       "  }\n",
       "})(window);"
      ],
      "application/vnd.bokehjs_exec.v0+json": ""
     },
     "metadata": {
      "application/vnd.bokehjs_exec.v0+json": {
       "id": "3298d07a-9dd0-4bca-8129-1eb2a3fba6d5"
      }
     },
     "output_type": "display_data"
    },
    {
     "data": {
      "text/html": [
       "\n",
       "<div class=\"bk-root\">\n",
       "    <div class=\"bk-plotdiv\" id=\"4acc288a-c102-4788-9619-565d3b325f65\"></div>\n",
       "</div>"
      ]
     },
     "metadata": {},
     "output_type": "display_data"
    },
    {
     "data": {
      "application/javascript": [
       "(function(root) {\n",
       "  function embed_document(root) {\n",
       "    \n",
       "  var docs_json = {\"797878aa-9655-4941-b4ee-425ee1752ada\":{\"roots\":{\"references\":[{\"attributes\":{\"num_minor_ticks\":5,\"tickers\":[{\"id\":\"98e23e7c-c7ab-42f6-8720-c810f716774d\",\"type\":\"AdaptiveTicker\"},{\"id\":\"dbc97865-a621-4400-9f95-190b1ee67460\",\"type\":\"AdaptiveTicker\"},{\"id\":\"fb44e679-9c9c-4cf6-bc0a-28657f097710\",\"type\":\"AdaptiveTicker\"},{\"id\":\"8990b231-21a4-4335-adef-d3beec389246\",\"type\":\"DaysTicker\"},{\"id\":\"a511ac86-42ef-4dd1-aebf-3d983c1fe7b9\",\"type\":\"DaysTicker\"},{\"id\":\"af05a6e2-9b28-4f84-a4ef-7845552d56b1\",\"type\":\"DaysTicker\"},{\"id\":\"78522133-d884-4377-9add-25b385afd457\",\"type\":\"DaysTicker\"},{\"id\":\"0f35a0ae-18b2-46c4-8269-8bf5f8a843c6\",\"type\":\"MonthsTicker\"},{\"id\":\"6e9e5a0b-95ad-426a-8610-753d1f72a207\",\"type\":\"MonthsTicker\"},{\"id\":\"07abaea6-8aba-4543-b06c-d03de318e8c1\",\"type\":\"MonthsTicker\"},{\"id\":\"43f5b479-7fd9-4481-bc41-c8ab4c2477f8\",\"type\":\"MonthsTicker\"},{\"id\":\"24ad9929-925e-4b7e-859c-32405cfb1191\",\"type\":\"YearsTicker\"}]},\"id\":\"14965115-ec26-4464-be67-b2ce78b3c3eb\",\"type\":\"DatetimeTicker\"},{\"attributes\":{\"label\":{\"value\":\"price shock without vol shock\"},\"renderers\":[{\"id\":\"0abb27fd-2fbd-4866-b70f-83ff7bdabdee\",\"type\":\"GlyphRenderer\"}]},\"id\":\"81b22265-6b21-472d-bd46-3bdba0321dce\",\"type\":\"LegendItem\"},{\"attributes\":{\"base\":24,\"mantissas\":[1,2,4,6,8,12],\"max_interval\":43200000.0,\"min_interval\":3600000.0,\"num_minor_ticks\":0},\"id\":\"fb44e679-9c9c-4cf6-bc0a-28657f097710\",\"type\":\"AdaptiveTicker\"},{\"attributes\":{},\"id\":\"c5db2492-7390-4065-b884-08ba8cb1d012\",\"type\":\"LinearScale\"},{\"attributes\":{\"days\":[1,2,3,4,5,6,7,8,9,10,11,12,13,14,15,16,17,18,19,20,21,22,23,24,25,26,27,28,29,30,31]},\"id\":\"8990b231-21a4-4335-adef-d3beec389246\",\"type\":\"DaysTicker\"},{\"attributes\":{\"fill_alpha\":{\"value\":0.1},\"fill_color\":{\"value\":\"#1f77b4\"},\"line_alpha\":{\"value\":0.1},\"line_color\":{\"value\":\"#1f77b4\"},\"x\":{\"field\":\"x\"},\"y\":{\"field\":\"y\"}},\"id\":\"d293a6ff-f1dd-49be-a7f8-d08bc2d1ae29\",\"type\":\"Circle\"},{\"attributes\":{\"days\":[1,4,7,10,13,16,19,22,25,28]},\"id\":\"a511ac86-42ef-4dd1-aebf-3d983c1fe7b9\",\"type\":\"DaysTicker\"},{\"attributes\":{\"formatter\":{\"id\":\"2289e4eb-7674-4f4e-b101-7f7ec5c7505a\",\"type\":\"BasicTickFormatter\"},\"plot\":{\"id\":\"d5fb41e8-0f47-4d2f-8dfb-9158a72ca6c9\",\"subtype\":\"Figure\",\"type\":\"Plot\"},\"ticker\":{\"id\":\"5826c825-760a-4085-a1ca-0e0ffd20d24f\",\"type\":\"BasicTicker\"}},\"id\":\"adde9ca9-2fce-4df8-ae85-9395467f5280\",\"type\":\"LinearAxis\"},{\"attributes\":{\"days\":[1,8,15,22]},\"id\":\"af05a6e2-9b28-4f84-a4ef-7845552d56b1\",\"type\":\"DaysTicker\"},{\"attributes\":{\"days\":[1,15]},\"id\":\"78522133-d884-4377-9add-25b385afd457\",\"type\":\"DaysTicker\"},{\"attributes\":{},\"id\":\"2289e4eb-7674-4f4e-b101-7f7ec5c7505a\",\"type\":\"BasicTickFormatter\"},{\"attributes\":{\"months\":[0,1,2,3,4,5,6,7,8,9,10,11]},\"id\":\"0f35a0ae-18b2-46c4-8269-8bf5f8a843c6\",\"type\":\"MonthsTicker\"},{\"attributes\":{},\"id\":\"b957ea3a-3ca7-49d1-9f4e-b0ffae6f9820\",\"type\":\"LinearScale\"},{\"attributes\":{\"months\":[0,2,4,6,8,10]},\"id\":\"6e9e5a0b-95ad-426a-8610-753d1f72a207\",\"type\":\"MonthsTicker\"},{\"attributes\":{\"data_source\":{\"id\":\"27bdacd4-d462-40b6-884b-afa61dbd7377\",\"type\":\"ColumnDataSource\"},\"glyph\":{\"id\":\"b4cee09f-9003-432b-9759-6117e0502dec\",\"type\":\"Circle\"},\"hover_glyph\":null,\"muted_glyph\":null,\"nonselection_glyph\":{\"id\":\"d293a6ff-f1dd-49be-a7f8-d08bc2d1ae29\",\"type\":\"Circle\"},\"selection_glyph\":null,\"view\":{\"id\":\"d7f820bd-f0c2-4eb6-b822-275e4ca24d56\",\"type\":\"CDSView\"}},\"id\":\"0abb27fd-2fbd-4866-b70f-83ff7bdabdee\",\"type\":\"GlyphRenderer\"},{\"attributes\":{\"months\":[0,4,8]},\"id\":\"07abaea6-8aba-4543-b06c-d03de318e8c1\",\"type\":\"MonthsTicker\"},{\"attributes\":{\"data_source\":{\"id\":\"67f2a69a-b2d1-4403-a47c-482e8a5c8341\",\"type\":\"ColumnDataSource\"},\"glyph\":{\"id\":\"5f2199aa-f2d6-4849-b995-6b6d36cbb435\",\"type\":\"Line\"},\"hover_glyph\":null,\"muted_glyph\":null,\"nonselection_glyph\":{\"id\":\"f42d277a-a14b-4569-a505-7b59871c0d8c\",\"type\":\"Line\"},\"selection_glyph\":null,\"view\":{\"id\":\"37a09dbd-fe5d-4217-9482-f5e7a39662cc\",\"type\":\"CDSView\"}},\"id\":\"dba57f63-2a69-46c9-98bd-c57573f08bcc\",\"type\":\"GlyphRenderer\"},{\"attributes\":{\"months\":[0,6]},\"id\":\"43f5b479-7fd9-4481-bc41-c8ab4c2477f8\",\"type\":\"MonthsTicker\"},{\"attributes\":{\"fill_color\":{\"value\":\"red\"},\"line_color\":{\"value\":\"red\"},\"x\":{\"field\":\"x\"},\"y\":{\"field\":\"y\"}},\"id\":\"b4cee09f-9003-432b-9759-6117e0502dec\",\"type\":\"Circle\"},{\"attributes\":{},\"id\":\"24ad9929-925e-4b7e-859c-32405cfb1191\",\"type\":\"YearsTicker\"},{\"attributes\":{},\"id\":\"6f20cd95-e0a5-48f1-921b-c9d55709e15e\",\"type\":\"Selection\"},{\"attributes\":{},\"id\":\"5826c825-760a-4085-a1ca-0e0ffd20d24f\",\"type\":\"BasicTicker\"},{\"attributes\":{},\"id\":\"8c0a1b7e-a67f-4b4c-9624-1b82aaba868a\",\"type\":\"UnionRenderers\"},{\"attributes\":{\"items\":[{\"id\":\"81b22265-6b21-472d-bd46-3bdba0321dce\",\"type\":\"LegendItem\"}],\"plot\":{\"id\":\"d5fb41e8-0f47-4d2f-8dfb-9158a72ca6c9\",\"subtype\":\"Figure\",\"type\":\"Plot\"}},\"id\":\"301c27f0-760f-47aa-b062-1b4f2f7a32a0\",\"type\":\"Legend\"},{\"attributes\":{\"below\":[{\"id\":\"9ad99984-876b-4678-a1e1-0105e8b08b27\",\"type\":\"DatetimeAxis\"}],\"left\":[{\"id\":\"adde9ca9-2fce-4df8-ae85-9395467f5280\",\"type\":\"LinearAxis\"}],\"plot_height\":400,\"plot_width\":800,\"renderers\":[{\"id\":\"9ad99984-876b-4678-a1e1-0105e8b08b27\",\"type\":\"DatetimeAxis\"},{\"id\":\"856aa24a-266e-4d52-a5e4-10a5e796a120\",\"type\":\"Grid\"},{\"id\":\"adde9ca9-2fce-4df8-ae85-9395467f5280\",\"type\":\"LinearAxis\"},{\"id\":\"0bac26c7-9864-4ae6-b640-eb20c3f3cf85\",\"type\":\"Grid\"},{\"id\":\"2d3feb94-e896-4fb9-94a3-490f27c12674\",\"type\":\"BoxAnnotation\"},{\"id\":\"dba57f63-2a69-46c9-98bd-c57573f08bcc\",\"type\":\"GlyphRenderer\"},{\"id\":\"301c27f0-760f-47aa-b062-1b4f2f7a32a0\",\"type\":\"Legend\"},{\"id\":\"0abb27fd-2fbd-4866-b70f-83ff7bdabdee\",\"type\":\"GlyphRenderer\"}],\"title\":{\"id\":\"63c3f974-7353-4a5b-9087-da19f7cfc2dd\",\"type\":\"Title\"},\"toolbar\":{\"id\":\"41a5a7d2-6a69-4512-80c7-4ec9bfc433f2\",\"type\":\"Toolbar\"},\"x_range\":{\"id\":\"a4e0de74-7f12-4b20-8a1c-30c01dfc1c72\",\"type\":\"DataRange1d\"},\"x_scale\":{\"id\":\"b957ea3a-3ca7-49d1-9f4e-b0ffae6f9820\",\"type\":\"LinearScale\"},\"y_range\":{\"id\":\"895b3ad9-8515-4317-844b-773f73f85d41\",\"type\":\"DataRange1d\"},\"y_scale\":{\"id\":\"c5db2492-7390-4065-b884-08ba8cb1d012\",\"type\":\"LinearScale\"}},\"id\":\"d5fb41e8-0f47-4d2f-8dfb-9158a72ca6c9\",\"subtype\":\"Figure\",\"type\":\"Plot\"},{\"attributes\":{\"mantissas\":[1,2,5],\"max_interval\":500.0,\"num_minor_ticks\":0},\"id\":\"98e23e7c-c7ab-42f6-8720-c810f716774d\",\"type\":\"AdaptiveTicker\"},{\"attributes\":{},\"id\":\"e626dbb1-d1fb-49c8-acfe-2a7b94db6369\",\"type\":\"UnionRenderers\"},{\"attributes\":{\"callback\":null},\"id\":\"a4e0de74-7f12-4b20-8a1c-30c01dfc1c72\",\"type\":\"DataRange1d\"},{\"attributes\":{},\"id\":\"1d948987-d497-4d4e-b252-295782812f3f\",\"type\":\"Selection\"},{\"attributes\":{\"formatter\":{\"id\":\"50d7e245-deca-4d82-ae7a-a6690ef9f62e\",\"type\":\"DatetimeTickFormatter\"},\"plot\":{\"id\":\"d5fb41e8-0f47-4d2f-8dfb-9158a72ca6c9\",\"subtype\":\"Figure\",\"type\":\"Plot\"},\"ticker\":{\"id\":\"14965115-ec26-4464-be67-b2ce78b3c3eb\",\"type\":\"DatetimeTicker\"}},\"id\":\"9ad99984-876b-4678-a1e1-0105e8b08b27\",\"type\":\"DatetimeAxis\"},{\"attributes\":{\"line_alpha\":0.1,\"line_color\":\"#1f77b4\",\"x\":{\"field\":\"x\"},\"y\":{\"field\":\"y\"}},\"id\":\"f42d277a-a14b-4569-a505-7b59871c0d8c\",\"type\":\"Line\"},{\"attributes\":{\"plot\":{\"id\":\"d5fb41e8-0f47-4d2f-8dfb-9158a72ca6c9\",\"subtype\":\"Figure\",\"type\":\"Plot\"},\"ticker\":{\"id\":\"14965115-ec26-4464-be67-b2ce78b3c3eb\",\"type\":\"DatetimeTicker\"}},\"id\":\"856aa24a-266e-4d52-a5e4-10a5e796a120\",\"type\":\"Grid\"},{\"attributes\":{\"callback\":null,\"data\":{\"x\":{\"__ndarray__\":\"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\",\"dtype\":\"float64\",\"shape\":[249]},\"y\":{\"__ndarray__\":\"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\",\"dtype\":\"float64\",\"shape\":[249]}},\"selected\":{\"id\":\"6f20cd95-e0a5-48f1-921b-c9d55709e15e\",\"type\":\"Selection\"},\"selection_policy\":{\"id\":\"8c0a1b7e-a67f-4b4c-9624-1b82aaba868a\",\"type\":\"UnionRenderers\"}},\"id\":\"67f2a69a-b2d1-4403-a47c-482e8a5c8341\",\"type\":\"ColumnDataSource\"},{\"attributes\":{\"dimension\":1,\"plot\":{\"id\":\"d5fb41e8-0f47-4d2f-8dfb-9158a72ca6c9\",\"subtype\":\"Figure\",\"type\":\"Plot\"},\"ticker\":{\"id\":\"5826c825-760a-4085-a1ca-0e0ffd20d24f\",\"type\":\"BasicTicker\"}},\"id\":\"0bac26c7-9864-4ae6-b640-eb20c3f3cf85\",\"type\":\"Grid\"},{\"attributes\":{\"bottom_units\":\"screen\",\"fill_alpha\":{\"value\":0.5},\"fill_color\":{\"value\":\"lightgrey\"},\"left_units\":\"screen\",\"level\":\"overlay\",\"line_alpha\":{\"value\":1.0},\"line_color\":{\"value\":\"black\"},\"line_dash\":[4,4],\"line_width\":{\"value\":2},\"plot\":null,\"render_mode\":\"css\",\"right_units\":\"screen\",\"top_units\":\"screen\"},\"id\":\"2d3feb94-e896-4fb9-94a3-490f27c12674\",\"type\":\"BoxAnnotation\"},{\"attributes\":{\"overlay\":{\"id\":\"2d3feb94-e896-4fb9-94a3-490f27c12674\",\"type\":\"BoxAnnotation\"}},\"id\":\"47f5ba4c-f35c-4fbe-9a9b-6efb069f8d11\",\"type\":\"BoxZoomTool\"},{\"attributes\":{},\"id\":\"dbe93ff2-2e78-4394-a55b-8dd6090dc84f\",\"type\":\"WheelZoomTool\"},{\"attributes\":{\"source\":{\"id\":\"67f2a69a-b2d1-4403-a47c-482e8a5c8341\",\"type\":\"ColumnDataSource\"}},\"id\":\"37a09dbd-fe5d-4217-9482-f5e7a39662cc\",\"type\":\"CDSView\"},{\"attributes\":{},\"id\":\"27dbfdf9-3d4a-4676-b79f-5062bdc1c99c\",\"type\":\"PanTool\"},{\"attributes\":{},\"id\":\"2a520853-838d-485c-98d3-7e13a139f148\",\"type\":\"ResetTool\"},{\"attributes\":{\"source\":{\"id\":\"27bdacd4-d462-40b6-884b-afa61dbd7377\",\"type\":\"ColumnDataSource\"}},\"id\":\"d7f820bd-f0c2-4eb6-b822-275e4ca24d56\",\"type\":\"CDSView\"},{\"attributes\":{\"base\":60,\"mantissas\":[1,2,5,10,15,20,30],\"max_interval\":1800000.0,\"min_interval\":1000.0,\"num_minor_ticks\":0},\"id\":\"dbc97865-a621-4400-9f95-190b1ee67460\",\"type\":\"AdaptiveTicker\"},{\"attributes\":{},\"id\":\"e87b0136-82c4-4e88-a219-2c8700860dee\",\"type\":\"SaveTool\"},{\"attributes\":{\"callback\":null,\"data\":{\"x\":{\"__ndarray__\":\"AADAp8irdEIAAADtMrx0QgAAgBT+wXRCAABAjsPRdEIAAMA/SN90QgAAAMe4AXVC\",\"dtype\":\"float64\",\"shape\":[6]},\"y\":{\"__ndarray__\":\"zczMzMyInkAzMzMzM6ShQM3MzMxMtaFAZmZmZmYkn0CamZmZmfOOQM3MzMzMJ5JA\",\"dtype\":\"float64\",\"shape\":[6]}},\"selected\":{\"id\":\"1d948987-d497-4d4e-b252-295782812f3f\",\"type\":\"Selection\"},\"selection_policy\":{\"id\":\"e626dbb1-d1fb-49c8-acfe-2a7b94db6369\",\"type\":\"UnionRenderers\"}},\"id\":\"27bdacd4-d462-40b6-884b-afa61dbd7377\",\"type\":\"ColumnDataSource\"},{\"attributes\":{\"line_alpha\":0.5,\"line_color\":\"blue\",\"x\":{\"field\":\"x\"},\"y\":{\"field\":\"y\"}},\"id\":\"5f2199aa-f2d6-4849-b995-6b6d36cbb435\",\"type\":\"Line\"},{\"attributes\":{},\"id\":\"e4452d82-46ba-4c7f-9859-0fca0326c583\",\"type\":\"HelpTool\"},{\"attributes\":{\"active_drag\":\"auto\",\"active_inspect\":\"auto\",\"active_scroll\":\"auto\",\"active_tap\":\"auto\",\"tools\":[{\"id\":\"27dbfdf9-3d4a-4676-b79f-5062bdc1c99c\",\"type\":\"PanTool\"},{\"id\":\"dbe93ff2-2e78-4394-a55b-8dd6090dc84f\",\"type\":\"WheelZoomTool\"},{\"id\":\"47f5ba4c-f35c-4fbe-9a9b-6efb069f8d11\",\"type\":\"BoxZoomTool\"},{\"id\":\"e87b0136-82c4-4e88-a219-2c8700860dee\",\"type\":\"SaveTool\"},{\"id\":\"2a520853-838d-485c-98d3-7e13a139f148\",\"type\":\"ResetTool\"},{\"id\":\"e4452d82-46ba-4c7f-9859-0fca0326c583\",\"type\":\"HelpTool\"}]},\"id\":\"41a5a7d2-6a69-4512-80c7-4ec9bfc433f2\",\"type\":\"Toolbar\"},{\"attributes\":{},\"id\":\"50d7e245-deca-4d82-ae7a-a6690ef9f62e\",\"type\":\"DatetimeTickFormatter\"},{\"attributes\":{\"callback\":null},\"id\":\"895b3ad9-8515-4317-844b-773f73f85d41\",\"type\":\"DataRange1d\"},{\"attributes\":{\"plot\":null,\"text\":\"Time Series for INFY\"},\"id\":\"63c3f974-7353-4a5b-9087-da19f7cfc2dd\",\"type\":\"Title\"}],\"root_ids\":[\"d5fb41e8-0f47-4d2f-8dfb-9158a72ca6c9\"]},\"title\":\"Bokeh Application\",\"version\":\"0.12.16\"}};\n",
       "  var render_items = [{\"docid\":\"797878aa-9655-4941-b4ee-425ee1752ada\",\"elementid\":\"4acc288a-c102-4788-9619-565d3b325f65\",\"modelid\":\"d5fb41e8-0f47-4d2f-8dfb-9158a72ca6c9\"}];\n",
       "  root.Bokeh.embed.embed_items_notebook(docs_json, render_items);\n",
       "\n",
       "  }\n",
       "  if (root.Bokeh !== undefined) {\n",
       "    embed_document(root);\n",
       "  } else {\n",
       "    var attempts = 0;\n",
       "    var timer = setInterval(function(root) {\n",
       "      if (root.Bokeh !== undefined) {\n",
       "        embed_document(root);\n",
       "        clearInterval(timer);\n",
       "      }\n",
       "      attempts++;\n",
       "      if (attempts > 100) {\n",
       "        console.log(\"Bokeh: ERROR: Unable to run BokehJS code because BokehJS library is missing\")\n",
       "        clearInterval(timer);\n",
       "      }\n",
       "    }, 10, root)\n",
       "  }\n",
       "})(window);"
      ],
      "application/vnd.bokehjs_exec.v0+json": ""
     },
     "metadata": {
      "application/vnd.bokehjs_exec.v0+json": {
       "id": "d5fb41e8-0f47-4d2f-8dfb-9158a72ca6c9"
      }
     },
     "output_type": "display_data"
    }
   ],
   "source": [
    "bokeh_plot_2(tcs)\n",
    "bokeh_plot_2(infy)"
   ]
  },
  {
   "cell_type": "markdown",
   "metadata": {},
   "source": [
    "### Plotting PACF "
   ]
  },
  {
   "cell_type": "code",
   "execution_count": 9,
   "metadata": {},
   "outputs": [],
   "source": [
    "from statsmodels.tsa.stattools import acf, pacf\n",
    "\n",
    "def draw_pacf(stock):\n",
    "    \n",
    "    lags = 50\n",
    "\n",
    "    x = list(range(lags))\n",
    "\n",
    "    p = figure(plot_height=500, title=\"Partial Autocorrelation PLot {}\" .format(stock.Symbol[0]))\n",
    "\n",
    "    partial_autocorr = pacf(stock[\"Close\"], nlags=lags)\n",
    "    p.vbar(x=x, top=partial_autocorr, width=0.9)\n",
    "    show(p)"
   ]
  },
  {
   "cell_type": "code",
   "execution_count": 10,
   "metadata": {
    "scrolled": false
   },
   "outputs": [
    {
     "name": "stderr",
     "output_type": "stream",
     "text": [
      "C:\\Users\\Akarsh Somani\\Anaconda3\\lib\\site-packages\\bokeh\\models\\sources.py:110: BokehUserWarning: ColumnDataSource's columns must be of the same length. Current lengths: ('top', 51), ('x', 50)\n",
      "  \"Current lengths: %s\" % \", \".join(sorted(str((k, len(v))) for k, v in data.items())), BokehUserWarning))\n"
     ]
    },
    {
     "data": {
      "text/html": [
       "\n",
       "<div class=\"bk-root\">\n",
       "    <div class=\"bk-plotdiv\" id=\"69e8b9f6-70fe-417c-b2f3-76c59a0543af\"></div>\n",
       "</div>"
      ]
     },
     "metadata": {},
     "output_type": "display_data"
    },
    {
     "data": {
      "application/javascript": [
       "(function(root) {\n",
       "  function embed_document(root) {\n",
       "    \n",
       "  var docs_json = {\"4cf690f2-51b2-46bb-b801-25be2a24439b\":{\"roots\":{\"references\":[{\"attributes\":{\"fill_alpha\":{\"value\":0.1},\"fill_color\":{\"value\":\"#1f77b4\"},\"line_alpha\":{\"value\":0.1},\"line_color\":{\"value\":\"#1f77b4\"},\"top\":{\"field\":\"top\"},\"width\":{\"value\":0.9},\"x\":{\"field\":\"x\"}},\"id\":\"8e3751ba-b359-47bd-9ac2-f005a9947c3b\",\"type\":\"VBar\"},{\"attributes\":{},\"id\":\"48a5bc5f-e698-4d69-aa6e-d238e7066981\",\"type\":\"WheelZoomTool\"},{\"attributes\":{},\"id\":\"ca9bccf8-f872-4431-ae45-1270cf89a888\",\"type\":\"SaveTool\"},{\"attributes\":{\"callback\":null,\"data\":{\"top\":{\"__ndarray__\":\"AAAAAAAA8D90zcFrJsLtP4Q4W5ZVsru/oHSgMy6krL9Lbp+ZWzmiP5CcyA78/a0/cNQy7Z+8pb/C0kKEGH2zP9FDrWW2HLA/ndpPva6Spz+UNWOTs2m1v4Tk//xBoJg/eLKeO5wyt78G7qabVrmwv3SCqNpX5Z8/GyZBFs5nsj9tVQ4LeE9tv5KgkgiYlrk/8Wg3R9kZsb/xAjs0KHeFvzq9DmCfp6A//7u+6c75wL+0jWcIh6+rP+m71Ja+2bA/h3HOsFsAsr+pjC1Tize/v+pdWSFh2ai/ILAx9J2SsT9tF1uy+sKtP1xCW5BbMrY/ASnd1yDGsT9JXc1Taq2xvw8QUrbUibS/EBZRx5iZwL/nwhk+n4y3v5rsS6JDnLK/XuawuVyopr+/9Xcr18O4v4jOCoPa/LI/yND/tPYOoT8ySyif/Rydv+7Gipe1EKA/RS1VD7Cjpz/avM+4GjKyvxYM9c6lXbw/qHWaXtVgqT9Pyx5LRlStP9bNVO9pdF2/cgHxZ73Zvj+WqXOt3VKTP9FXrCTWK6S/\",\"dtype\":\"float64\",\"shape\":[51]},\"x\":[0,1,2,3,4,5,6,7,8,9,10,11,12,13,14,15,16,17,18,19,20,21,22,23,24,25,26,27,28,29,30,31,32,33,34,35,36,37,38,39,40,41,42,43,44,45,46,47,48,49]},\"selected\":{\"id\":\"5c1af73a-423d-4d27-8bb4-2fb9a04396b0\",\"type\":\"Selection\"},\"selection_policy\":{\"id\":\"2b57f9e8-2773-416b-81a0-9658cc375e55\",\"type\":\"UnionRenderers\"}},\"id\":\"9b02f3cb-d906-45e7-8545-cce46d595dd8\",\"type\":\"ColumnDataSource\"},{\"attributes\":{},\"id\":\"5c1af73a-423d-4d27-8bb4-2fb9a04396b0\",\"type\":\"Selection\"},{\"attributes\":{},\"id\":\"4acfb0b6-1dab-4bd8-97ee-6b4e5e03cdc9\",\"type\":\"ResetTool\"},{\"attributes\":{\"callback\":null},\"id\":\"7b6b87f6-9222-499c-8904-8317a7efdd35\",\"type\":\"DataRange1d\"},{\"attributes\":{},\"id\":\"ad1cd253-63ce-4a29-b25c-06073ca207dc\",\"type\":\"HelpTool\"},{\"attributes\":{\"overlay\":{\"id\":\"6ea5d264-53a4-4923-87d2-c645254071e2\",\"type\":\"BoxAnnotation\"}},\"id\":\"508850b7-c00b-49de-9056-8582cf6309c3\",\"type\":\"BoxZoomTool\"},{\"attributes\":{\"below\":[{\"id\":\"773e8b08-38f9-459b-a30d-6375ca29b8cd\",\"type\":\"LinearAxis\"}],\"left\":[{\"id\":\"e2ba5753-442d-4f98-8264-54ef3e93e74e\",\"type\":\"LinearAxis\"}],\"plot_height\":500,\"renderers\":[{\"id\":\"773e8b08-38f9-459b-a30d-6375ca29b8cd\",\"type\":\"LinearAxis\"},{\"id\":\"4d9d7437-1e93-4a09-8fcd-92dcbfa95d12\",\"type\":\"Grid\"},{\"id\":\"e2ba5753-442d-4f98-8264-54ef3e93e74e\",\"type\":\"LinearAxis\"},{\"id\":\"0725be98-37e7-43e7-91b6-58f98d09e07a\",\"type\":\"Grid\"},{\"id\":\"6ea5d264-53a4-4923-87d2-c645254071e2\",\"type\":\"BoxAnnotation\"},{\"id\":\"819fa2d0-c6a9-49f9-81a6-116e82773222\",\"type\":\"GlyphRenderer\"}],\"title\":{\"id\":\"e3135c64-1317-4481-a4ba-ca9e0338aa40\",\"type\":\"Title\"},\"toolbar\":{\"id\":\"988c7f50-bc94-4633-8007-94344cd4667e\",\"type\":\"Toolbar\"},\"x_range\":{\"id\":\"7b6b87f6-9222-499c-8904-8317a7efdd35\",\"type\":\"DataRange1d\"},\"x_scale\":{\"id\":\"fb16613b-8e6d-4517-b848-dfc41cdb350a\",\"type\":\"LinearScale\"},\"y_range\":{\"id\":\"61424e86-577a-481e-98a5-ad6cb9192ebd\",\"type\":\"DataRange1d\"},\"y_scale\":{\"id\":\"ca61b598-c81a-4cfd-a411-4e1df69f1b95\",\"type\":\"LinearScale\"}},\"id\":\"20747e7a-1752-419a-907d-a439eb49c7d0\",\"subtype\":\"Figure\",\"type\":\"Plot\"},{\"attributes\":{},\"id\":\"1fed3744-717e-4e7b-97f0-6e812b994642\",\"type\":\"PanTool\"},{\"attributes\":{\"source\":{\"id\":\"9b02f3cb-d906-45e7-8545-cce46d595dd8\",\"type\":\"ColumnDataSource\"}},\"id\":\"6d9ccdd8-2f95-4708-863c-17ff29f6dda0\",\"type\":\"CDSView\"},{\"attributes\":{},\"id\":\"f04156f3-653e-4967-b598-22674af9d492\",\"type\":\"BasicTickFormatter\"},{\"attributes\":{},\"id\":\"b2b946b9-f75d-46ab-a5ac-c0c8b652238f\",\"type\":\"BasicTickFormatter\"},{\"attributes\":{\"bottom_units\":\"screen\",\"fill_alpha\":{\"value\":0.5},\"fill_color\":{\"value\":\"lightgrey\"},\"left_units\":\"screen\",\"level\":\"overlay\",\"line_alpha\":{\"value\":1.0},\"line_color\":{\"value\":\"black\"},\"line_dash\":[4,4],\"line_width\":{\"value\":2},\"plot\":null,\"render_mode\":\"css\",\"right_units\":\"screen\",\"top_units\":\"screen\"},\"id\":\"6ea5d264-53a4-4923-87d2-c645254071e2\",\"type\":\"BoxAnnotation\"},{\"attributes\":{\"active_drag\":\"auto\",\"active_inspect\":\"auto\",\"active_scroll\":\"auto\",\"active_tap\":\"auto\",\"tools\":[{\"id\":\"1fed3744-717e-4e7b-97f0-6e812b994642\",\"type\":\"PanTool\"},{\"id\":\"48a5bc5f-e698-4d69-aa6e-d238e7066981\",\"type\":\"WheelZoomTool\"},{\"id\":\"508850b7-c00b-49de-9056-8582cf6309c3\",\"type\":\"BoxZoomTool\"},{\"id\":\"ca9bccf8-f872-4431-ae45-1270cf89a888\",\"type\":\"SaveTool\"},{\"id\":\"4acfb0b6-1dab-4bd8-97ee-6b4e5e03cdc9\",\"type\":\"ResetTool\"},{\"id\":\"ad1cd253-63ce-4a29-b25c-06073ca207dc\",\"type\":\"HelpTool\"}]},\"id\":\"988c7f50-bc94-4633-8007-94344cd4667e\",\"type\":\"Toolbar\"},{\"attributes\":{},\"id\":\"c37f3bdc-5094-4235-86c9-fd82b8dcaeea\",\"type\":\"BasicTicker\"},{\"attributes\":{},\"id\":\"ca61b598-c81a-4cfd-a411-4e1df69f1b95\",\"type\":\"LinearScale\"},{\"attributes\":{\"fill_color\":{\"value\":\"#1f77b4\"},\"line_color\":{\"value\":\"#1f77b4\"},\"top\":{\"field\":\"top\"},\"width\":{\"value\":0.9},\"x\":{\"field\":\"x\"}},\"id\":\"11a7afda-aaa0-447d-831d-97213bf242fb\",\"type\":\"VBar\"},{\"attributes\":{\"formatter\":{\"id\":\"f04156f3-653e-4967-b598-22674af9d492\",\"type\":\"BasicTickFormatter\"},\"plot\":{\"id\":\"20747e7a-1752-419a-907d-a439eb49c7d0\",\"subtype\":\"Figure\",\"type\":\"Plot\"},\"ticker\":{\"id\":\"c37f3bdc-5094-4235-86c9-fd82b8dcaeea\",\"type\":\"BasicTicker\"}},\"id\":\"773e8b08-38f9-459b-a30d-6375ca29b8cd\",\"type\":\"LinearAxis\"},{\"attributes\":{\"callback\":null},\"id\":\"61424e86-577a-481e-98a5-ad6cb9192ebd\",\"type\":\"DataRange1d\"},{\"attributes\":{\"dimension\":1,\"plot\":{\"id\":\"20747e7a-1752-419a-907d-a439eb49c7d0\",\"subtype\":\"Figure\",\"type\":\"Plot\"},\"ticker\":{\"id\":\"31a1fbf8-db87-4bb2-baec-fabb230c26ad\",\"type\":\"BasicTicker\"}},\"id\":\"0725be98-37e7-43e7-91b6-58f98d09e07a\",\"type\":\"Grid\"},{\"attributes\":{},\"id\":\"31a1fbf8-db87-4bb2-baec-fabb230c26ad\",\"type\":\"BasicTicker\"},{\"attributes\":{},\"id\":\"fb16613b-8e6d-4517-b848-dfc41cdb350a\",\"type\":\"LinearScale\"},{\"attributes\":{\"formatter\":{\"id\":\"b2b946b9-f75d-46ab-a5ac-c0c8b652238f\",\"type\":\"BasicTickFormatter\"},\"plot\":{\"id\":\"20747e7a-1752-419a-907d-a439eb49c7d0\",\"subtype\":\"Figure\",\"type\":\"Plot\"},\"ticker\":{\"id\":\"31a1fbf8-db87-4bb2-baec-fabb230c26ad\",\"type\":\"BasicTicker\"}},\"id\":\"e2ba5753-442d-4f98-8264-54ef3e93e74e\",\"type\":\"LinearAxis\"},{\"attributes\":{\"plot\":{\"id\":\"20747e7a-1752-419a-907d-a439eb49c7d0\",\"subtype\":\"Figure\",\"type\":\"Plot\"},\"ticker\":{\"id\":\"c37f3bdc-5094-4235-86c9-fd82b8dcaeea\",\"type\":\"BasicTicker\"}},\"id\":\"4d9d7437-1e93-4a09-8fcd-92dcbfa95d12\",\"type\":\"Grid\"},{\"attributes\":{},\"id\":\"2b57f9e8-2773-416b-81a0-9658cc375e55\",\"type\":\"UnionRenderers\"},{\"attributes\":{\"data_source\":{\"id\":\"9b02f3cb-d906-45e7-8545-cce46d595dd8\",\"type\":\"ColumnDataSource\"},\"glyph\":{\"id\":\"11a7afda-aaa0-447d-831d-97213bf242fb\",\"type\":\"VBar\"},\"hover_glyph\":null,\"muted_glyph\":null,\"nonselection_glyph\":{\"id\":\"8e3751ba-b359-47bd-9ac2-f005a9947c3b\",\"type\":\"VBar\"},\"selection_glyph\":null,\"view\":{\"id\":\"6d9ccdd8-2f95-4708-863c-17ff29f6dda0\",\"type\":\"CDSView\"}},\"id\":\"819fa2d0-c6a9-49f9-81a6-116e82773222\",\"type\":\"GlyphRenderer\"},{\"attributes\":{\"plot\":null,\"text\":\"Partial Autocorrelation PLot TCS\"},\"id\":\"e3135c64-1317-4481-a4ba-ca9e0338aa40\",\"type\":\"Title\"}],\"root_ids\":[\"20747e7a-1752-419a-907d-a439eb49c7d0\"]},\"title\":\"Bokeh Application\",\"version\":\"0.12.16\"}};\n",
       "  var render_items = [{\"docid\":\"4cf690f2-51b2-46bb-b801-25be2a24439b\",\"elementid\":\"69e8b9f6-70fe-417c-b2f3-76c59a0543af\",\"modelid\":\"20747e7a-1752-419a-907d-a439eb49c7d0\"}];\n",
       "  root.Bokeh.embed.embed_items_notebook(docs_json, render_items);\n",
       "\n",
       "  }\n",
       "  if (root.Bokeh !== undefined) {\n",
       "    embed_document(root);\n",
       "  } else {\n",
       "    var attempts = 0;\n",
       "    var timer = setInterval(function(root) {\n",
       "      if (root.Bokeh !== undefined) {\n",
       "        embed_document(root);\n",
       "        clearInterval(timer);\n",
       "      }\n",
       "      attempts++;\n",
       "      if (attempts > 100) {\n",
       "        console.log(\"Bokeh: ERROR: Unable to run BokehJS code because BokehJS library is missing\")\n",
       "        clearInterval(timer);\n",
       "      }\n",
       "    }, 10, root)\n",
       "  }\n",
       "})(window);"
      ],
      "application/vnd.bokehjs_exec.v0+json": ""
     },
     "metadata": {
      "application/vnd.bokehjs_exec.v0+json": {
       "id": "20747e7a-1752-419a-907d-a439eb49c7d0"
      }
     },
     "output_type": "display_data"
    },
    {
     "name": "stderr",
     "output_type": "stream",
     "text": [
      "C:\\Users\\Akarsh Somani\\Anaconda3\\lib\\site-packages\\bokeh\\models\\sources.py:110: BokehUserWarning: ColumnDataSource's columns must be of the same length. Current lengths: ('top', 51), ('x', 50)\n",
      "  \"Current lengths: %s\" % \", \".join(sorted(str((k, len(v))) for k, v in data.items())), BokehUserWarning))\n"
     ]
    },
    {
     "data": {
      "text/html": [
       "\n",
       "<div class=\"bk-root\">\n",
       "    <div class=\"bk-plotdiv\" id=\"34a4d8da-1235-43e2-96ed-bd374ca7148e\"></div>\n",
       "</div>"
      ]
     },
     "metadata": {},
     "output_type": "display_data"
    },
    {
     "data": {
      "application/javascript": [
       "(function(root) {\n",
       "  function embed_document(root) {\n",
       "    \n",
       "  var docs_json = {\"a5005f17-e9be-4765-aefd-9af9745b64d1\":{\"roots\":{\"references\":[{\"attributes\":{},\"id\":\"b839eda8-8507-4a4e-ada6-2b1c7c8450d0\",\"type\":\"BasicTicker\"},{\"attributes\":{\"fill_color\":{\"value\":\"#1f77b4\"},\"line_color\":{\"value\":\"#1f77b4\"},\"top\":{\"field\":\"top\"},\"width\":{\"value\":0.9},\"x\":{\"field\":\"x\"}},\"id\":\"78a97ef4-59fa-4c3d-91fc-9ccec19b5e7d\",\"type\":\"VBar\"},{\"attributes\":{\"formatter\":{\"id\":\"23ddb075-56fb-4169-a2c5-032ecf08e12c\",\"type\":\"BasicTickFormatter\"},\"plot\":{\"id\":\"43177036-f54e-48ed-bb17-d9b718c92d65\",\"subtype\":\"Figure\",\"type\":\"Plot\"},\"ticker\":{\"id\":\"b839eda8-8507-4a4e-ada6-2b1c7c8450d0\",\"type\":\"BasicTicker\"}},\"id\":\"dff12b83-1fb9-4ebf-82cc-e0c7d1cca773\",\"type\":\"LinearAxis\"},{\"attributes\":{},\"id\":\"daf7e471-30a9-41e5-9ba9-249236248c70\",\"type\":\"LinearScale\"},{\"attributes\":{\"plot\":null,\"text\":\"Partial Autocorrelation PLot INFY\"},\"id\":\"e24cf5a7-11e4-4c30-bcac-2b80dddc2c48\",\"type\":\"Title\"},{\"attributes\":{\"data_source\":{\"id\":\"91dd609e-3b71-4587-bcc3-09107eeecfc3\",\"type\":\"ColumnDataSource\"},\"glyph\":{\"id\":\"78a97ef4-59fa-4c3d-91fc-9ccec19b5e7d\",\"type\":\"VBar\"},\"hover_glyph\":null,\"muted_glyph\":null,\"nonselection_glyph\":{\"id\":\"86d91aa8-0466-4a38-b56c-4ba2910ecb46\",\"type\":\"VBar\"},\"selection_glyph\":null,\"view\":{\"id\":\"7195fd39-17de-432e-9f19-10dc8b013e35\",\"type\":\"CDSView\"}},\"id\":\"fe437707-5b0b-4574-aae0-341ad21a8385\",\"type\":\"GlyphRenderer\"},{\"attributes\":{\"callback\":null,\"data\":{\"top\":{\"__ndarray__\":\"AAAAAAAA8D8gcLZOZMfvP8kUX8hxFaO/RFr3tUewpb+wMoL/LZe1P6E0p0vgTqa/6o0fU/rqYb81UT4P/961v42hVRf6raS/ywK5a6BapD+vUDaDaH62v15DxoeLPaA/WFzDydALX79GjpLWdHqsPyM8f5riI7W/i8LtMs2Ar78/ZcErhm+jv6kJTUgw1Ji/vJJ/4BviXb8zNP9hoi+dv21JeGyU55c/95jBBTM+rz+0XLt8WPigPyv8DpEB7ZM/uS3pgePahb9fuaNApO2wv/7DCXQW6n2/fA496vfpuj/ThA6IEselvwTaTZ9a46+/cmMzopYznb8RydcgAnCgP1Xi3Vm92H+/TUr6cNdShr/tZ4yrvi6xv2kXLhM9PX6/ZbMu7mOjxr8ODw5QTz2xv9Xi0cXnD6g/H3MXzQ3fbj+OmUsr5m+uvw/QpxZjY7C/vLCZtH/MdT/7IbebDUyZP/LQeS+quJA/xTarC92RdD8CRDZfk5SBP+ec0iQVVbg/vKMem7Jzjr+dxuNGesqrv29q1CGisqa/\",\"dtype\":\"float64\",\"shape\":[51]},\"x\":[0,1,2,3,4,5,6,7,8,9,10,11,12,13,14,15,16,17,18,19,20,21,22,23,24,25,26,27,28,29,30,31,32,33,34,35,36,37,38,39,40,41,42,43,44,45,46,47,48,49]},\"selected\":{\"id\":\"6f6ab999-a8eb-4041-aa13-9c6f378337db\",\"type\":\"Selection\"},\"selection_policy\":{\"id\":\"8bf1547c-f4b4-4ce5-8019-26d9c7f90d93\",\"type\":\"UnionRenderers\"}},\"id\":\"91dd609e-3b71-4587-bcc3-09107eeecfc3\",\"type\":\"ColumnDataSource\"},{\"attributes\":{},\"id\":\"df5cc2af-d9dc-4c68-a9e0-8209b73afbff\",\"type\":\"WheelZoomTool\"},{\"attributes\":{\"active_drag\":\"auto\",\"active_inspect\":\"auto\",\"active_scroll\":\"auto\",\"active_tap\":\"auto\",\"tools\":[{\"id\":\"8d5a37c4-2154-4760-beb7-c816eb204b17\",\"type\":\"PanTool\"},{\"id\":\"df5cc2af-d9dc-4c68-a9e0-8209b73afbff\",\"type\":\"WheelZoomTool\"},{\"id\":\"2edf12b9-6a80-4ed1-b5fc-aad078e294c4\",\"type\":\"BoxZoomTool\"},{\"id\":\"df473021-8eca-4321-b241-8d5606485a45\",\"type\":\"SaveTool\"},{\"id\":\"79e0b836-2312-42e5-b8d0-b2bfb09a0fe7\",\"type\":\"ResetTool\"},{\"id\":\"707d320b-08ee-40d2-a653-ef2fee1c1a11\",\"type\":\"HelpTool\"}]},\"id\":\"65420b19-9dee-4566-b190-f34ee03cafb3\",\"type\":\"Toolbar\"},{\"attributes\":{\"below\":[{\"id\":\"bb726335-5f6b-45b0-8afa-129eef065684\",\"type\":\"LinearAxis\"}],\"left\":[{\"id\":\"dff12b83-1fb9-4ebf-82cc-e0c7d1cca773\",\"type\":\"LinearAxis\"}],\"plot_height\":500,\"renderers\":[{\"id\":\"bb726335-5f6b-45b0-8afa-129eef065684\",\"type\":\"LinearAxis\"},{\"id\":\"e08ffbd5-935c-4ee2-8504-b9cfa202af4c\",\"type\":\"Grid\"},{\"id\":\"dff12b83-1fb9-4ebf-82cc-e0c7d1cca773\",\"type\":\"LinearAxis\"},{\"id\":\"995aceb1-7482-451c-8b31-a1aa752395a6\",\"type\":\"Grid\"},{\"id\":\"26751f81-8af5-43d1-bae7-09684dbb54a7\",\"type\":\"BoxAnnotation\"},{\"id\":\"fe437707-5b0b-4574-aae0-341ad21a8385\",\"type\":\"GlyphRenderer\"}],\"title\":{\"id\":\"e24cf5a7-11e4-4c30-bcac-2b80dddc2c48\",\"type\":\"Title\"},\"toolbar\":{\"id\":\"65420b19-9dee-4566-b190-f34ee03cafb3\",\"type\":\"Toolbar\"},\"x_range\":{\"id\":\"5b0e0136-9bc1-475c-a32a-c8d67357de3f\",\"type\":\"DataRange1d\"},\"x_scale\":{\"id\":\"daf7e471-30a9-41e5-9ba9-249236248c70\",\"type\":\"LinearScale\"},\"y_range\":{\"id\":\"48feba01-6020-4101-8dea-4d60a33cd744\",\"type\":\"DataRange1d\"},\"y_scale\":{\"id\":\"5e35d992-f162-43e0-8a15-a6c1786a6201\",\"type\":\"LinearScale\"}},\"id\":\"43177036-f54e-48ed-bb17-d9b718c92d65\",\"subtype\":\"Figure\",\"type\":\"Plot\"},{\"attributes\":{},\"id\":\"df473021-8eca-4321-b241-8d5606485a45\",\"type\":\"SaveTool\"},{\"attributes\":{\"fill_alpha\":{\"value\":0.1},\"fill_color\":{\"value\":\"#1f77b4\"},\"line_alpha\":{\"value\":0.1},\"line_color\":{\"value\":\"#1f77b4\"},\"top\":{\"field\":\"top\"},\"width\":{\"value\":0.9},\"x\":{\"field\":\"x\"}},\"id\":\"86d91aa8-0466-4a38-b56c-4ba2910ecb46\",\"type\":\"VBar\"},{\"attributes\":{\"overlay\":{\"id\":\"26751f81-8af5-43d1-bae7-09684dbb54a7\",\"type\":\"BoxAnnotation\"}},\"id\":\"2edf12b9-6a80-4ed1-b5fc-aad078e294c4\",\"type\":\"BoxZoomTool\"},{\"attributes\":{\"callback\":null},\"id\":\"48feba01-6020-4101-8dea-4d60a33cd744\",\"type\":\"DataRange1d\"},{\"attributes\":{},\"id\":\"5e35d992-f162-43e0-8a15-a6c1786a6201\",\"type\":\"LinearScale\"},{\"attributes\":{\"source\":{\"id\":\"91dd609e-3b71-4587-bcc3-09107eeecfc3\",\"type\":\"ColumnDataSource\"}},\"id\":\"7195fd39-17de-432e-9f19-10dc8b013e35\",\"type\":\"CDSView\"},{\"attributes\":{},\"id\":\"6f6ab999-a8eb-4041-aa13-9c6f378337db\",\"type\":\"Selection\"},{\"attributes\":{\"callback\":null},\"id\":\"5b0e0136-9bc1-475c-a32a-c8d67357de3f\",\"type\":\"DataRange1d\"},{\"attributes\":{},\"id\":\"8bf1547c-f4b4-4ce5-8019-26d9c7f90d93\",\"type\":\"UnionRenderers\"},{\"attributes\":{\"plot\":{\"id\":\"43177036-f54e-48ed-bb17-d9b718c92d65\",\"subtype\":\"Figure\",\"type\":\"Plot\"},\"ticker\":{\"id\":\"5bf31237-7130-4d26-bf39-5849b24ed49f\",\"type\":\"BasicTicker\"}},\"id\":\"e08ffbd5-935c-4ee2-8504-b9cfa202af4c\",\"type\":\"Grid\"},{\"attributes\":{},\"id\":\"5bf31237-7130-4d26-bf39-5849b24ed49f\",\"type\":\"BasicTicker\"},{\"attributes\":{},\"id\":\"8d5a37c4-2154-4760-beb7-c816eb204b17\",\"type\":\"PanTool\"},{\"attributes\":{\"formatter\":{\"id\":\"4257ee2e-a9aa-4088-907c-7ee14f06647d\",\"type\":\"BasicTickFormatter\"},\"plot\":{\"id\":\"43177036-f54e-48ed-bb17-d9b718c92d65\",\"subtype\":\"Figure\",\"type\":\"Plot\"},\"ticker\":{\"id\":\"5bf31237-7130-4d26-bf39-5849b24ed49f\",\"type\":\"BasicTicker\"}},\"id\":\"bb726335-5f6b-45b0-8afa-129eef065684\",\"type\":\"LinearAxis\"},{\"attributes\":{},\"id\":\"707d320b-08ee-40d2-a653-ef2fee1c1a11\",\"type\":\"HelpTool\"},{\"attributes\":{\"bottom_units\":\"screen\",\"fill_alpha\":{\"value\":0.5},\"fill_color\":{\"value\":\"lightgrey\"},\"left_units\":\"screen\",\"level\":\"overlay\",\"line_alpha\":{\"value\":1.0},\"line_color\":{\"value\":\"black\"},\"line_dash\":[4,4],\"line_width\":{\"value\":2},\"plot\":null,\"render_mode\":\"css\",\"right_units\":\"screen\",\"top_units\":\"screen\"},\"id\":\"26751f81-8af5-43d1-bae7-09684dbb54a7\",\"type\":\"BoxAnnotation\"},{\"attributes\":{},\"id\":\"79e0b836-2312-42e5-b8d0-b2bfb09a0fe7\",\"type\":\"ResetTool\"},{\"attributes\":{},\"id\":\"23ddb075-56fb-4169-a2c5-032ecf08e12c\",\"type\":\"BasicTickFormatter\"},{\"attributes\":{},\"id\":\"4257ee2e-a9aa-4088-907c-7ee14f06647d\",\"type\":\"BasicTickFormatter\"},{\"attributes\":{\"dimension\":1,\"plot\":{\"id\":\"43177036-f54e-48ed-bb17-d9b718c92d65\",\"subtype\":\"Figure\",\"type\":\"Plot\"},\"ticker\":{\"id\":\"b839eda8-8507-4a4e-ada6-2b1c7c8450d0\",\"type\":\"BasicTicker\"}},\"id\":\"995aceb1-7482-451c-8b31-a1aa752395a6\",\"type\":\"Grid\"}],\"root_ids\":[\"43177036-f54e-48ed-bb17-d9b718c92d65\"]},\"title\":\"Bokeh Application\",\"version\":\"0.12.16\"}};\n",
       "  var render_items = [{\"docid\":\"a5005f17-e9be-4765-aefd-9af9745b64d1\",\"elementid\":\"34a4d8da-1235-43e2-96ed-bd374ca7148e\",\"modelid\":\"43177036-f54e-48ed-bb17-d9b718c92d65\"}];\n",
       "  root.Bokeh.embed.embed_items_notebook(docs_json, render_items);\n",
       "\n",
       "  }\n",
       "  if (root.Bokeh !== undefined) {\n",
       "    embed_document(root);\n",
       "  } else {\n",
       "    var attempts = 0;\n",
       "    var timer = setInterval(function(root) {\n",
       "      if (root.Bokeh !== undefined) {\n",
       "        embed_document(root);\n",
       "        clearInterval(timer);\n",
       "      }\n",
       "      attempts++;\n",
       "      if (attempts > 100) {\n",
       "        console.log(\"Bokeh: ERROR: Unable to run BokehJS code because BokehJS library is missing\")\n",
       "        clearInterval(timer);\n",
       "      }\n",
       "    }, 10, root)\n",
       "  }\n",
       "})(window);"
      ],
      "application/vnd.bokehjs_exec.v0+json": ""
     },
     "metadata": {
      "application/vnd.bokehjs_exec.v0+json": {
       "id": "43177036-f54e-48ed-bb17-d9b718c92d65"
      }
     },
     "output_type": "display_data"
    }
   ],
   "source": [
    "draw_pacf(tcs)\n",
    "draw_pacf(infy)"
   ]
  },
  {
   "cell_type": "code",
   "execution_count": null,
   "metadata": {},
   "outputs": [],
   "source": []
  }
 ],
 "metadata": {
  "kernelspec": {
   "display_name": "Python 3",
   "language": "python",
   "name": "python3"
  },
  "language_info": {
   "codemirror_mode": {
    "name": "ipython",
    "version": 3
   },
   "file_extension": ".py",
   "mimetype": "text/x-python",
   "name": "python",
   "nbconvert_exporter": "python",
   "pygments_lexer": "ipython3",
   "version": "3.6.5"
  }
 },
 "nbformat": 4,
 "nbformat_minor": 2
}
