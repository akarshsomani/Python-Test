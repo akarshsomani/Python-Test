{
 "cells": [
  {
   "cell_type": "code",
   "execution_count": 1,
   "metadata": {},
   "outputs": [],
   "source": [
    "import bokeh\n",
    "from bokeh.plotting import figure, output_file, show\n",
    "from bokeh.io import show, output_notebook"
   ]
  },
  {
   "cell_type": "code",
   "execution_count": 2,
   "metadata": {},
   "outputs": [
    {
     "data": {
      "text/html": [
       "\n",
       "    <div class=\"bk-root\">\n",
       "        <a href=\"https://bokeh.pydata.org\" target=\"_blank\" class=\"bk-logo bk-logo-small bk-logo-notebook\"></a>\n",
       "        <span id=\"f4a87385-3aa0-40bd-9e11-71e6c7ac16af\">Loading BokehJS ...</span>\n",
       "    </div>"
      ]
     },
     "metadata": {},
     "output_type": "display_data"
    },
    {
     "data": {
      "application/javascript": [
       "\n",
       "(function(root) {\n",
       "  function now() {\n",
       "    return new Date();\n",
       "  }\n",
       "\n",
       "  var force = true;\n",
       "\n",
       "  if (typeof (root._bokeh_onload_callbacks) === \"undefined\" || force === true) {\n",
       "    root._bokeh_onload_callbacks = [];\n",
       "    root._bokeh_is_loading = undefined;\n",
       "  }\n",
       "\n",
       "  var JS_MIME_TYPE = 'application/javascript';\n",
       "  var HTML_MIME_TYPE = 'text/html';\n",
       "  var EXEC_MIME_TYPE = 'application/vnd.bokehjs_exec.v0+json';\n",
       "  var CLASS_NAME = 'output_bokeh rendered_html';\n",
       "\n",
       "  /**\n",
       "   * Render data to the DOM node\n",
       "   */\n",
       "  function render(props, node) {\n",
       "    var script = document.createElement(\"script\");\n",
       "    node.appendChild(script);\n",
       "  }\n",
       "\n",
       "  /**\n",
       "   * Handle when an output is cleared or removed\n",
       "   */\n",
       "  function handleClearOutput(event, handle) {\n",
       "    var cell = handle.cell;\n",
       "\n",
       "    var id = cell.output_area._bokeh_element_id;\n",
       "    var server_id = cell.output_area._bokeh_server_id;\n",
       "    // Clean up Bokeh references\n",
       "    if (id !== undefined) {\n",
       "      Bokeh.index[id].model.document.clear();\n",
       "      delete Bokeh.index[id];\n",
       "    }\n",
       "\n",
       "    if (server_id !== undefined) {\n",
       "      // Clean up Bokeh references\n",
       "      var cmd = \"from bokeh.io.state import curstate; print(curstate().uuid_to_server['\" + server_id + \"'].get_sessions()[0].document.roots[0]._id)\";\n",
       "      cell.notebook.kernel.execute(cmd, {\n",
       "        iopub: {\n",
       "          output: function(msg) {\n",
       "            var element_id = msg.content.text.trim();\n",
       "            Bokeh.index[element_id].model.document.clear();\n",
       "            delete Bokeh.index[element_id];\n",
       "          }\n",
       "        }\n",
       "      });\n",
       "      // Destroy server and session\n",
       "      var cmd = \"import bokeh.io.notebook as ion; ion.destroy_server('\" + server_id + \"')\";\n",
       "      cell.notebook.kernel.execute(cmd);\n",
       "    }\n",
       "  }\n",
       "\n",
       "  /**\n",
       "   * Handle when a new output is added\n",
       "   */\n",
       "  function handleAddOutput(event, handle) {\n",
       "    var output_area = handle.output_area;\n",
       "    var output = handle.output;\n",
       "\n",
       "    // limit handleAddOutput to display_data with EXEC_MIME_TYPE content only\n",
       "    if ((output.output_type != \"display_data\") || (!output.data.hasOwnProperty(EXEC_MIME_TYPE))) {\n",
       "      return\n",
       "    }\n",
       "\n",
       "    var toinsert = output_area.element.find(\".\" + CLASS_NAME.split(' ')[0]);\n",
       "\n",
       "    if (output.metadata[EXEC_MIME_TYPE][\"id\"] !== undefined) {\n",
       "      toinsert[toinsert.length - 1].firstChild.textContent = output.data[JS_MIME_TYPE];\n",
       "      // store reference to embed id on output_area\n",
       "      output_area._bokeh_element_id = output.metadata[EXEC_MIME_TYPE][\"id\"];\n",
       "    }\n",
       "    if (output.metadata[EXEC_MIME_TYPE][\"server_id\"] !== undefined) {\n",
       "      var bk_div = document.createElement(\"div\");\n",
       "      bk_div.innerHTML = output.data[HTML_MIME_TYPE];\n",
       "      var script_attrs = bk_div.children[0].attributes;\n",
       "      for (var i = 0; i < script_attrs.length; i++) {\n",
       "        toinsert[toinsert.length - 1].firstChild.setAttribute(script_attrs[i].name, script_attrs[i].value);\n",
       "      }\n",
       "      // store reference to server id on output_area\n",
       "      output_area._bokeh_server_id = output.metadata[EXEC_MIME_TYPE][\"server_id\"];\n",
       "    }\n",
       "  }\n",
       "\n",
       "  function register_renderer(events, OutputArea) {\n",
       "\n",
       "    function append_mime(data, metadata, element) {\n",
       "      // create a DOM node to render to\n",
       "      var toinsert = this.create_output_subarea(\n",
       "        metadata,\n",
       "        CLASS_NAME,\n",
       "        EXEC_MIME_TYPE\n",
       "      );\n",
       "      this.keyboard_manager.register_events(toinsert);\n",
       "      // Render to node\n",
       "      var props = {data: data, metadata: metadata[EXEC_MIME_TYPE]};\n",
       "      render(props, toinsert[toinsert.length - 1]);\n",
       "      element.append(toinsert);\n",
       "      return toinsert\n",
       "    }\n",
       "\n",
       "    /* Handle when an output is cleared or removed */\n",
       "    events.on('clear_output.CodeCell', handleClearOutput);\n",
       "    events.on('delete.Cell', handleClearOutput);\n",
       "\n",
       "    /* Handle when a new output is added */\n",
       "    events.on('output_added.OutputArea', handleAddOutput);\n",
       "\n",
       "    /**\n",
       "     * Register the mime type and append_mime function with output_area\n",
       "     */\n",
       "    OutputArea.prototype.register_mime_type(EXEC_MIME_TYPE, append_mime, {\n",
       "      /* Is output safe? */\n",
       "      safe: true,\n",
       "      /* Index of renderer in `output_area.display_order` */\n",
       "      index: 0\n",
       "    });\n",
       "  }\n",
       "\n",
       "  // register the mime type if in Jupyter Notebook environment and previously unregistered\n",
       "  if (root.Jupyter !== undefined) {\n",
       "    var events = require('base/js/events');\n",
       "    var OutputArea = require('notebook/js/outputarea').OutputArea;\n",
       "\n",
       "    if (OutputArea.prototype.mime_types().indexOf(EXEC_MIME_TYPE) == -1) {\n",
       "      register_renderer(events, OutputArea);\n",
       "    }\n",
       "  }\n",
       "\n",
       "  \n",
       "  if (typeof (root._bokeh_timeout) === \"undefined\" || force === true) {\n",
       "    root._bokeh_timeout = Date.now() + 5000;\n",
       "    root._bokeh_failed_load = false;\n",
       "  }\n",
       "\n",
       "  var NB_LOAD_WARNING = {'data': {'text/html':\n",
       "     \"<div style='background-color: #fdd'>\\n\"+\n",
       "     \"<p>\\n\"+\n",
       "     \"BokehJS does not appear to have successfully loaded. If loading BokehJS from CDN, this \\n\"+\n",
       "     \"may be due to a slow or bad network connection. Possible fixes:\\n\"+\n",
       "     \"</p>\\n\"+\n",
       "     \"<ul>\\n\"+\n",
       "     \"<li>re-rerun `output_notebook()` to attempt to load from CDN again, or</li>\\n\"+\n",
       "     \"<li>use INLINE resources instead, as so:</li>\\n\"+\n",
       "     \"</ul>\\n\"+\n",
       "     \"<code>\\n\"+\n",
       "     \"from bokeh.resources import INLINE\\n\"+\n",
       "     \"output_notebook(resources=INLINE)\\n\"+\n",
       "     \"</code>\\n\"+\n",
       "     \"</div>\"}};\n",
       "\n",
       "  function display_loaded() {\n",
       "    var el = document.getElementById(\"f4a87385-3aa0-40bd-9e11-71e6c7ac16af\");\n",
       "    if (el != null) {\n",
       "      el.textContent = \"BokehJS is loading...\";\n",
       "    }\n",
       "    if (root.Bokeh !== undefined) {\n",
       "      if (el != null) {\n",
       "        el.textContent = \"BokehJS \" + root.Bokeh.version + \" successfully loaded.\";\n",
       "      }\n",
       "    } else if (Date.now() < root._bokeh_timeout) {\n",
       "      setTimeout(display_loaded, 100)\n",
       "    }\n",
       "  }\n",
       "\n",
       "\n",
       "  function run_callbacks() {\n",
       "    try {\n",
       "      root._bokeh_onload_callbacks.forEach(function(callback) { callback() });\n",
       "    }\n",
       "    finally {\n",
       "      delete root._bokeh_onload_callbacks\n",
       "    }\n",
       "    console.info(\"Bokeh: all callbacks have finished\");\n",
       "  }\n",
       "\n",
       "  function load_libs(js_urls, callback) {\n",
       "    root._bokeh_onload_callbacks.push(callback);\n",
       "    if (root._bokeh_is_loading > 0) {\n",
       "      console.log(\"Bokeh: BokehJS is being loaded, scheduling callback at\", now());\n",
       "      return null;\n",
       "    }\n",
       "    if (js_urls == null || js_urls.length === 0) {\n",
       "      run_callbacks();\n",
       "      return null;\n",
       "    }\n",
       "    console.log(\"Bokeh: BokehJS not loaded, scheduling load and callback at\", now());\n",
       "    root._bokeh_is_loading = js_urls.length;\n",
       "    for (var i = 0; i < js_urls.length; i++) {\n",
       "      var url = js_urls[i];\n",
       "      var s = document.createElement('script');\n",
       "      s.src = url;\n",
       "      s.async = false;\n",
       "      s.onreadystatechange = s.onload = function() {\n",
       "        root._bokeh_is_loading--;\n",
       "        if (root._bokeh_is_loading === 0) {\n",
       "          console.log(\"Bokeh: all BokehJS libraries loaded\");\n",
       "          run_callbacks()\n",
       "        }\n",
       "      };\n",
       "      s.onerror = function() {\n",
       "        console.warn(\"failed to load library \" + url);\n",
       "      };\n",
       "      console.log(\"Bokeh: injecting script tag for BokehJS library: \", url);\n",
       "      document.getElementsByTagName(\"head\")[0].appendChild(s);\n",
       "    }\n",
       "  };var element = document.getElementById(\"f4a87385-3aa0-40bd-9e11-71e6c7ac16af\");\n",
       "  if (element == null) {\n",
       "    console.log(\"Bokeh: ERROR: autoload.js configured with elementid 'f4a87385-3aa0-40bd-9e11-71e6c7ac16af' but no matching script tag was found. \")\n",
       "    return false;\n",
       "  }\n",
       "\n",
       "  var js_urls = [\"https://cdn.pydata.org/bokeh/release/bokeh-0.12.16.min.js\", \"https://cdn.pydata.org/bokeh/release/bokeh-widgets-0.12.16.min.js\", \"https://cdn.pydata.org/bokeh/release/bokeh-tables-0.12.16.min.js\", \"https://cdn.pydata.org/bokeh/release/bokeh-gl-0.12.16.min.js\"];\n",
       "\n",
       "  var inline_js = [\n",
       "    function(Bokeh) {\n",
       "      Bokeh.set_log_level(\"info\");\n",
       "    },\n",
       "    \n",
       "    function(Bokeh) {\n",
       "      \n",
       "    },\n",
       "    function(Bokeh) {\n",
       "      console.log(\"Bokeh: injecting CSS: https://cdn.pydata.org/bokeh/release/bokeh-0.12.16.min.css\");\n",
       "      Bokeh.embed.inject_css(\"https://cdn.pydata.org/bokeh/release/bokeh-0.12.16.min.css\");\n",
       "      console.log(\"Bokeh: injecting CSS: https://cdn.pydata.org/bokeh/release/bokeh-widgets-0.12.16.min.css\");\n",
       "      Bokeh.embed.inject_css(\"https://cdn.pydata.org/bokeh/release/bokeh-widgets-0.12.16.min.css\");\n",
       "      console.log(\"Bokeh: injecting CSS: https://cdn.pydata.org/bokeh/release/bokeh-tables-0.12.16.min.css\");\n",
       "      Bokeh.embed.inject_css(\"https://cdn.pydata.org/bokeh/release/bokeh-tables-0.12.16.min.css\");\n",
       "    }\n",
       "  ];\n",
       "\n",
       "  function run_inline_js() {\n",
       "    \n",
       "    if ((root.Bokeh !== undefined) || (force === true)) {\n",
       "      for (var i = 0; i < inline_js.length; i++) {\n",
       "        inline_js[i].call(root, root.Bokeh);\n",
       "      }if (force === true) {\n",
       "        display_loaded();\n",
       "      }} else if (Date.now() < root._bokeh_timeout) {\n",
       "      setTimeout(run_inline_js, 100);\n",
       "    } else if (!root._bokeh_failed_load) {\n",
       "      console.log(\"Bokeh: BokehJS failed to load within specified timeout.\");\n",
       "      root._bokeh_failed_load = true;\n",
       "    } else if (force !== true) {\n",
       "      var cell = $(document.getElementById(\"f4a87385-3aa0-40bd-9e11-71e6c7ac16af\")).parents('.cell').data().cell;\n",
       "      cell.output_area.append_execute_result(NB_LOAD_WARNING)\n",
       "    }\n",
       "\n",
       "  }\n",
       "\n",
       "  if (root._bokeh_is_loading === 0) {\n",
       "    console.log(\"Bokeh: BokehJS loaded, going straight to plotting\");\n",
       "    run_inline_js();\n",
       "  } else {\n",
       "    load_libs(js_urls, function() {\n",
       "      console.log(\"Bokeh: BokehJS plotting callback run at\", now());\n",
       "      run_inline_js();\n",
       "    });\n",
       "  }\n",
       "}(window));"
      ],
      "application/vnd.bokehjs_load.v0+json": "\n(function(root) {\n  function now() {\n    return new Date();\n  }\n\n  var force = true;\n\n  if (typeof (root._bokeh_onload_callbacks) === \"undefined\" || force === true) {\n    root._bokeh_onload_callbacks = [];\n    root._bokeh_is_loading = undefined;\n  }\n\n  \n\n  \n  if (typeof (root._bokeh_timeout) === \"undefined\" || force === true) {\n    root._bokeh_timeout = Date.now() + 5000;\n    root._bokeh_failed_load = false;\n  }\n\n  var NB_LOAD_WARNING = {'data': {'text/html':\n     \"<div style='background-color: #fdd'>\\n\"+\n     \"<p>\\n\"+\n     \"BokehJS does not appear to have successfully loaded. If loading BokehJS from CDN, this \\n\"+\n     \"may be due to a slow or bad network connection. Possible fixes:\\n\"+\n     \"</p>\\n\"+\n     \"<ul>\\n\"+\n     \"<li>re-rerun `output_notebook()` to attempt to load from CDN again, or</li>\\n\"+\n     \"<li>use INLINE resources instead, as so:</li>\\n\"+\n     \"</ul>\\n\"+\n     \"<code>\\n\"+\n     \"from bokeh.resources import INLINE\\n\"+\n     \"output_notebook(resources=INLINE)\\n\"+\n     \"</code>\\n\"+\n     \"</div>\"}};\n\n  function display_loaded() {\n    var el = document.getElementById(\"f4a87385-3aa0-40bd-9e11-71e6c7ac16af\");\n    if (el != null) {\n      el.textContent = \"BokehJS is loading...\";\n    }\n    if (root.Bokeh !== undefined) {\n      if (el != null) {\n        el.textContent = \"BokehJS \" + root.Bokeh.version + \" successfully loaded.\";\n      }\n    } else if (Date.now() < root._bokeh_timeout) {\n      setTimeout(display_loaded, 100)\n    }\n  }\n\n\n  function run_callbacks() {\n    try {\n      root._bokeh_onload_callbacks.forEach(function(callback) { callback() });\n    }\n    finally {\n      delete root._bokeh_onload_callbacks\n    }\n    console.info(\"Bokeh: all callbacks have finished\");\n  }\n\n  function load_libs(js_urls, callback) {\n    root._bokeh_onload_callbacks.push(callback);\n    if (root._bokeh_is_loading > 0) {\n      console.log(\"Bokeh: BokehJS is being loaded, scheduling callback at\", now());\n      return null;\n    }\n    if (js_urls == null || js_urls.length === 0) {\n      run_callbacks();\n      return null;\n    }\n    console.log(\"Bokeh: BokehJS not loaded, scheduling load and callback at\", now());\n    root._bokeh_is_loading = js_urls.length;\n    for (var i = 0; i < js_urls.length; i++) {\n      var url = js_urls[i];\n      var s = document.createElement('script');\n      s.src = url;\n      s.async = false;\n      s.onreadystatechange = s.onload = function() {\n        root._bokeh_is_loading--;\n        if (root._bokeh_is_loading === 0) {\n          console.log(\"Bokeh: all BokehJS libraries loaded\");\n          run_callbacks()\n        }\n      };\n      s.onerror = function() {\n        console.warn(\"failed to load library \" + url);\n      };\n      console.log(\"Bokeh: injecting script tag for BokehJS library: \", url);\n      document.getElementsByTagName(\"head\")[0].appendChild(s);\n    }\n  };var element = document.getElementById(\"f4a87385-3aa0-40bd-9e11-71e6c7ac16af\");\n  if (element == null) {\n    console.log(\"Bokeh: ERROR: autoload.js configured with elementid 'f4a87385-3aa0-40bd-9e11-71e6c7ac16af' but no matching script tag was found. \")\n    return false;\n  }\n\n  var js_urls = [\"https://cdn.pydata.org/bokeh/release/bokeh-0.12.16.min.js\", \"https://cdn.pydata.org/bokeh/release/bokeh-widgets-0.12.16.min.js\", \"https://cdn.pydata.org/bokeh/release/bokeh-tables-0.12.16.min.js\", \"https://cdn.pydata.org/bokeh/release/bokeh-gl-0.12.16.min.js\"];\n\n  var inline_js = [\n    function(Bokeh) {\n      Bokeh.set_log_level(\"info\");\n    },\n    \n    function(Bokeh) {\n      \n    },\n    function(Bokeh) {\n      console.log(\"Bokeh: injecting CSS: https://cdn.pydata.org/bokeh/release/bokeh-0.12.16.min.css\");\n      Bokeh.embed.inject_css(\"https://cdn.pydata.org/bokeh/release/bokeh-0.12.16.min.css\");\n      console.log(\"Bokeh: injecting CSS: https://cdn.pydata.org/bokeh/release/bokeh-widgets-0.12.16.min.css\");\n      Bokeh.embed.inject_css(\"https://cdn.pydata.org/bokeh/release/bokeh-widgets-0.12.16.min.css\");\n      console.log(\"Bokeh: injecting CSS: https://cdn.pydata.org/bokeh/release/bokeh-tables-0.12.16.min.css\");\n      Bokeh.embed.inject_css(\"https://cdn.pydata.org/bokeh/release/bokeh-tables-0.12.16.min.css\");\n    }\n  ];\n\n  function run_inline_js() {\n    \n    if ((root.Bokeh !== undefined) || (force === true)) {\n      for (var i = 0; i < inline_js.length; i++) {\n        inline_js[i].call(root, root.Bokeh);\n      }if (force === true) {\n        display_loaded();\n      }} else if (Date.now() < root._bokeh_timeout) {\n      setTimeout(run_inline_js, 100);\n    } else if (!root._bokeh_failed_load) {\n      console.log(\"Bokeh: BokehJS failed to load within specified timeout.\");\n      root._bokeh_failed_load = true;\n    } else if (force !== true) {\n      var cell = $(document.getElementById(\"f4a87385-3aa0-40bd-9e11-71e6c7ac16af\")).parents('.cell').data().cell;\n      cell.output_area.append_execute_result(NB_LOAD_WARNING)\n    }\n\n  }\n\n  if (root._bokeh_is_loading === 0) {\n    console.log(\"Bokeh: BokehJS loaded, going straight to plotting\");\n    run_inline_js();\n  } else {\n    load_libs(js_urls, function() {\n      console.log(\"Bokeh: BokehJS plotting callback run at\", now());\n      run_inline_js();\n    });\n  }\n}(window));"
     },
     "metadata": {},
     "output_type": "display_data"
    }
   ],
   "source": [
    "\n",
    "\n",
    "output_notebook()\n",
    "\n"
   ]
  },
  {
   "cell_type": "code",
   "execution_count": 3,
   "metadata": {},
   "outputs": [],
   "source": [
    "import pandas as pd\n",
    "tcs=pd.read_csv('tcs_updated.csv')\n",
    "infy=pd.read_csv('infy_updated.csv')"
   ]
  },
  {
   "cell_type": "code",
   "execution_count": 4,
   "metadata": {},
   "outputs": [],
   "source": [
    "tcs.index=pd.to_datetime(tcs.Date)\n",
    "infy.index=pd.to_datetime(infy.Date)\n"
   ]
  },
  {
   "cell_type": "code",
   "execution_count": 5,
   "metadata": {},
   "outputs": [],
   "source": [
    "#volume shock\n",
    "def bokeh_plot_1(stock):\n",
    "    data = dict(stock=stock['Close'], Date=stock.index)\n",
    "    \n",
    "    p = figure(plot_width=800, plot_height=400,  title = 'Time Series for {}' .format(stock.Symbol[0]), x_axis_type=\"datetime\")\n",
    "    p.line(stock.index, stock['Close'], color='blue', alpha=0.5)\n",
    "    \n",
    "    #show price shock w/o vol shock\n",
    "    temp=stock[stock['volume_shock']==1]\n",
    "    p.circle(temp.index, temp.Close,size=2,color='red', alpha=1,legend='Volume Shock>10%')\n",
    "    show(p)"
   ]
  },
  {
   "cell_type": "code",
   "execution_count": 6,
   "metadata": {},
   "outputs": [
    {
     "data": {
      "text/html": [
       "\n",
       "<div class=\"bk-root\">\n",
       "    <div class=\"bk-plotdiv\" id=\"5235666b-ce0d-4c6f-a1d4-25c9bfaa7cee\"></div>\n",
       "</div>"
      ]
     },
     "metadata": {},
     "output_type": "display_data"
    },
    {
     "data": {
      "application/javascript": [
       "(function(root) {\n",
       "  function embed_document(root) {\n",
       "    \n",
       "  var docs_json = {\"b71545b4-8db2-4496-bc34-71412d01b114\":{\"roots\":{\"references\":[{\"attributes\":{\"months\":[0,4,8]},\"id\":\"42b90f55-e0f2-4ad8-9c33-07a652be1fb4\",\"type\":\"MonthsTicker\"},{\"attributes\":{\"callback\":null,\"data\":{\"x\":{\"__ndarray__\":\"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\",\"dtype\":\"float64\",\"shape\":[203]},\"y\":{\"__ndarray__\":\"ZmZmZuYmpEAAAAAAgNijQDMzMzMzHaNAmpmZmZkXo0CamZmZmaCjQGZmZmZmm6NAZmZmZuazo0AzMzMzM9ajQAAAAAAAnqNAZmZmZuaIo0CamZmZmaOjQDMzMzMzj6NAmpmZmRmMo0AzMzMzM9ejQM3MzMxM4aNAmpmZmRlko0BmZmZmZqSjQAAAAACA/KNAzczMzMzwo0AAAAAAgB+kQM3MzMxMEqNAzczMzMw3o0AAAAAAgNWjQJqZmZmZMaRAzczMzEyXpECamZmZGeekQM3MzMxMEaVAAAAAAIAhpUBmZmZmZuCkQGZmZmbmwKRAMzMzM7PMpEAAAAAAgOakQM3MzMzM2qRAAAAAAACwpUAAAAAAAHSlQGZmZmbmEKVAmpmZmZmtpECamZmZGV2kQJqZmZkZdqRAMzMzM7MspEBmZmZmZi+kQAAAAACASKRAZmZmZuZlpEDNzMzMTHKkQJqZmZmZPqRAMzMzMzOio0CamZmZmaWjQM3MzMxMCKRAZmZmZubzo0DNzMzMTN2jQJqZmZmZ5qNAAAAAAAAypEDNzMzMzKKkQJqZmZkZ0aRAAAAAAIC7pEAAAAAAAL+kQAAAAACAh6RAMzMzM7NVo0CamZmZmfmiQJqZmZkZ9qJAMzMzMzMao0CamZmZGXqjQGZmZmZmiKNAAAAAAAB+o0CamZmZmW6jQGZmZmZmP6NAmpmZmRljo0AzMzMzs6ujQAAAAAAA+KNAzczMzMymo0AAAAAAgIajQM3MzMxMnqNAzczMzMywo0BmZmZmZqGjQAAAAAAA96NAzczMzMxzpEAAAAAAAFKkQDMzMzOzYaRAAAAAAIBupEAAAAAAAGOkQJqZmZmZZKRAAAAAAIBzpEDNzMzMzE+kQM3MzMzMZaRAzczMzExbpEAzMzMzsx+kQGZmZmbmIqRAzczMzEwDpECamZmZmRakQJqZmZmZk6NAAAAAAACgo0CamZmZmaOjQAAAAAAAP6RAMzMzMzMdpECamZmZmRSkQAAAAAAA7KNAmpmZmZlBpEBmZmZm5u2jQDMzMzMzQqRAAAAAAIAjpEDNzMzMzFekQJqZmZmZkqRAAAAAAIBwpEAzMzMzM0akQAAAAAAAtaNAMzMzM7NUo0CamZmZGZujQAAAAAAAh6NAAAAAAIDjo0BmZmZmZtijQM3MzMzMCKRAzczMzEwmpEDNzMzMzAKkQDMzMzMzcaNAmpmZmRmCo0AAAAAAgJWjQM3MzMxMYaNAAAAAAICdo0AzMzMzM5ujQM3MzMzMmaNAzczMzEzmo0CamZmZmRqkQJqZmZkZ8KNAMzMzMzMYpEBmZmZmZlikQGZmZmZm36RAMzMzMzOXpEBmZmZmZh6lQAAAAACA+aRAzczMzMxppUAzMzMzM1ulQDMzMzOz/aRAzczMzEzopEDNzMzMTCWkQM3MzMxMDqRAAAAAAIAhpEDNzMzMTB2kQDMzMzOzFaRAmpmZmRkIpEDNzMzMzNKjQJqZmZmZP6RAMzMzMzNbpEAAAAAAgNejQAAAAACA66NAzczMzMzio0AAAAAAAPCjQDMzMzMz56NAMzMzM7Pso0AAAAAAgO6jQJqZmZkZ7qNAmpmZmZm9o0DNzMzMTMmjQM3MzMzMKKRAAAAAAIA4pEAzMzMzM6mkQM3MzMxML6VAAAAAAAAYpUBmZmZm5rukQJqZmZmZk6RAmpmZmRlNpEBmZmZmZmejQAAAAACAR6NAAAAAAIBTo0AAAAAAgHGjQAAAAACAvaNAAAAAAADEo0DNzMzMTNKjQJqZmZkZ0aNAMzMzMzPCo0AzMzMzs36jQGZmZmZmfqNAMzMzM7Oqo0CamZmZmcujQM3MzMxMZaNAAAAAAICTo0AzMzMzs06jQM3MzMxMNKNAmpmZmZlJo0DNzMzMzLqiQDMzMzMzjaJAZmZmZuZeokCamZmZGXWiQJqZmZkZrqJAmpmZmRlTokAzMzMzs2KiQGZmZmZmeaJAzczMzMxzokAAAAAAgF2iQM3MzMzMMKJAAAAAAAAyokDNzMzMTH+iQJqZmZkZoaJAZmZmZuaUokAzMzMzs4+iQM3MzMzM0KJAAAAAAIAPo0CamZmZmeGiQM3MzMzMHKNAmpmZmZnzokBmZmZmZj2jQJqZmZmZL6NAMzMzM7MJo0DNzMzMzOCiQA==\",\"dtype\":\"float64\",\"shape\":[203]}},\"selected\":{\"id\":\"5e197786-1a74-4078-b3f3-42e7f8180613\",\"type\":\"Selection\"},\"selection_policy\":{\"id\":\"ffff1315-9b69-42f9-bf65-500d09e36b42\",\"type\":\"UnionRenderers\"}},\"id\":\"1e038704-12ca-431b-875b-52dd17905b9a\",\"type\":\"ColumnDataSource\"},{\"attributes\":{\"months\":[0,6]},\"id\":\"e854e620-5afc-47bd-aab1-fe7292699f1c\",\"type\":\"MonthsTicker\"},{\"attributes\":{},\"id\":\"57b3a8ff-2a5b-481f-9a9c-ef96f3e8624c\",\"type\":\"SaveTool\"},{\"attributes\":{\"overlay\":{\"id\":\"84f268f6-35ac-4e8e-8f34-dc084ef8c9f6\",\"type\":\"BoxAnnotation\"}},\"id\":\"bef694db-096d-41ba-8aff-56e78de8401c\",\"type\":\"BoxZoomTool\"},{\"attributes\":{},\"id\":\"c5132612-953f-4041-a814-71ab9d01859d\",\"type\":\"PanTool\"},{\"attributes\":{},\"id\":\"ffff1315-9b69-42f9-bf65-500d09e36b42\",\"type\":\"UnionRenderers\"},{\"attributes\":{\"bottom_units\":\"screen\",\"fill_alpha\":{\"value\":0.5},\"fill_color\":{\"value\":\"lightgrey\"},\"left_units\":\"screen\",\"level\":\"overlay\",\"line_alpha\":{\"value\":1.0},\"line_color\":{\"value\":\"black\"},\"line_dash\":[4,4],\"line_width\":{\"value\":2},\"plot\":null,\"render_mode\":\"css\",\"right_units\":\"screen\",\"top_units\":\"screen\"},\"id\":\"84f268f6-35ac-4e8e-8f34-dc084ef8c9f6\",\"type\":\"BoxAnnotation\"},{\"attributes\":{},\"id\":\"e602a62a-6122-4c4b-9315-e8776f5b6115\",\"type\":\"ResetTool\"},{\"attributes\":{},\"id\":\"c17b64a8-893b-4295-a640-ba10449139b4\",\"type\":\"HelpTool\"},{\"attributes\":{\"label\":{\"value\":\"Volume Shock>10%\"},\"renderers\":[{\"id\":\"a09a66cb-4b71-40e0-9192-587e09d26ace\",\"type\":\"GlyphRenderer\"}]},\"id\":\"0dabf19b-9606-4f80-8d6e-5e4e5b81d6a2\",\"type\":\"LegendItem\"},{\"attributes\":{\"fill_color\":{\"value\":\"red\"},\"line_color\":{\"value\":\"red\"},\"size\":{\"units\":\"screen\",\"value\":2},\"x\":{\"field\":\"x\"},\"y\":{\"field\":\"y\"}},\"id\":\"aa6dda08-3629-4f43-b5b7-dcbd073178f7\",\"type\":\"Circle\"},{\"attributes\":{\"below\":[{\"id\":\"e5bad8bb-4d96-4b92-8658-f1b5d0fb64b8\",\"type\":\"DatetimeAxis\"}],\"left\":[{\"id\":\"142d264f-732d-4bfc-9533-c39f3f4e7d16\",\"type\":\"LinearAxis\"}],\"plot_height\":400,\"plot_width\":800,\"renderers\":[{\"id\":\"e5bad8bb-4d96-4b92-8658-f1b5d0fb64b8\",\"type\":\"DatetimeAxis\"},{\"id\":\"7b027b29-8ff8-4339-9b1c-a3b07be81431\",\"type\":\"Grid\"},{\"id\":\"142d264f-732d-4bfc-9533-c39f3f4e7d16\",\"type\":\"LinearAxis\"},{\"id\":\"12f7f3ea-12dd-4a19-ae6f-e92efa54b3f9\",\"type\":\"Grid\"},{\"id\":\"84f268f6-35ac-4e8e-8f34-dc084ef8c9f6\",\"type\":\"BoxAnnotation\"},{\"id\":\"1caadcfe-7178-4bfe-a0f8-ba71ff1334ba\",\"type\":\"GlyphRenderer\"},{\"id\":\"e9977da8-a148-4856-bdf0-b41c012b93f9\",\"type\":\"Legend\"},{\"id\":\"a09a66cb-4b71-40e0-9192-587e09d26ace\",\"type\":\"GlyphRenderer\"}],\"title\":{\"id\":\"2784138e-77ab-4701-93ac-b4ce0a94d8db\",\"type\":\"Title\"},\"toolbar\":{\"id\":\"cfad4bf2-41cb-4962-bbfa-7159f3dbc316\",\"type\":\"Toolbar\"},\"x_range\":{\"id\":\"d9a56795-ec46-4774-aff9-b9997b7f675f\",\"type\":\"DataRange1d\"},\"x_scale\":{\"id\":\"102d74de-4dfb-4d5b-8a57-b2c0c3996f0b\",\"type\":\"LinearScale\"},\"y_range\":{\"id\":\"462b69c4-d2f3-4949-a1cc-8d410037841d\",\"type\":\"DataRange1d\"},\"y_scale\":{\"id\":\"9ff2a936-88ae-4fef-9ef2-d063bbb133b1\",\"type\":\"LinearScale\"}},\"id\":\"206abd1e-5c0f-4824-905c-4a4e72037f2d\",\"subtype\":\"Figure\",\"type\":\"Plot\"},{\"attributes\":{\"base\":24,\"mantissas\":[1,2,4,6,8,12],\"max_interval\":43200000.0,\"min_interval\":3600000.0,\"num_minor_ticks\":0},\"id\":\"544276eb-65b8-4f26-852d-f9a932c4648e\",\"type\":\"AdaptiveTicker\"},{\"attributes\":{\"data_source\":{\"id\":\"9f1c34d0-f5b6-4efe-8b1a-7e4f2b575704\",\"type\":\"ColumnDataSource\"},\"glyph\":{\"id\":\"87497281-609a-45be-a5e2-fb0edae09256\",\"type\":\"Line\"},\"hover_glyph\":null,\"muted_glyph\":null,\"nonselection_glyph\":{\"id\":\"baeee76d-5a06-437f-886b-a9ae23f2c17b\",\"type\":\"Line\"},\"selection_glyph\":null,\"view\":{\"id\":\"2eabd1c8-14b2-4c0c-b416-f0ba03085482\",\"type\":\"CDSView\"}},\"id\":\"1caadcfe-7178-4bfe-a0f8-ba71ff1334ba\",\"type\":\"GlyphRenderer\"},{\"attributes\":{\"fill_alpha\":{\"value\":0.1},\"fill_color\":{\"value\":\"#1f77b4\"},\"line_alpha\":{\"value\":0.1},\"line_color\":{\"value\":\"#1f77b4\"},\"size\":{\"units\":\"screen\",\"value\":2},\"x\":{\"field\":\"x\"},\"y\":{\"field\":\"y\"}},\"id\":\"6966a39e-726b-4d9b-ad4b-999c68efb4d3\",\"type\":\"Circle\"},{\"attributes\":{\"data_source\":{\"id\":\"1e038704-12ca-431b-875b-52dd17905b9a\",\"type\":\"ColumnDataSource\"},\"glyph\":{\"id\":\"aa6dda08-3629-4f43-b5b7-dcbd073178f7\",\"type\":\"Circle\"},\"hover_glyph\":null,\"muted_glyph\":null,\"nonselection_glyph\":{\"id\":\"6966a39e-726b-4d9b-ad4b-999c68efb4d3\",\"type\":\"Circle\"},\"selection_glyph\":null,\"view\":{\"id\":\"eb5d4dc1-0e23-4b2e-80ba-43dfa8241d18\",\"type\":\"CDSView\"}},\"id\":\"a09a66cb-4b71-40e0-9192-587e09d26ace\",\"type\":\"GlyphRenderer\"},{\"attributes\":{\"dimension\":1,\"plot\":{\"id\":\"206abd1e-5c0f-4824-905c-4a4e72037f2d\",\"subtype\":\"Figure\",\"type\":\"Plot\"},\"ticker\":{\"id\":\"d2bce092-7d11-41d4-9d9c-1fa2690a43c5\",\"type\":\"BasicTicker\"}},\"id\":\"12f7f3ea-12dd-4a19-ae6f-e92efa54b3f9\",\"type\":\"Grid\"},{\"attributes\":{},\"id\":\"724b7d73-bb5a-4dd5-8bdf-d2df84e17fb4\",\"type\":\"BasicTickFormatter\"},{\"attributes\":{\"base\":60,\"mantissas\":[1,2,5,10,15,20,30],\"max_interval\":1800000.0,\"min_interval\":1000.0,\"num_minor_ticks\":0},\"id\":\"44b01ae5-026c-4e73-bc1d-8947562e0f52\",\"type\":\"AdaptiveTicker\"},{\"attributes\":{},\"id\":\"1161b87b-686c-49d6-ab63-39c2499b77b7\",\"type\":\"WheelZoomTool\"},{\"attributes\":{\"plot\":null,\"text\":\"Time Series for TCS\"},\"id\":\"2784138e-77ab-4701-93ac-b4ce0a94d8db\",\"type\":\"Title\"},{\"attributes\":{},\"id\":\"da7e1ad9-6400-4174-92a8-345780b2bdbd\",\"type\":\"DatetimeTickFormatter\"},{\"attributes\":{\"line_alpha\":0.5,\"line_color\":\"blue\",\"x\":{\"field\":\"x\"},\"y\":{\"field\":\"y\"}},\"id\":\"87497281-609a-45be-a5e2-fb0edae09256\",\"type\":\"Line\"},{\"attributes\":{\"callback\":null},\"id\":\"d9a56795-ec46-4774-aff9-b9997b7f675f\",\"type\":\"DataRange1d\"},{\"attributes\":{\"source\":{\"id\":\"1e038704-12ca-431b-875b-52dd17905b9a\",\"type\":\"ColumnDataSource\"}},\"id\":\"eb5d4dc1-0e23-4b2e-80ba-43dfa8241d18\",\"type\":\"CDSView\"},{\"attributes\":{\"active_drag\":\"auto\",\"active_inspect\":\"auto\",\"active_scroll\":\"auto\",\"active_tap\":\"auto\",\"tools\":[{\"id\":\"c5132612-953f-4041-a814-71ab9d01859d\",\"type\":\"PanTool\"},{\"id\":\"1161b87b-686c-49d6-ab63-39c2499b77b7\",\"type\":\"WheelZoomTool\"},{\"id\":\"bef694db-096d-41ba-8aff-56e78de8401c\",\"type\":\"BoxZoomTool\"},{\"id\":\"57b3a8ff-2a5b-481f-9a9c-ef96f3e8624c\",\"type\":\"SaveTool\"},{\"id\":\"e602a62a-6122-4c4b-9315-e8776f5b6115\",\"type\":\"ResetTool\"},{\"id\":\"c17b64a8-893b-4295-a640-ba10449139b4\",\"type\":\"HelpTool\"}]},\"id\":\"cfad4bf2-41cb-4962-bbfa-7159f3dbc316\",\"type\":\"Toolbar\"},{\"attributes\":{\"days\":[1,2,3,4,5,6,7,8,9,10,11,12,13,14,15,16,17,18,19,20,21,22,23,24,25,26,27,28,29,30,31]},\"id\":\"ec5a06db-b88c-4fea-90fb-ce1c4b6b1d82\",\"type\":\"DaysTicker\"},{\"attributes\":{\"source\":{\"id\":\"9f1c34d0-f5b6-4efe-8b1a-7e4f2b575704\",\"type\":\"ColumnDataSource\"}},\"id\":\"2eabd1c8-14b2-4c0c-b416-f0ba03085482\",\"type\":\"CDSView\"},{\"attributes\":{\"mantissas\":[1,2,5],\"max_interval\":500.0,\"num_minor_ticks\":0},\"id\":\"ace3ca81-5a31-4607-9096-323bbb05b396\",\"type\":\"AdaptiveTicker\"},{\"attributes\":{\"num_minor_ticks\":5,\"tickers\":[{\"id\":\"ace3ca81-5a31-4607-9096-323bbb05b396\",\"type\":\"AdaptiveTicker\"},{\"id\":\"44b01ae5-026c-4e73-bc1d-8947562e0f52\",\"type\":\"AdaptiveTicker\"},{\"id\":\"544276eb-65b8-4f26-852d-f9a932c4648e\",\"type\":\"AdaptiveTicker\"},{\"id\":\"ec5a06db-b88c-4fea-90fb-ce1c4b6b1d82\",\"type\":\"DaysTicker\"},{\"id\":\"95354757-d06e-4d3c-8838-5ebcb0ebc501\",\"type\":\"DaysTicker\"},{\"id\":\"be215b3e-88b7-41dd-8cc8-11457c7b849a\",\"type\":\"DaysTicker\"},{\"id\":\"195bb4fc-e21b-45c2-b023-0d862fccbf68\",\"type\":\"DaysTicker\"},{\"id\":\"533041c2-05b4-4d2f-9aa6-d58208225be6\",\"type\":\"MonthsTicker\"},{\"id\":\"ea4f9b46-1000-4322-ab2f-730e57b6521d\",\"type\":\"MonthsTicker\"},{\"id\":\"42b90f55-e0f2-4ad8-9c33-07a652be1fb4\",\"type\":\"MonthsTicker\"},{\"id\":\"e854e620-5afc-47bd-aab1-fe7292699f1c\",\"type\":\"MonthsTicker\"},{\"id\":\"68f31ba9-9b12-4d55-a739-2c59d1d56e61\",\"type\":\"YearsTicker\"}]},\"id\":\"764cf679-1fcb-4ef8-90d5-44ff00f96da2\",\"type\":\"DatetimeTicker\"},{\"attributes\":{\"plot\":{\"id\":\"206abd1e-5c0f-4824-905c-4a4e72037f2d\",\"subtype\":\"Figure\",\"type\":\"Plot\"},\"ticker\":{\"id\":\"764cf679-1fcb-4ef8-90d5-44ff00f96da2\",\"type\":\"DatetimeTicker\"}},\"id\":\"7b027b29-8ff8-4339-9b1c-a3b07be81431\",\"type\":\"Grid\"},{\"attributes\":{},\"id\":\"5e197786-1a74-4078-b3f3-42e7f8180613\",\"type\":\"Selection\"},{\"attributes\":{},\"id\":\"102d74de-4dfb-4d5b-8a57-b2c0c3996f0b\",\"type\":\"LinearScale\"},{\"attributes\":{},\"id\":\"68f31ba9-9b12-4d55-a739-2c59d1d56e61\",\"type\":\"YearsTicker\"},{\"attributes\":{},\"id\":\"960dd1cf-c29e-42de-95e8-7f0914506e21\",\"type\":\"Selection\"},{\"attributes\":{\"formatter\":{\"id\":\"da7e1ad9-6400-4174-92a8-345780b2bdbd\",\"type\":\"DatetimeTickFormatter\"},\"plot\":{\"id\":\"206abd1e-5c0f-4824-905c-4a4e72037f2d\",\"subtype\":\"Figure\",\"type\":\"Plot\"},\"ticker\":{\"id\":\"764cf679-1fcb-4ef8-90d5-44ff00f96da2\",\"type\":\"DatetimeTicker\"}},\"id\":\"e5bad8bb-4d96-4b92-8658-f1b5d0fb64b8\",\"type\":\"DatetimeAxis\"},{\"attributes\":{},\"id\":\"ab35a32a-e7a2-4aa3-a50d-1fc9485b33b4\",\"type\":\"UnionRenderers\"},{\"attributes\":{\"callback\":null},\"id\":\"462b69c4-d2f3-4949-a1cc-8d410037841d\",\"type\":\"DataRange1d\"},{\"attributes\":{\"items\":[{\"id\":\"0dabf19b-9606-4f80-8d6e-5e4e5b81d6a2\",\"type\":\"LegendItem\"}],\"plot\":{\"id\":\"206abd1e-5c0f-4824-905c-4a4e72037f2d\",\"subtype\":\"Figure\",\"type\":\"Plot\"}},\"id\":\"e9977da8-a148-4856-bdf0-b41c012b93f9\",\"type\":\"Legend\"},{\"attributes\":{},\"id\":\"9ff2a936-88ae-4fef-9ef2-d063bbb133b1\",\"type\":\"LinearScale\"},{\"attributes\":{\"formatter\":{\"id\":\"724b7d73-bb5a-4dd5-8bdf-d2df84e17fb4\",\"type\":\"BasicTickFormatter\"},\"plot\":{\"id\":\"206abd1e-5c0f-4824-905c-4a4e72037f2d\",\"subtype\":\"Figure\",\"type\":\"Plot\"},\"ticker\":{\"id\":\"d2bce092-7d11-41d4-9d9c-1fa2690a43c5\",\"type\":\"BasicTicker\"}},\"id\":\"142d264f-732d-4bfc-9533-c39f3f4e7d16\",\"type\":\"LinearAxis\"},{\"attributes\":{\"days\":[1,4,7,10,13,16,19,22,25,28]},\"id\":\"95354757-d06e-4d3c-8838-5ebcb0ebc501\",\"type\":\"DaysTicker\"},{\"attributes\":{},\"id\":\"d2bce092-7d11-41d4-9d9c-1fa2690a43c5\",\"type\":\"BasicTicker\"},{\"attributes\":{\"days\":[1,8,15,22]},\"id\":\"be215b3e-88b7-41dd-8cc8-11457c7b849a\",\"type\":\"DaysTicker\"},{\"attributes\":{\"days\":[1,15]},\"id\":\"195bb4fc-e21b-45c2-b023-0d862fccbf68\",\"type\":\"DaysTicker\"},{\"attributes\":{\"line_alpha\":0.1,\"line_color\":\"#1f77b4\",\"x\":{\"field\":\"x\"},\"y\":{\"field\":\"y\"}},\"id\":\"baeee76d-5a06-437f-886b-a9ae23f2c17b\",\"type\":\"Line\"},{\"attributes\":{\"months\":[0,1,2,3,4,5,6,7,8,9,10,11]},\"id\":\"533041c2-05b4-4d2f-9aa6-d58208225be6\",\"type\":\"MonthsTicker\"},{\"attributes\":{\"callback\":null,\"data\":{\"x\":{\"__ndarray__\":\"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\",\"dtype\":\"float64\",\"shape\":[249]},\"y\":{\"__ndarray__\":\"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\",\"dtype\":\"float64\",\"shape\":[249]}},\"selected\":{\"id\":\"960dd1cf-c29e-42de-95e8-7f0914506e21\",\"type\":\"Selection\"},\"selection_policy\":{\"id\":\"ab35a32a-e7a2-4aa3-a50d-1fc9485b33b4\",\"type\":\"UnionRenderers\"}},\"id\":\"9f1c34d0-f5b6-4efe-8b1a-7e4f2b575704\",\"type\":\"ColumnDataSource\"},{\"attributes\":{\"months\":[0,2,4,6,8,10]},\"id\":\"ea4f9b46-1000-4322-ab2f-730e57b6521d\",\"type\":\"MonthsTicker\"}],\"root_ids\":[\"206abd1e-5c0f-4824-905c-4a4e72037f2d\"]},\"title\":\"Bokeh Application\",\"version\":\"0.12.16\"}};\n",
       "  var render_items = [{\"docid\":\"b71545b4-8db2-4496-bc34-71412d01b114\",\"elementid\":\"5235666b-ce0d-4c6f-a1d4-25c9bfaa7cee\",\"modelid\":\"206abd1e-5c0f-4824-905c-4a4e72037f2d\"}];\n",
       "  root.Bokeh.embed.embed_items_notebook(docs_json, render_items);\n",
       "\n",
       "  }\n",
       "  if (root.Bokeh !== undefined) {\n",
       "    embed_document(root);\n",
       "  } else {\n",
       "    var attempts = 0;\n",
       "    var timer = setInterval(function(root) {\n",
       "      if (root.Bokeh !== undefined) {\n",
       "        embed_document(root);\n",
       "        clearInterval(timer);\n",
       "      }\n",
       "      attempts++;\n",
       "      if (attempts > 100) {\n",
       "        console.log(\"Bokeh: ERROR: Unable to run BokehJS code because BokehJS library is missing\")\n",
       "        clearInterval(timer);\n",
       "      }\n",
       "    }, 10, root)\n",
       "  }\n",
       "})(window);"
      ],
      "application/vnd.bokehjs_exec.v0+json": ""
     },
     "metadata": {
      "application/vnd.bokehjs_exec.v0+json": {
       "id": "206abd1e-5c0f-4824-905c-4a4e72037f2d"
      }
     },
     "output_type": "display_data"
    },
    {
     "data": {
      "text/html": [
       "\n",
       "<div class=\"bk-root\">\n",
       "    <div class=\"bk-plotdiv\" id=\"1eaeb32b-4374-479a-97cf-d6f0dc852a6c\"></div>\n",
       "</div>"
      ]
     },
     "metadata": {},
     "output_type": "display_data"
    },
    {
     "data": {
      "application/javascript": [
       "(function(root) {\n",
       "  function embed_document(root) {\n",
       "    \n",
       "  var docs_json = {\"023db60c-2e0d-4606-aa43-d94111d801fd\":{\"roots\":{\"references\":[{\"attributes\":{\"fill_color\":{\"value\":\"red\"},\"line_color\":{\"value\":\"red\"},\"size\":{\"units\":\"screen\",\"value\":2},\"x\":{\"field\":\"x\"},\"y\":{\"field\":\"y\"}},\"id\":\"25eb5586-fdcc-42eb-8f02-d83dbb102e5c\",\"type\":\"Circle\"},{\"attributes\":{\"source\":{\"id\":\"4a220b94-d2c8-4098-ba2b-c361d7640922\",\"type\":\"ColumnDataSource\"}},\"id\":\"55c1cc17-3c35-4b6d-9370-8d61da13cd9d\",\"type\":\"CDSView\"},{\"attributes\":{\"months\":[0,2,4,6,8,10]},\"id\":\"203fc54c-7cc2-4373-b7e4-77bd8e7ca909\",\"type\":\"MonthsTicker\"},{\"attributes\":{\"label\":{\"value\":\"Volume Shock>10%\"},\"renderers\":[{\"id\":\"7b154130-d1ac-4b93-bc93-22be8cd5e1a3\",\"type\":\"GlyphRenderer\"}]},\"id\":\"9f02a679-c61d-469a-a679-76e068172644\",\"type\":\"LegendItem\"},{\"attributes\":{\"months\":[0,1,2,3,4,5,6,7,8,9,10,11]},\"id\":\"15dd7a2b-af9e-4ce6-9e60-0bca0800ba64\",\"type\":\"MonthsTicker\"},{\"attributes\":{\"days\":[1,4,7,10,13,16,19,22,25,28]},\"id\":\"74d4cae6-e319-42b0-b6f8-52dcc88ea07d\",\"type\":\"DaysTicker\"},{\"attributes\":{\"items\":[{\"id\":\"9f02a679-c61d-469a-a679-76e068172644\",\"type\":\"LegendItem\"}],\"plot\":{\"id\":\"60b1e905-e1d4-4170-9f92-f1f211bb9e51\",\"subtype\":\"Figure\",\"type\":\"Plot\"}},\"id\":\"aa1b3219-7ed2-4157-a1c8-49a53316bdec\",\"type\":\"Legend\"},{\"attributes\":{\"days\":[1,8,15,22]},\"id\":\"a355fdf8-8976-4f8f-bd63-af6352eb2f66\",\"type\":\"DaysTicker\"},{\"attributes\":{\"days\":[1,15]},\"id\":\"3d020a80-fe04-4df5-964e-b1c8d1471a50\",\"type\":\"DaysTicker\"},{\"attributes\":{},\"id\":\"f3be85d7-0f17-49cb-8944-8d6c88190423\",\"type\":\"LinearScale\"},{\"attributes\":{\"mantissas\":[1,2,5],\"max_interval\":500.0,\"num_minor_ticks\":0},\"id\":\"9b85d6e9-fc17-4a1e-8bb3-136da043e2de\",\"type\":\"AdaptiveTicker\"},{\"attributes\":{\"callback\":null},\"id\":\"793d3894-de38-4d95-aa50-1d07b9884740\",\"type\":\"DataRange1d\"},{\"attributes\":{\"callback\":null,\"data\":{\"x\":{\"__ndarray__\":\"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\",\"dtype\":\"float64\",\"shape\":[249]},\"y\":{\"__ndarray__\":\"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\",\"dtype\":\"float64\",\"shape\":[249]}},\"selected\":{\"id\":\"45059fe1-eb01-4843-adfa-049fc1811cd8\",\"type\":\"Selection\"},\"selection_policy\":{\"id\":\"c20c45ae-7b4d-4b8a-997a-de13726dc110\",\"type\":\"UnionRenderers\"}},\"id\":\"55d5a27e-7c32-48fa-aebb-0c9d09dc8ed5\",\"type\":\"ColumnDataSource\"},{\"attributes\":{\"days\":[1,2,3,4,5,6,7,8,9,10,11,12,13,14,15,16,17,18,19,20,21,22,23,24,25,26,27,28,29,30,31]},\"id\":\"2cb5b133-6420-4ba1-aca3-4774f479e69f\",\"type\":\"DaysTicker\"},{\"attributes\":{\"active_drag\":\"auto\",\"active_inspect\":\"auto\",\"active_scroll\":\"auto\",\"active_tap\":\"auto\",\"tools\":[{\"id\":\"a6224df8-aaf5-42f3-93d9-1a0d011ccba0\",\"type\":\"PanTool\"},{\"id\":\"5547bb62-6804-49e2-b1da-09423664951d\",\"type\":\"WheelZoomTool\"},{\"id\":\"dd8615b9-7f0a-4ea1-921d-e70db8d95efc\",\"type\":\"BoxZoomTool\"},{\"id\":\"9b3a15e4-4cd5-4fad-ac0e-8265c0f40b7f\",\"type\":\"SaveTool\"},{\"id\":\"6539b0b1-bb78-4030-8ead-173ccb5eb196\",\"type\":\"ResetTool\"},{\"id\":\"0ce6d187-99e7-4c48-b834-2efddbd115c7\",\"type\":\"HelpTool\"}]},\"id\":\"4d6bb771-f7c7-4474-86f3-c0b66b4549d7\",\"type\":\"Toolbar\"},{\"attributes\":{\"overlay\":{\"id\":\"7904c24d-61a3-4a53-bb80-d39c46d3f394\",\"type\":\"BoxAnnotation\"}},\"id\":\"dd8615b9-7f0a-4ea1-921d-e70db8d95efc\",\"type\":\"BoxZoomTool\"},{\"attributes\":{\"base\":24,\"mantissas\":[1,2,4,6,8,12],\"max_interval\":43200000.0,\"min_interval\":3600000.0,\"num_minor_ticks\":0},\"id\":\"958deec3-4d81-4e7c-87d7-a66e907b271e\",\"type\":\"AdaptiveTicker\"},{\"attributes\":{},\"id\":\"48b80b1c-5559-48d6-aa10-7da56d5a3bbd\",\"type\":\"DatetimeTickFormatter\"},{\"attributes\":{},\"id\":\"0ce6d187-99e7-4c48-b834-2efddbd115c7\",\"type\":\"HelpTool\"},{\"attributes\":{\"base\":60,\"mantissas\":[1,2,5,10,15,20,30],\"max_interval\":1800000.0,\"min_interval\":1000.0,\"num_minor_ticks\":0},\"id\":\"16abb0dc-1beb-4a88-adcc-85e0ff801165\",\"type\":\"AdaptiveTicker\"},{\"attributes\":{\"fill_alpha\":{\"value\":0.1},\"fill_color\":{\"value\":\"#1f77b4\"},\"line_alpha\":{\"value\":0.1},\"line_color\":{\"value\":\"#1f77b4\"},\"size\":{\"units\":\"screen\",\"value\":2},\"x\":{\"field\":\"x\"},\"y\":{\"field\":\"y\"}},\"id\":\"4e0aa793-c95d-434a-8e63-4ebb35c7bef6\",\"type\":\"Circle\"},{\"attributes\":{},\"id\":\"c1ceb4fe-db22-487c-b8e9-ac222d6ac5b7\",\"type\":\"LinearScale\"},{\"attributes\":{\"data_source\":{\"id\":\"4a220b94-d2c8-4098-ba2b-c361d7640922\",\"type\":\"ColumnDataSource\"},\"glyph\":{\"id\":\"25eb5586-fdcc-42eb-8f02-d83dbb102e5c\",\"type\":\"Circle\"},\"hover_glyph\":null,\"muted_glyph\":null,\"nonselection_glyph\":{\"id\":\"4e0aa793-c95d-434a-8e63-4ebb35c7bef6\",\"type\":\"Circle\"},\"selection_glyph\":null,\"view\":{\"id\":\"55c1cc17-3c35-4b6d-9370-8d61da13cd9d\",\"type\":\"CDSView\"}},\"id\":\"7b154130-d1ac-4b93-bc93-22be8cd5e1a3\",\"type\":\"GlyphRenderer\"},{\"attributes\":{\"data_source\":{\"id\":\"55d5a27e-7c32-48fa-aebb-0c9d09dc8ed5\",\"type\":\"ColumnDataSource\"},\"glyph\":{\"id\":\"4234aff4-c073-4f8f-8bac-762e168b049f\",\"type\":\"Line\"},\"hover_glyph\":null,\"muted_glyph\":null,\"nonselection_glyph\":{\"id\":\"9ae86f6d-99b2-43f1-b176-110f5656ec9e\",\"type\":\"Line\"},\"selection_glyph\":null,\"view\":{\"id\":\"9c393c28-942b-45e2-a316-1587e54971d8\",\"type\":\"CDSView\"}},\"id\":\"8469c19f-b782-44af-9b21-331510a9eb28\",\"type\":\"GlyphRenderer\"},{\"attributes\":{},\"id\":\"0ea13d75-f4be-42ec-b200-de76a97eec89\",\"type\":\"BasicTickFormatter\"},{\"attributes\":{},\"id\":\"5547bb62-6804-49e2-b1da-09423664951d\",\"type\":\"WheelZoomTool\"},{\"attributes\":{\"months\":[0,4,8]},\"id\":\"fa83ffd9-53f5-408a-b377-faf5b2054a54\",\"type\":\"MonthsTicker\"},{\"attributes\":{},\"id\":\"9b3a15e4-4cd5-4fad-ac0e-8265c0f40b7f\",\"type\":\"SaveTool\"},{\"attributes\":{},\"id\":\"06b03dce-e0e0-44fe-b69f-7f7300bbfb80\",\"type\":\"Selection\"},{\"attributes\":{},\"id\":\"6539b0b1-bb78-4030-8ead-173ccb5eb196\",\"type\":\"ResetTool\"},{\"attributes\":{},\"id\":\"c20c45ae-7b4d-4b8a-997a-de13726dc110\",\"type\":\"UnionRenderers\"},{\"attributes\":{\"bottom_units\":\"screen\",\"fill_alpha\":{\"value\":0.5},\"fill_color\":{\"value\":\"lightgrey\"},\"left_units\":\"screen\",\"level\":\"overlay\",\"line_alpha\":{\"value\":1.0},\"line_color\":{\"value\":\"black\"},\"line_dash\":[4,4],\"line_width\":{\"value\":2},\"plot\":null,\"render_mode\":\"css\",\"right_units\":\"screen\",\"top_units\":\"screen\"},\"id\":\"7904c24d-61a3-4a53-bb80-d39c46d3f394\",\"type\":\"BoxAnnotation\"},{\"attributes\":{},\"id\":\"45059fe1-eb01-4843-adfa-049fc1811cd8\",\"type\":\"Selection\"},{\"attributes\":{},\"id\":\"536dd325-7def-4519-9b53-ef56653b850a\",\"type\":\"YearsTicker\"},{\"attributes\":{\"callback\":null},\"id\":\"76f85111-0354-4392-a139-a46820ca5572\",\"type\":\"DataRange1d\"},{\"attributes\":{\"months\":[0,6]},\"id\":\"87c1aa50-b54f-4ad6-a764-4dde57cbf875\",\"type\":\"MonthsTicker\"},{\"attributes\":{\"plot\":null,\"text\":\"Time Series for INFY\"},\"id\":\"adb90c1f-e9b4-43a0-b3bd-adf38ff35048\",\"type\":\"Title\"},{\"attributes\":{\"line_alpha\":0.5,\"line_color\":\"blue\",\"x\":{\"field\":\"x\"},\"y\":{\"field\":\"y\"}},\"id\":\"4234aff4-c073-4f8f-8bac-762e168b049f\",\"type\":\"Line\"},{\"attributes\":{},\"id\":\"abcd72b0-115c-440c-bb00-891eed918504\",\"type\":\"BasicTicker\"},{\"attributes\":{\"dimension\":1,\"plot\":{\"id\":\"60b1e905-e1d4-4170-9f92-f1f211bb9e51\",\"subtype\":\"Figure\",\"type\":\"Plot\"},\"ticker\":{\"id\":\"abcd72b0-115c-440c-bb00-891eed918504\",\"type\":\"BasicTicker\"}},\"id\":\"b0819e0b-09e2-458b-aa54-2d9020400911\",\"type\":\"Grid\"},{\"attributes\":{},\"id\":\"e530d685-2d40-430e-80f9-57371cb3c03f\",\"type\":\"UnionRenderers\"},{\"attributes\":{\"line_alpha\":0.1,\"line_color\":\"#1f77b4\",\"x\":{\"field\":\"x\"},\"y\":{\"field\":\"y\"}},\"id\":\"9ae86f6d-99b2-43f1-b176-110f5656ec9e\",\"type\":\"Line\"},{\"attributes\":{\"source\":{\"id\":\"55d5a27e-7c32-48fa-aebb-0c9d09dc8ed5\",\"type\":\"ColumnDataSource\"}},\"id\":\"9c393c28-942b-45e2-a316-1587e54971d8\",\"type\":\"CDSView\"},{\"attributes\":{\"callback\":null,\"data\":{\"x\":{\"__ndarray__\":\"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\",\"dtype\":\"float64\",\"shape\":[203]},\"y\":{\"__ndarray__\":\"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\",\"dtype\":\"float64\",\"shape\":[203]}},\"selected\":{\"id\":\"06b03dce-e0e0-44fe-b69f-7f7300bbfb80\",\"type\":\"Selection\"},\"selection_policy\":{\"id\":\"e530d685-2d40-430e-80f9-57371cb3c03f\",\"type\":\"UnionRenderers\"}},\"id\":\"4a220b94-d2c8-4098-ba2b-c361d7640922\",\"type\":\"ColumnDataSource\"},{\"attributes\":{\"plot\":{\"id\":\"60b1e905-e1d4-4170-9f92-f1f211bb9e51\",\"subtype\":\"Figure\",\"type\":\"Plot\"},\"ticker\":{\"id\":\"c256a334-6443-4352-9a20-e9a3bb13fc66\",\"type\":\"DatetimeTicker\"}},\"id\":\"61650783-3a59-4c2c-8bb4-e17d0edfd5d0\",\"type\":\"Grid\"},{\"attributes\":{\"below\":[{\"id\":\"0f13dc04-dd5e-4c70-9b30-c2b754b4f783\",\"type\":\"DatetimeAxis\"}],\"left\":[{\"id\":\"33487e73-8d44-4f98-a37d-a629df5e7e63\",\"type\":\"LinearAxis\"}],\"plot_height\":400,\"plot_width\":800,\"renderers\":[{\"id\":\"0f13dc04-dd5e-4c70-9b30-c2b754b4f783\",\"type\":\"DatetimeAxis\"},{\"id\":\"61650783-3a59-4c2c-8bb4-e17d0edfd5d0\",\"type\":\"Grid\"},{\"id\":\"33487e73-8d44-4f98-a37d-a629df5e7e63\",\"type\":\"LinearAxis\"},{\"id\":\"b0819e0b-09e2-458b-aa54-2d9020400911\",\"type\":\"Grid\"},{\"id\":\"7904c24d-61a3-4a53-bb80-d39c46d3f394\",\"type\":\"BoxAnnotation\"},{\"id\":\"8469c19f-b782-44af-9b21-331510a9eb28\",\"type\":\"GlyphRenderer\"},{\"id\":\"aa1b3219-7ed2-4157-a1c8-49a53316bdec\",\"type\":\"Legend\"},{\"id\":\"7b154130-d1ac-4b93-bc93-22be8cd5e1a3\",\"type\":\"GlyphRenderer\"}],\"title\":{\"id\":\"adb90c1f-e9b4-43a0-b3bd-adf38ff35048\",\"type\":\"Title\"},\"toolbar\":{\"id\":\"4d6bb771-f7c7-4474-86f3-c0b66b4549d7\",\"type\":\"Toolbar\"},\"x_range\":{\"id\":\"76f85111-0354-4392-a139-a46820ca5572\",\"type\":\"DataRange1d\"},\"x_scale\":{\"id\":\"c1ceb4fe-db22-487c-b8e9-ac222d6ac5b7\",\"type\":\"LinearScale\"},\"y_range\":{\"id\":\"793d3894-de38-4d95-aa50-1d07b9884740\",\"type\":\"DataRange1d\"},\"y_scale\":{\"id\":\"f3be85d7-0f17-49cb-8944-8d6c88190423\",\"type\":\"LinearScale\"}},\"id\":\"60b1e905-e1d4-4170-9f92-f1f211bb9e51\",\"subtype\":\"Figure\",\"type\":\"Plot\"},{\"attributes\":{\"formatter\":{\"id\":\"0ea13d75-f4be-42ec-b200-de76a97eec89\",\"type\":\"BasicTickFormatter\"},\"plot\":{\"id\":\"60b1e905-e1d4-4170-9f92-f1f211bb9e51\",\"subtype\":\"Figure\",\"type\":\"Plot\"},\"ticker\":{\"id\":\"abcd72b0-115c-440c-bb00-891eed918504\",\"type\":\"BasicTicker\"}},\"id\":\"33487e73-8d44-4f98-a37d-a629df5e7e63\",\"type\":\"LinearAxis\"},{\"attributes\":{\"num_minor_ticks\":5,\"tickers\":[{\"id\":\"9b85d6e9-fc17-4a1e-8bb3-136da043e2de\",\"type\":\"AdaptiveTicker\"},{\"id\":\"16abb0dc-1beb-4a88-adcc-85e0ff801165\",\"type\":\"AdaptiveTicker\"},{\"id\":\"958deec3-4d81-4e7c-87d7-a66e907b271e\",\"type\":\"AdaptiveTicker\"},{\"id\":\"2cb5b133-6420-4ba1-aca3-4774f479e69f\",\"type\":\"DaysTicker\"},{\"id\":\"74d4cae6-e319-42b0-b6f8-52dcc88ea07d\",\"type\":\"DaysTicker\"},{\"id\":\"a355fdf8-8976-4f8f-bd63-af6352eb2f66\",\"type\":\"DaysTicker\"},{\"id\":\"3d020a80-fe04-4df5-964e-b1c8d1471a50\",\"type\":\"DaysTicker\"},{\"id\":\"15dd7a2b-af9e-4ce6-9e60-0bca0800ba64\",\"type\":\"MonthsTicker\"},{\"id\":\"203fc54c-7cc2-4373-b7e4-77bd8e7ca909\",\"type\":\"MonthsTicker\"},{\"id\":\"fa83ffd9-53f5-408a-b377-faf5b2054a54\",\"type\":\"MonthsTicker\"},{\"id\":\"87c1aa50-b54f-4ad6-a764-4dde57cbf875\",\"type\":\"MonthsTicker\"},{\"id\":\"536dd325-7def-4519-9b53-ef56653b850a\",\"type\":\"YearsTicker\"}]},\"id\":\"c256a334-6443-4352-9a20-e9a3bb13fc66\",\"type\":\"DatetimeTicker\"},{\"attributes\":{\"formatter\":{\"id\":\"48b80b1c-5559-48d6-aa10-7da56d5a3bbd\",\"type\":\"DatetimeTickFormatter\"},\"plot\":{\"id\":\"60b1e905-e1d4-4170-9f92-f1f211bb9e51\",\"subtype\":\"Figure\",\"type\":\"Plot\"},\"ticker\":{\"id\":\"c256a334-6443-4352-9a20-e9a3bb13fc66\",\"type\":\"DatetimeTicker\"}},\"id\":\"0f13dc04-dd5e-4c70-9b30-c2b754b4f783\",\"type\":\"DatetimeAxis\"},{\"attributes\":{},\"id\":\"a6224df8-aaf5-42f3-93d9-1a0d011ccba0\",\"type\":\"PanTool\"}],\"root_ids\":[\"60b1e905-e1d4-4170-9f92-f1f211bb9e51\"]},\"title\":\"Bokeh Application\",\"version\":\"0.12.16\"}};\n",
       "  var render_items = [{\"docid\":\"023db60c-2e0d-4606-aa43-d94111d801fd\",\"elementid\":\"1eaeb32b-4374-479a-97cf-d6f0dc852a6c\",\"modelid\":\"60b1e905-e1d4-4170-9f92-f1f211bb9e51\"}];\n",
       "  root.Bokeh.embed.embed_items_notebook(docs_json, render_items);\n",
       "\n",
       "  }\n",
       "  if (root.Bokeh !== undefined) {\n",
       "    embed_document(root);\n",
       "  } else {\n",
       "    var attempts = 0;\n",
       "    var timer = setInterval(function(root) {\n",
       "      if (root.Bokeh !== undefined) {\n",
       "        embed_document(root);\n",
       "        clearInterval(timer);\n",
       "      }\n",
       "      attempts++;\n",
       "      if (attempts > 100) {\n",
       "        console.log(\"Bokeh: ERROR: Unable to run BokehJS code because BokehJS library is missing\")\n",
       "        clearInterval(timer);\n",
       "      }\n",
       "    }, 10, root)\n",
       "  }\n",
       "})(window);"
      ],
      "application/vnd.bokehjs_exec.v0+json": ""
     },
     "metadata": {
      "application/vnd.bokehjs_exec.v0+json": {
       "id": "60b1e905-e1d4-4170-9f92-f1f211bb9e51"
      }
     },
     "output_type": "display_data"
    }
   ],
   "source": [
    "bokeh_plot_1(tcs)\n",
    "bokeh_plot_1(infy)"
   ]
  },
  {
   "cell_type": "code",
   "execution_count": 7,
   "metadata": {},
   "outputs": [],
   "source": [
    "#closing Pricing shock without volume shock\n",
    "def bokeh_plot_2(stock):\n",
    "    data = dict(stock=stock['Close'], Date=stock.index)\n",
    "    \n",
    "    p = figure(plot_width=800, plot_height=400,  title = 'Time Series for {}' .format(stock.Symbol[0]), x_axis_type=\"datetime\")\n",
    "    p.line(stock.index, stock['Close'], color='blue', alpha=0.5)\n",
    "    \n",
    "    #show price shock w/o vol shock\n",
    "    temp=stock[stock['price_shock_w/0_vol_shock']==1]\n",
    "    p.circle(temp.index, temp.Close,color='red', size=4, legend='price shock without vol shock')\n",
    "    show(p)   "
   ]
  },
  {
   "cell_type": "code",
   "execution_count": 8,
   "metadata": {},
   "outputs": [
    {
     "data": {
      "text/html": [
       "\n",
       "<div class=\"bk-root\">\n",
       "    <div class=\"bk-plotdiv\" id=\"994d0d9b-3075-4eb7-b142-71c8491b7e4d\"></div>\n",
       "</div>"
      ]
     },
     "metadata": {},
     "output_type": "display_data"
    },
    {
     "data": {
      "application/javascript": [
       "(function(root) {\n",
       "  function embed_document(root) {\n",
       "    \n",
       "  var docs_json = {\"5e14c15b-24c6-4b78-9e5d-03dd451d860e\":{\"roots\":{\"references\":[{\"attributes\":{},\"id\":\"e9e7115e-6992-4bcf-b328-a0dc125c072b\",\"type\":\"UnionRenderers\"},{\"attributes\":{\"formatter\":{\"id\":\"caf52352-a32b-46e1-9e5b-94d67fe47001\",\"type\":\"BasicTickFormatter\"},\"plot\":{\"id\":\"52387ec0-7575-40e2-9139-954b5e7ae4fb\",\"subtype\":\"Figure\",\"type\":\"Plot\"},\"ticker\":{\"id\":\"c7632d84-94b9-4140-a088-c88184e06495\",\"type\":\"BasicTicker\"}},\"id\":\"cceccda4-9c93-4440-800e-99e7c9285687\",\"type\":\"LinearAxis\"},{\"attributes\":{},\"id\":\"c8c644da-63c9-44db-8643-e286b1036280\",\"type\":\"WheelZoomTool\"},{\"attributes\":{},\"id\":\"caf52352-a32b-46e1-9e5b-94d67fe47001\",\"type\":\"BasicTickFormatter\"},{\"attributes\":{\"callback\":null,\"data\":{\"x\":{\"__ndarray__\":\"AABAK7q2dEIAAMBZaNJ0QgAAgL+60nRCAACAcVr5dEI=\",\"dtype\":\"float64\",\"shape\":[4]},\"y\":{\"__ndarray__\":\"zczMzMyho0CamZmZGT6jQAAAAACA4qNAZmZmZubmo0A=\",\"dtype\":\"float64\",\"shape\":[4]}},\"selected\":{\"id\":\"8c763dc2-0b69-4962-9973-852dda99501c\",\"type\":\"Selection\"},\"selection_policy\":{\"id\":\"89a107e3-3380-408e-b717-9a09874e8c6a\",\"type\":\"UnionRenderers\"}},\"id\":\"14ecb385-ed90-4eac-b216-7ab08af1f5a9\",\"type\":\"ColumnDataSource\"},{\"attributes\":{\"data_source\":{\"id\":\"80c23a7e-7747-4d28-8d2a-3980126586ce\",\"type\":\"ColumnDataSource\"},\"glyph\":{\"id\":\"b21bedae-6d14-480b-b878-e0f404e38cdb\",\"type\":\"Line\"},\"hover_glyph\":null,\"muted_glyph\":null,\"nonselection_glyph\":{\"id\":\"002edf71-0780-49b8-9735-4e01dc17febb\",\"type\":\"Line\"},\"selection_glyph\":null,\"view\":{\"id\":\"bbd94229-61c9-4f8f-adfb-55cfeca1b1f0\",\"type\":\"CDSView\"}},\"id\":\"938d8678-d650-414a-ae56-9fc0d7bf813b\",\"type\":\"GlyphRenderer\"},{\"attributes\":{\"data_source\":{\"id\":\"14ecb385-ed90-4eac-b216-7ab08af1f5a9\",\"type\":\"ColumnDataSource\"},\"glyph\":{\"id\":\"c5df2e7d-e93c-4c46-95f8-7a027338b8fd\",\"type\":\"Circle\"},\"hover_glyph\":null,\"muted_glyph\":null,\"nonselection_glyph\":{\"id\":\"b90351c6-210e-40f6-b2c2-6c87ddb7fa8c\",\"type\":\"Circle\"},\"selection_glyph\":null,\"view\":{\"id\":\"75de66b9-5688-4a30-916a-94603eae6adc\",\"type\":\"CDSView\"}},\"id\":\"3e3cd73d-711b-4f7f-988b-e200818c9b57\",\"type\":\"GlyphRenderer\"},{\"attributes\":{},\"id\":\"409749f4-7389-4b38-bf51-1bdc66452225\",\"type\":\"SaveTool\"},{\"attributes\":{\"overlay\":{\"id\":\"9b759972-9e1f-4154-ab93-b2ae4904b8be\",\"type\":\"BoxAnnotation\"}},\"id\":\"9415f83c-b795-4946-9aad-d53f74ff7336\",\"type\":\"BoxZoomTool\"},{\"attributes\":{\"source\":{\"id\":\"14ecb385-ed90-4eac-b216-7ab08af1f5a9\",\"type\":\"ColumnDataSource\"}},\"id\":\"75de66b9-5688-4a30-916a-94603eae6adc\",\"type\":\"CDSView\"},{\"attributes\":{\"fill_color\":{\"value\":\"red\"},\"line_color\":{\"value\":\"red\"},\"x\":{\"field\":\"x\"},\"y\":{\"field\":\"y\"}},\"id\":\"c5df2e7d-e93c-4c46-95f8-7a027338b8fd\",\"type\":\"Circle\"},{\"attributes\":{},\"id\":\"89a107e3-3380-408e-b717-9a09874e8c6a\",\"type\":\"UnionRenderers\"},{\"attributes\":{\"mantissas\":[1,2,5],\"max_interval\":500.0,\"num_minor_ticks\":0},\"id\":\"9bd1d58f-6606-4331-96d8-ebde5a2eeadd\",\"type\":\"AdaptiveTicker\"},{\"attributes\":{\"below\":[{\"id\":\"a1f00a4d-3b65-453e-b52b-3d58b34ac2f3\",\"type\":\"DatetimeAxis\"}],\"left\":[{\"id\":\"cceccda4-9c93-4440-800e-99e7c9285687\",\"type\":\"LinearAxis\"}],\"plot_height\":400,\"plot_width\":800,\"renderers\":[{\"id\":\"a1f00a4d-3b65-453e-b52b-3d58b34ac2f3\",\"type\":\"DatetimeAxis\"},{\"id\":\"c672c50f-2d39-4549-a726-17dbbbf192d5\",\"type\":\"Grid\"},{\"id\":\"cceccda4-9c93-4440-800e-99e7c9285687\",\"type\":\"LinearAxis\"},{\"id\":\"e6d2ca88-2440-46d5-ba60-b6fae81665f0\",\"type\":\"Grid\"},{\"id\":\"9b759972-9e1f-4154-ab93-b2ae4904b8be\",\"type\":\"BoxAnnotation\"},{\"id\":\"938d8678-d650-414a-ae56-9fc0d7bf813b\",\"type\":\"GlyphRenderer\"},{\"id\":\"31f6c3d4-6790-4ed4-8627-feabd62c4d85\",\"type\":\"Legend\"},{\"id\":\"3e3cd73d-711b-4f7f-988b-e200818c9b57\",\"type\":\"GlyphRenderer\"}],\"title\":{\"id\":\"2f64be3e-e378-437a-8613-185d41f2343b\",\"type\":\"Title\"},\"toolbar\":{\"id\":\"be39cd72-4b7d-4624-a50f-59f02637d44a\",\"type\":\"Toolbar\"},\"x_range\":{\"id\":\"2909239c-191d-4bb9-94c9-42dccba4f65f\",\"type\":\"DataRange1d\"},\"x_scale\":{\"id\":\"102ff21c-197b-4769-ac2a-410e87a2e800\",\"type\":\"LinearScale\"},\"y_range\":{\"id\":\"3c2a3b11-9f37-4829-8b87-5a50bfe2426f\",\"type\":\"DataRange1d\"},\"y_scale\":{\"id\":\"e3ab17f5-f4df-4bc3-8d07-db38b18346e0\",\"type\":\"LinearScale\"}},\"id\":\"52387ec0-7575-40e2-9139-954b5e7ae4fb\",\"subtype\":\"Figure\",\"type\":\"Plot\"},{\"attributes\":{\"fill_alpha\":{\"value\":0.1},\"fill_color\":{\"value\":\"#1f77b4\"},\"line_alpha\":{\"value\":0.1},\"line_color\":{\"value\":\"#1f77b4\"},\"x\":{\"field\":\"x\"},\"y\":{\"field\":\"y\"}},\"id\":\"b90351c6-210e-40f6-b2c2-6c87ddb7fa8c\",\"type\":\"Circle\"},{\"attributes\":{},\"id\":\"c7670897-71a8-4957-9f7c-3e5d1d4c462d\",\"type\":\"HelpTool\"},{\"attributes\":{},\"id\":\"ba919226-d2a6-4ecb-9df2-4a85bd0d05a7\",\"type\":\"ResetTool\"},{\"attributes\":{\"days\":[1,4,7,10,13,16,19,22,25,28]},\"id\":\"16b4476c-2c62-4a41-bebd-cccbda9ead27\",\"type\":\"DaysTicker\"},{\"attributes\":{\"days\":[1,2,3,4,5,6,7,8,9,10,11,12,13,14,15,16,17,18,19,20,21,22,23,24,25,26,27,28,29,30,31]},\"id\":\"d97bfeb2-0e30-4b6a-a2dc-0f0a12f9bcb0\",\"type\":\"DaysTicker\"},{\"attributes\":{\"base\":24,\"mantissas\":[1,2,4,6,8,12],\"max_interval\":43200000.0,\"min_interval\":3600000.0,\"num_minor_ticks\":0},\"id\":\"64c1c5e5-3f24-4f99-a4b1-ac8297d901ad\",\"type\":\"AdaptiveTicker\"},{\"attributes\":{},\"id\":\"43f090ad-5705-4e26-8fc1-6032c1392c0e\",\"type\":\"PanTool\"},{\"attributes\":{\"source\":{\"id\":\"80c23a7e-7747-4d28-8d2a-3980126586ce\",\"type\":\"ColumnDataSource\"}},\"id\":\"bbd94229-61c9-4f8f-adfb-55cfeca1b1f0\",\"type\":\"CDSView\"},{\"attributes\":{},\"id\":\"36b5ade6-4ce3-4195-842d-63881294a0a2\",\"type\":\"DatetimeTickFormatter\"},{\"attributes\":{},\"id\":\"102ff21c-197b-4769-ac2a-410e87a2e800\",\"type\":\"LinearScale\"},{\"attributes\":{\"days\":[1,8,15,22]},\"id\":\"282df9f3-2b6e-4864-90c0-91221596b2b3\",\"type\":\"DaysTicker\"},{\"attributes\":{\"line_alpha\":0.5,\"line_color\":\"blue\",\"x\":{\"field\":\"x\"},\"y\":{\"field\":\"y\"}},\"id\":\"b21bedae-6d14-480b-b878-e0f404e38cdb\",\"type\":\"Line\"},{\"attributes\":{\"base\":60,\"mantissas\":[1,2,5,10,15,20,30],\"max_interval\":1800000.0,\"min_interval\":1000.0,\"num_minor_ticks\":0},\"id\":\"b5f715bc-5a08-4f24-9393-f97448f6dd50\",\"type\":\"AdaptiveTicker\"},{\"attributes\":{\"active_drag\":\"auto\",\"active_inspect\":\"auto\",\"active_scroll\":\"auto\",\"active_tap\":\"auto\",\"tools\":[{\"id\":\"43f090ad-5705-4e26-8fc1-6032c1392c0e\",\"type\":\"PanTool\"},{\"id\":\"c8c644da-63c9-44db-8643-e286b1036280\",\"type\":\"WheelZoomTool\"},{\"id\":\"9415f83c-b795-4946-9aad-d53f74ff7336\",\"type\":\"BoxZoomTool\"},{\"id\":\"409749f4-7389-4b38-bf51-1bdc66452225\",\"type\":\"SaveTool\"},{\"id\":\"ba919226-d2a6-4ecb-9df2-4a85bd0d05a7\",\"type\":\"ResetTool\"},{\"id\":\"c7670897-71a8-4957-9f7c-3e5d1d4c462d\",\"type\":\"HelpTool\"}]},\"id\":\"be39cd72-4b7d-4624-a50f-59f02637d44a\",\"type\":\"Toolbar\"},{\"attributes\":{\"days\":[1,15]},\"id\":\"8db77671-4dc1-4653-b366-441820391500\",\"type\":\"DaysTicker\"},{\"attributes\":{\"callback\":null},\"id\":\"2909239c-191d-4bb9-94c9-42dccba4f65f\",\"type\":\"DataRange1d\"},{\"attributes\":{\"label\":{\"value\":\"price shock without vol shock\"},\"renderers\":[{\"id\":\"3e3cd73d-711b-4f7f-988b-e200818c9b57\",\"type\":\"GlyphRenderer\"}]},\"id\":\"8d6844fe-a910-4473-82ac-11f25f0d09ea\",\"type\":\"LegendItem\"},{\"attributes\":{\"bottom_units\":\"screen\",\"fill_alpha\":{\"value\":0.5},\"fill_color\":{\"value\":\"lightgrey\"},\"left_units\":\"screen\",\"level\":\"overlay\",\"line_alpha\":{\"value\":1.0},\"line_color\":{\"value\":\"black\"},\"line_dash\":[4,4],\"line_width\":{\"value\":2},\"plot\":null,\"render_mode\":\"css\",\"right_units\":\"screen\",\"top_units\":\"screen\"},\"id\":\"9b759972-9e1f-4154-ab93-b2ae4904b8be\",\"type\":\"BoxAnnotation\"},{\"attributes\":{\"months\":[0,2,4,6,8,10]},\"id\":\"f916786c-4bca-4cbf-a6dd-5eb88ec6dbec\",\"type\":\"MonthsTicker\"},{\"attributes\":{\"plot\":null,\"text\":\"Time Series for TCS\"},\"id\":\"2f64be3e-e378-437a-8613-185d41f2343b\",\"type\":\"Title\"},{\"attributes\":{\"months\":[0,1,2,3,4,5,6,7,8,9,10,11]},\"id\":\"9e2eb6fe-7305-4fd4-9be6-191c17905706\",\"type\":\"MonthsTicker\"},{\"attributes\":{\"plot\":{\"id\":\"52387ec0-7575-40e2-9139-954b5e7ae4fb\",\"subtype\":\"Figure\",\"type\":\"Plot\"},\"ticker\":{\"id\":\"f99760f2-a8e2-49d5-8a63-682c34994ec8\",\"type\":\"DatetimeTicker\"}},\"id\":\"c672c50f-2d39-4549-a726-17dbbbf192d5\",\"type\":\"Grid\"},{\"attributes\":{\"dimension\":1,\"plot\":{\"id\":\"52387ec0-7575-40e2-9139-954b5e7ae4fb\",\"subtype\":\"Figure\",\"type\":\"Plot\"},\"ticker\":{\"id\":\"c7632d84-94b9-4140-a088-c88184e06495\",\"type\":\"BasicTicker\"}},\"id\":\"e6d2ca88-2440-46d5-ba60-b6fae81665f0\",\"type\":\"Grid\"},{\"attributes\":{\"months\":[0,6]},\"id\":\"00721d11-e1c2-4321-8d73-3025b9cb042d\",\"type\":\"MonthsTicker\"},{\"attributes\":{\"line_alpha\":0.1,\"line_color\":\"#1f77b4\",\"x\":{\"field\":\"x\"},\"y\":{\"field\":\"y\"}},\"id\":\"002edf71-0780-49b8-9735-4e01dc17febb\",\"type\":\"Line\"},{\"attributes\":{\"items\":[{\"id\":\"8d6844fe-a910-4473-82ac-11f25f0d09ea\",\"type\":\"LegendItem\"}],\"plot\":{\"id\":\"52387ec0-7575-40e2-9139-954b5e7ae4fb\",\"subtype\":\"Figure\",\"type\":\"Plot\"}},\"id\":\"31f6c3d4-6790-4ed4-8627-feabd62c4d85\",\"type\":\"Legend\"},{\"attributes\":{\"callback\":null},\"id\":\"3c2a3b11-9f37-4829-8b87-5a50bfe2426f\",\"type\":\"DataRange1d\"},{\"attributes\":{},\"id\":\"7e9da098-9aa5-43a1-91b8-cc6d72a32c37\",\"type\":\"Selection\"},{\"attributes\":{},\"id\":\"e3ab17f5-f4df-4bc3-8d07-db38b18346e0\",\"type\":\"LinearScale\"},{\"attributes\":{\"callback\":null,\"data\":{\"x\":{\"__ndarray__\":\"AAAAqyyqdEIAAMAQf6p0QgAAAEJ2q3RCAADAp8irdEIAAIANG6x0QgAAQHNtrHRCAAAA2b+sdEIAAEAKt610QgAAAHAJrnRCAADA1VuudEIAAIA7rq50QgAAQKEAr3RCAACA0vevdEIAAEA4SrB0QgAAAJ6csHRCAADAA++wdEIAAIBpQbF0QgAAgACLsnRCAABAZt2ydEIAAADML7N0QgAAwDGCs3RCAAAAY3m0dEIAAMDIy7R0QgAAgC4etXRCAABAlHC1dEIAAAD6wrV0QgAAQCu6tnRCAAAAkQy3dEIAAMD2Xrd0QgAAgFyxt3RCAABAwgO4dEIAAIDz+rh0QgAAAL+fuXRCAADAJPK5dEIAAICKRLp0QgAAwLs7u3RCAACAIY67dEIAAECH4Lt0QgAAAO0yvHRCAADAUoW8dEIAAIC417x0QgAAAIR8vXRCAADA6c69dEIAAIBPIb50QgAAQLVzvnRCAABATL2/dEIAAACyD8B0QgAAwBdiwHRCAACAfbTAdEIAAEDjBsF0QgAAgBT+wXRCAABAelDCdEIAAADgosJ0QgAAwEX1wnRCAACAq0fDdEIAAMDcPsR0QgAAgEKRxHRCAABAqOPEdEIAAAAONsV0QgAAwHOIxXRCAAAApX/GdEIAAMAK0sZ0QgAAgHAkx3RCAABAbcDIdEIAAADTEsl0QgAAwDhlyXRCAACAnrfJdEIAAEAECsp0QgAAgDUBy3RCAAAAAabLdEIAAMBm+Mt0QgAAgMxKzHRCAADA/UHNdEIAAIBjlM10QgAAQMnmzXRCAAAALznOdEIAAMCUi850QgAAAMaCz3RCAADAK9XPdEIAAICRJ9B0QgAAQPd50HRCAABAjsPRdEIAAAD0FdJ0QgAAwFlo0nRCAACAv7rSdEIAAEAlDdN0QgAAgFYE1HRCAABAvFbUdEIAAAAiqdR0QgAAwIf71HRCAACA7U3VdEIAAMAeRdZ0QgAAgISX1nRCAABA6unWdEIAAABQPNd0QgAAwLWO13RCAAAA54XYdEIAAMBM2Nh0QgAAgLIq2XRCAABAGH3ZdEIAAAB+z9l0QgAAQK/G2nRCAAAAFRnbdEIAAMB6a9t0QgAAgOC923RCAABARhDcdEIAAIB3B910QgAAQN1Z3XRCAAAAQ6zddEIAAMCo/t10QgAAgA5R3nRCAADAP0jfdEIAAIClmt90QgAAQAvt33RCAAAAcT/gdEIAAMDWkeB0QgAAAAiJ4XRCAADAbdvhdEIAAIDTLeJ0QgAAQDmA4nRCAAAAn9LidEIAAEDQyeN0QgAAADYc5HRCAADAm27kdEIAAIABweR0QgAAQGcT5XRCAACAmArmdEIAAED+XOZ0QgAAAGSv5nRCAADAyQHndEIAAIAvVOd0QgAAwGBL6HRCAACAxp3odEIAAEAs8Oh0QgAAAJJC6XRCAADA95TpdEIAAAApjOp0QgAAwI7e6nRCAACA9DDrdEIAAEBag+t0QgAAAMDV63RCAABA8czsdEIAAABXH+10QgAAwLxx7XRCAACAIsTtdEIAAECIFu50QgAAgLkN73RCAABAH2DvdEIAAACFsu90QgAAwOoE8HRCAACAUFfwdEIAAMCBTvF0QgAAgOeg8XRCAABATfPxdEIAAACzRfJ0QgAAwBiY8nRCAAAASo/zdEIAAMCv4fN0QgAAgBU09HRCAABAe4b0dEIAAADh2PR0QgAAQBLQ9XRCAAAAeCL2dEIAAMDddPZ0QgAAgEPH9nRCAABAqRn3dEIAAIDaEPh0QgAAQEBj+HRCAAAAprX4dEIAAMALCPl0QgAAgHFa+XRCAADAolH6dEIAAIAIpPp0QgAAQG72+nRCAAAA1Ej7dEIAAMA5m/t0QgAAAGuS/HRCAADA0OT8dEIAAIA2N/10QgAAAALc/XRCAABAM9P+dEIAAACZJf90QgAAwP53/3RCAACAZMr/dEIAAID7EwF1QgAAQGFmAXVCAAAAx7gBdUIAAMAsCwJ1QgAAwMNUA3VCAACAKacDdUIAAECP+QN1QgAAAPVLBHVCAADAWp4EdUIAAACMlQV1QgAAwPHnBXVCAACAVzoGdUIAAEC9jAZ1QgAAACPfBnVCAABAVNYHdUIAAAC6KAh1QgAAwB97CHVCAABA6x8JdUIAAIAcFwp1QgAAQIJpCnVCAAAA6LsKdUIAAMBNDgt1QgAAgLNgC3VCAADA5FcMdUIAAIBKqgx1QgAAQLD8DHVCAAAAFk8NdUIAAMB7oQ11QgAAAK2YDnVCAADAEusOdUIAAIB4PQ91QgAAAETiD3VCAABAddkQdUIAAADbKxF1QgAAwEB+EXVCAACAptARdUIAAEAMIxJ1QgAAgD0aE3VCAABAo2wTdUIAAMBuERR1QgAAgNRjFHVCAADABVsVdUIAAIBrrRV1QgAAQNH/FXVCAAAAN1IWdUIAAMCcpBZ1QgAAAM6bF3VCAADAM+4XdUIAAICZQBh1QgAAQP+SGHVCAAAAZeUYdUIAAECW3Bl1QgAAAPwuGnVCAADAYYEadUIAAIDH0xp1QgAAQC0mG3VCAACAXh0cdUIAAEDEbxx1QgAAACrCHHVCAADAjxQddUIAAMAmXh51QgAAgIywHnVCAABA8gIfdUIAAABYVR91QgAAwL2nH3VC\",\"dtype\":\"float64\",\"shape\":[249]},\"y\":{\"__ndarray__\":\"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\",\"dtype\":\"float64\",\"shape\":[249]}},\"selected\":{\"id\":\"7e9da098-9aa5-43a1-91b8-cc6d72a32c37\",\"type\":\"Selection\"},\"selection_policy\":{\"id\":\"e9e7115e-6992-4bcf-b328-a0dc125c072b\",\"type\":\"UnionRenderers\"}},\"id\":\"80c23a7e-7747-4d28-8d2a-3980126586ce\",\"type\":\"ColumnDataSource\"},{\"attributes\":{\"months\":[0,4,8]},\"id\":\"4297bac6-82b8-4264-8fb2-ca6d7a20304c\",\"type\":\"MonthsTicker\"},{\"attributes\":{},\"id\":\"8c763dc2-0b69-4962-9973-852dda99501c\",\"type\":\"Selection\"},{\"attributes\":{},\"id\":\"c7632d84-94b9-4140-a088-c88184e06495\",\"type\":\"BasicTicker\"},{\"attributes\":{\"num_minor_ticks\":5,\"tickers\":[{\"id\":\"9bd1d58f-6606-4331-96d8-ebde5a2eeadd\",\"type\":\"AdaptiveTicker\"},{\"id\":\"b5f715bc-5a08-4f24-9393-f97448f6dd50\",\"type\":\"AdaptiveTicker\"},{\"id\":\"64c1c5e5-3f24-4f99-a4b1-ac8297d901ad\",\"type\":\"AdaptiveTicker\"},{\"id\":\"d97bfeb2-0e30-4b6a-a2dc-0f0a12f9bcb0\",\"type\":\"DaysTicker\"},{\"id\":\"16b4476c-2c62-4a41-bebd-cccbda9ead27\",\"type\":\"DaysTicker\"},{\"id\":\"282df9f3-2b6e-4864-90c0-91221596b2b3\",\"type\":\"DaysTicker\"},{\"id\":\"8db77671-4dc1-4653-b366-441820391500\",\"type\":\"DaysTicker\"},{\"id\":\"9e2eb6fe-7305-4fd4-9be6-191c17905706\",\"type\":\"MonthsTicker\"},{\"id\":\"f916786c-4bca-4cbf-a6dd-5eb88ec6dbec\",\"type\":\"MonthsTicker\"},{\"id\":\"4297bac6-82b8-4264-8fb2-ca6d7a20304c\",\"type\":\"MonthsTicker\"},{\"id\":\"00721d11-e1c2-4321-8d73-3025b9cb042d\",\"type\":\"MonthsTicker\"},{\"id\":\"a6ad5d06-2cb5-462d-bdd3-46ba63113f2d\",\"type\":\"YearsTicker\"}]},\"id\":\"f99760f2-a8e2-49d5-8a63-682c34994ec8\",\"type\":\"DatetimeTicker\"},{\"attributes\":{},\"id\":\"a6ad5d06-2cb5-462d-bdd3-46ba63113f2d\",\"type\":\"YearsTicker\"},{\"attributes\":{\"formatter\":{\"id\":\"36b5ade6-4ce3-4195-842d-63881294a0a2\",\"type\":\"DatetimeTickFormatter\"},\"plot\":{\"id\":\"52387ec0-7575-40e2-9139-954b5e7ae4fb\",\"subtype\":\"Figure\",\"type\":\"Plot\"},\"ticker\":{\"id\":\"f99760f2-a8e2-49d5-8a63-682c34994ec8\",\"type\":\"DatetimeTicker\"}},\"id\":\"a1f00a4d-3b65-453e-b52b-3d58b34ac2f3\",\"type\":\"DatetimeAxis\"}],\"root_ids\":[\"52387ec0-7575-40e2-9139-954b5e7ae4fb\"]},\"title\":\"Bokeh Application\",\"version\":\"0.12.16\"}};\n",
       "  var render_items = [{\"docid\":\"5e14c15b-24c6-4b78-9e5d-03dd451d860e\",\"elementid\":\"994d0d9b-3075-4eb7-b142-71c8491b7e4d\",\"modelid\":\"52387ec0-7575-40e2-9139-954b5e7ae4fb\"}];\n",
       "  root.Bokeh.embed.embed_items_notebook(docs_json, render_items);\n",
       "\n",
       "  }\n",
       "  if (root.Bokeh !== undefined) {\n",
       "    embed_document(root);\n",
       "  } else {\n",
       "    var attempts = 0;\n",
       "    var timer = setInterval(function(root) {\n",
       "      if (root.Bokeh !== undefined) {\n",
       "        embed_document(root);\n",
       "        clearInterval(timer);\n",
       "      }\n",
       "      attempts++;\n",
       "      if (attempts > 100) {\n",
       "        console.log(\"Bokeh: ERROR: Unable to run BokehJS code because BokehJS library is missing\")\n",
       "        clearInterval(timer);\n",
       "      }\n",
       "    }, 10, root)\n",
       "  }\n",
       "})(window);"
      ],
      "application/vnd.bokehjs_exec.v0+json": ""
     },
     "metadata": {
      "application/vnd.bokehjs_exec.v0+json": {
       "id": "52387ec0-7575-40e2-9139-954b5e7ae4fb"
      }
     },
     "output_type": "display_data"
    },
    {
     "data": {
      "text/html": [
       "\n",
       "<div class=\"bk-root\">\n",
       "    <div class=\"bk-plotdiv\" id=\"2abfad8a-c436-4dfe-8d2e-dd82f20fcbe2\"></div>\n",
       "</div>"
      ]
     },
     "metadata": {},
     "output_type": "display_data"
    },
    {
     "data": {
      "application/javascript": [
       "(function(root) {\n",
       "  function embed_document(root) {\n",
       "    \n",
       "  var docs_json = {\"ca060ac9-d73e-433b-bd64-98c0b69eed64\":{\"roots\":{\"references\":[{\"attributes\":{\"bottom_units\":\"screen\",\"fill_alpha\":{\"value\":0.5},\"fill_color\":{\"value\":\"lightgrey\"},\"left_units\":\"screen\",\"level\":\"overlay\",\"line_alpha\":{\"value\":1.0},\"line_color\":{\"value\":\"black\"},\"line_dash\":[4,4],\"line_width\":{\"value\":2},\"plot\":null,\"render_mode\":\"css\",\"right_units\":\"screen\",\"top_units\":\"screen\"},\"id\":\"0f713a9f-aaaa-460a-b4e8-13ecceba40b5\",\"type\":\"BoxAnnotation\"},{\"attributes\":{},\"id\":\"e14d4f87-44bb-410e-87f7-f3061a6f1e29\",\"type\":\"Selection\"},{\"attributes\":{},\"id\":\"5a2eb1c6-becb-4935-9e40-46357281a4a0\",\"type\":\"BasicTickFormatter\"},{\"attributes\":{\"label\":{\"value\":\"price shock without vol shock\"},\"renderers\":[{\"id\":\"67044088-c906-45b0-9c5e-6f87c24a14f7\",\"type\":\"GlyphRenderer\"}]},\"id\":\"6a3ea464-dca2-4cca-aa12-d9da41e65aae\",\"type\":\"LegendItem\"},{\"attributes\":{\"formatter\":{\"id\":\"5a2eb1c6-becb-4935-9e40-46357281a4a0\",\"type\":\"BasicTickFormatter\"},\"plot\":{\"id\":\"3044c831-7bf4-40f7-96f8-4dcf13b9e989\",\"subtype\":\"Figure\",\"type\":\"Plot\"},\"ticker\":{\"id\":\"25d6e405-cc73-4569-aeb2-8425ab7e9f7a\",\"type\":\"BasicTicker\"}},\"id\":\"5d813cf3-7c43-4d5d-83af-818c4bc5a4f0\",\"type\":\"LinearAxis\"},{\"attributes\":{},\"id\":\"92e03634-88d8-46fd-baec-e5a14c166af9\",\"type\":\"UnionRenderers\"},{\"attributes\":{},\"id\":\"ee733bfa-e484-4811-b958-28a412203836\",\"type\":\"WheelZoomTool\"},{\"attributes\":{},\"id\":\"25d6e405-cc73-4569-aeb2-8425ab7e9f7a\",\"type\":\"BasicTicker\"},{\"attributes\":{\"months\":[0,4,8]},\"id\":\"7e02c052-e34e-4349-89e0-9d35c6a87a9e\",\"type\":\"MonthsTicker\"},{\"attributes\":{\"formatter\":{\"id\":\"cabe2b9e-dbc2-4cb1-ba20-7f9eb2ec1f38\",\"type\":\"DatetimeTickFormatter\"},\"plot\":{\"id\":\"3044c831-7bf4-40f7-96f8-4dcf13b9e989\",\"subtype\":\"Figure\",\"type\":\"Plot\"},\"ticker\":{\"id\":\"96142d3b-9d55-4b5f-9b08-41a8b8ddd4f0\",\"type\":\"DatetimeTicker\"}},\"id\":\"a2402f10-7d1a-4d0d-af7d-0715e9a67c9c\",\"type\":\"DatetimeAxis\"},{\"attributes\":{\"num_minor_ticks\":5,\"tickers\":[{\"id\":\"1b177526-c786-4d33-a5f3-771d7feccc13\",\"type\":\"AdaptiveTicker\"},{\"id\":\"bf6a3356-0d78-4195-9f02-ef65d8bc477d\",\"type\":\"AdaptiveTicker\"},{\"id\":\"d66b5de9-b4ef-4b0f-96a0-75ca5be535d9\",\"type\":\"AdaptiveTicker\"},{\"id\":\"c81a6065-1ed9-4a37-a132-dd0a17c71260\",\"type\":\"DaysTicker\"},{\"id\":\"7c63c4ce-c2de-44c6-b13a-2f58828b9074\",\"type\":\"DaysTicker\"},{\"id\":\"50214950-d808-4e81-b14c-426d0d4da33f\",\"type\":\"DaysTicker\"},{\"id\":\"5e435878-9146-406f-a9f3-522522193ee7\",\"type\":\"DaysTicker\"},{\"id\":\"4c839205-cb7e-4ecf-acd3-9393b5cacf90\",\"type\":\"MonthsTicker\"},{\"id\":\"5e0dd3be-981d-4311-a5f7-d1b878a1b337\",\"type\":\"MonthsTicker\"},{\"id\":\"7e02c052-e34e-4349-89e0-9d35c6a87a9e\",\"type\":\"MonthsTicker\"},{\"id\":\"0ade83e4-d161-422b-a323-c58184e34b60\",\"type\":\"MonthsTicker\"},{\"id\":\"b6323c5c-b447-41a1-87c0-3339cba3050a\",\"type\":\"YearsTicker\"}]},\"id\":\"96142d3b-9d55-4b5f-9b08-41a8b8ddd4f0\",\"type\":\"DatetimeTicker\"},{\"attributes\":{},\"id\":\"94e0be84-c28e-4e6c-b970-15c9fc27c802\",\"type\":\"HelpTool\"},{\"attributes\":{},\"id\":\"a9056146-f68e-41b3-8e86-b452eb1d093c\",\"type\":\"LinearScale\"},{\"attributes\":{\"line_alpha\":0.1,\"line_color\":\"#1f77b4\",\"x\":{\"field\":\"x\"},\"y\":{\"field\":\"y\"}},\"id\":\"ec7f9ea4-b017-46eb-845a-4198dbcd9548\",\"type\":\"Line\"},{\"attributes\":{\"data_source\":{\"id\":\"f6ba419b-4aa1-437b-a285-7776aa047faf\",\"type\":\"ColumnDataSource\"},\"glyph\":{\"id\":\"b582aee4-7117-43a6-a1c2-5f74d1889973\",\"type\":\"Line\"},\"hover_glyph\":null,\"muted_glyph\":null,\"nonselection_glyph\":{\"id\":\"ec7f9ea4-b017-46eb-845a-4198dbcd9548\",\"type\":\"Line\"},\"selection_glyph\":null,\"view\":{\"id\":\"112a4803-239b-4f6a-82d4-be26677c228b\",\"type\":\"CDSView\"}},\"id\":\"5de2e2d0-f87b-4e94-be35-b7af92014085\",\"type\":\"GlyphRenderer\"},{\"attributes\":{\"plot\":{\"id\":\"3044c831-7bf4-40f7-96f8-4dcf13b9e989\",\"subtype\":\"Figure\",\"type\":\"Plot\"},\"ticker\":{\"id\":\"96142d3b-9d55-4b5f-9b08-41a8b8ddd4f0\",\"type\":\"DatetimeTicker\"}},\"id\":\"60266f0e-f719-497e-8778-1f5a0165b2b4\",\"type\":\"Grid\"},{\"attributes\":{\"days\":[1,15]},\"id\":\"5e435878-9146-406f-a9f3-522522193ee7\",\"type\":\"DaysTicker\"},{\"attributes\":{},\"id\":\"e3955e3d-44b4-4840-9163-a64ae9399069\",\"type\":\"LinearScale\"},{\"attributes\":{},\"id\":\"b6323c5c-b447-41a1-87c0-3339cba3050a\",\"type\":\"YearsTicker\"},{\"attributes\":{\"months\":[0,6]},\"id\":\"0ade83e4-d161-422b-a323-c58184e34b60\",\"type\":\"MonthsTicker\"},{\"attributes\":{\"fill_alpha\":{\"value\":0.1},\"fill_color\":{\"value\":\"#1f77b4\"},\"line_alpha\":{\"value\":0.1},\"line_color\":{\"value\":\"#1f77b4\"},\"x\":{\"field\":\"x\"},\"y\":{\"field\":\"y\"}},\"id\":\"d58ce960-f910-4f55-ba38-2d16d3c5487c\",\"type\":\"Circle\"},{\"attributes\":{\"below\":[{\"id\":\"a2402f10-7d1a-4d0d-af7d-0715e9a67c9c\",\"type\":\"DatetimeAxis\"}],\"left\":[{\"id\":\"5d813cf3-7c43-4d5d-83af-818c4bc5a4f0\",\"type\":\"LinearAxis\"}],\"plot_height\":400,\"plot_width\":800,\"renderers\":[{\"id\":\"a2402f10-7d1a-4d0d-af7d-0715e9a67c9c\",\"type\":\"DatetimeAxis\"},{\"id\":\"60266f0e-f719-497e-8778-1f5a0165b2b4\",\"type\":\"Grid\"},{\"id\":\"5d813cf3-7c43-4d5d-83af-818c4bc5a4f0\",\"type\":\"LinearAxis\"},{\"id\":\"da2e8f98-76dc-4423-ae24-70694dca4c22\",\"type\":\"Grid\"},{\"id\":\"0f713a9f-aaaa-460a-b4e8-13ecceba40b5\",\"type\":\"BoxAnnotation\"},{\"id\":\"5de2e2d0-f87b-4e94-be35-b7af92014085\",\"type\":\"GlyphRenderer\"},{\"id\":\"451b511b-1790-43e4-8265-9f4605cf697d\",\"type\":\"Legend\"},{\"id\":\"67044088-c906-45b0-9c5e-6f87c24a14f7\",\"type\":\"GlyphRenderer\"}],\"title\":{\"id\":\"f187abe7-554c-4c01-ab8d-fad8dbd3b5b2\",\"type\":\"Title\"},\"toolbar\":{\"id\":\"b99101af-ee2f-44ae-bb38-3c228544225c\",\"type\":\"Toolbar\"},\"x_range\":{\"id\":\"99ba3124-3f77-445e-b0d9-301dd149cc9a\",\"type\":\"DataRange1d\"},\"x_scale\":{\"id\":\"a9056146-f68e-41b3-8e86-b452eb1d093c\",\"type\":\"LinearScale\"},\"y_range\":{\"id\":\"58bce52e-377d-40ba-b120-488198bbecf3\",\"type\":\"DataRange1d\"},\"y_scale\":{\"id\":\"e3955e3d-44b4-4840-9163-a64ae9399069\",\"type\":\"LinearScale\"}},\"id\":\"3044c831-7bf4-40f7-96f8-4dcf13b9e989\",\"subtype\":\"Figure\",\"type\":\"Plot\"},{\"attributes\":{\"overlay\":{\"id\":\"0f713a9f-aaaa-460a-b4e8-13ecceba40b5\",\"type\":\"BoxAnnotation\"}},\"id\":\"ee6bdc49-184f-4ca4-aa07-5d382165ee2e\",\"type\":\"BoxZoomTool\"},{\"attributes\":{},\"id\":\"8e56f81c-2fd3-40c6-8fe5-2a98cec85d3a\",\"type\":\"Selection\"},{\"attributes\":{},\"id\":\"1790c728-f30c-42f7-9ab8-b85f8cb45252\",\"type\":\"SaveTool\"},{\"attributes\":{\"callback\":null,\"data\":{\"x\":{\"__ndarray__\":\"AADAp8irdEIAAADtMrx0QgAAgBT+wXRCAABAjsPRdEIAAMA/SN90QgAAAMe4AXVC\",\"dtype\":\"float64\",\"shape\":[6]},\"y\":{\"__ndarray__\":\"zczMzMyInkAzMzMzM6ShQM3MzMxMtaFAZmZmZmYkn0CamZmZmfOOQM3MzMzMJ5JA\",\"dtype\":\"float64\",\"shape\":[6]}},\"selected\":{\"id\":\"e14d4f87-44bb-410e-87f7-f3061a6f1e29\",\"type\":\"Selection\"},\"selection_policy\":{\"id\":\"92e03634-88d8-46fd-baec-e5a14c166af9\",\"type\":\"UnionRenderers\"}},\"id\":\"b9f317f1-fffe-478f-a493-186e1dfdeb68\",\"type\":\"ColumnDataSource\"},{\"attributes\":{\"dimension\":1,\"plot\":{\"id\":\"3044c831-7bf4-40f7-96f8-4dcf13b9e989\",\"subtype\":\"Figure\",\"type\":\"Plot\"},\"ticker\":{\"id\":\"25d6e405-cc73-4569-aeb2-8425ab7e9f7a\",\"type\":\"BasicTicker\"}},\"id\":\"da2e8f98-76dc-4423-ae24-70694dca4c22\",\"type\":\"Grid\"},{\"attributes\":{\"months\":[0,1,2,3,4,5,6,7,8,9,10,11]},\"id\":\"4c839205-cb7e-4ecf-acd3-9393b5cacf90\",\"type\":\"MonthsTicker\"},{\"attributes\":{\"months\":[0,2,4,6,8,10]},\"id\":\"5e0dd3be-981d-4311-a5f7-d1b878a1b337\",\"type\":\"MonthsTicker\"},{\"attributes\":{\"active_drag\":\"auto\",\"active_inspect\":\"auto\",\"active_scroll\":\"auto\",\"active_tap\":\"auto\",\"tools\":[{\"id\":\"43df6d24-8481-44d9-ae6f-3f12ec571c78\",\"type\":\"PanTool\"},{\"id\":\"ee733bfa-e484-4811-b958-28a412203836\",\"type\":\"WheelZoomTool\"},{\"id\":\"ee6bdc49-184f-4ca4-aa07-5d382165ee2e\",\"type\":\"BoxZoomTool\"},{\"id\":\"1790c728-f30c-42f7-9ab8-b85f8cb45252\",\"type\":\"SaveTool\"},{\"id\":\"91e76b33-b779-4def-8a8d-11eb33677933\",\"type\":\"ResetTool\"},{\"id\":\"94e0be84-c28e-4e6c-b970-15c9fc27c802\",\"type\":\"HelpTool\"}]},\"id\":\"b99101af-ee2f-44ae-bb38-3c228544225c\",\"type\":\"Toolbar\"},{\"attributes\":{\"callback\":null},\"id\":\"99ba3124-3f77-445e-b0d9-301dd149cc9a\",\"type\":\"DataRange1d\"},{\"attributes\":{\"days\":[1,4,7,10,13,16,19,22,25,28]},\"id\":\"7c63c4ce-c2de-44c6-b13a-2f58828b9074\",\"type\":\"DaysTicker\"},{\"attributes\":{},\"id\":\"cabe2b9e-dbc2-4cb1-ba20-7f9eb2ec1f38\",\"type\":\"DatetimeTickFormatter\"},{\"attributes\":{\"days\":[1,2,3,4,5,6,7,8,9,10,11,12,13,14,15,16,17,18,19,20,21,22,23,24,25,26,27,28,29,30,31]},\"id\":\"c81a6065-1ed9-4a37-a132-dd0a17c71260\",\"type\":\"DaysTicker\"},{\"attributes\":{},\"id\":\"a2f44f4d-ead7-4f40-8e43-c44ab33c0435\",\"type\":\"UnionRenderers\"},{\"attributes\":{},\"id\":\"91e76b33-b779-4def-8a8d-11eb33677933\",\"type\":\"ResetTool\"},{\"attributes\":{},\"id\":\"43df6d24-8481-44d9-ae6f-3f12ec571c78\",\"type\":\"PanTool\"},{\"attributes\":{\"callback\":null,\"data\":{\"x\":{\"__ndarray__\":\"AAAAqyyqdEIAAMAQf6p0QgAAAEJ2q3RCAADAp8irdEIAAIANG6x0QgAAQHNtrHRCAAAA2b+sdEIAAEAKt610QgAAAHAJrnRCAADA1VuudEIAAIA7rq50QgAAQKEAr3RCAACA0vevdEIAAEA4SrB0QgAAAJ6csHRCAADAA++wdEIAAIBpQbF0QgAAgACLsnRCAABAZt2ydEIAAADML7N0QgAAwDGCs3RCAAAAY3m0dEIAAMDIy7R0QgAAgC4etXRCAABAlHC1dEIAAAD6wrV0QgAAQCu6tnRCAAAAkQy3dEIAAMD2Xrd0QgAAgFyxt3RCAABAwgO4dEIAAIDz+rh0QgAAAL+fuXRCAADAJPK5dEIAAICKRLp0QgAAwLs7u3RCAACAIY67dEIAAECH4Lt0QgAAAO0yvHRCAADAUoW8dEIAAIC417x0QgAAAIR8vXRCAADA6c69dEIAAIBPIb50QgAAQLVzvnRCAABATL2/dEIAAACyD8B0QgAAwBdiwHRCAACAfbTAdEIAAEDjBsF0QgAAgBT+wXRCAABAelDCdEIAAADgosJ0QgAAwEX1wnRCAACAq0fDdEIAAMDcPsR0QgAAgEKRxHRCAABAqOPEdEIAAAAONsV0QgAAwHOIxXRCAAAApX/GdEIAAMAK0sZ0QgAAgHAkx3RCAABAbcDIdEIAAADTEsl0QgAAwDhlyXRCAACAnrfJdEIAAEAECsp0QgAAgDUBy3RCAAAAAabLdEIAAMBm+Mt0QgAAgMxKzHRCAADA/UHNdEIAAIBjlM10QgAAQMnmzXRCAAAALznOdEIAAMCUi850QgAAAMaCz3RCAADAK9XPdEIAAICRJ9B0QgAAQPd50HRCAABAjsPRdEIAAAD0FdJ0QgAAwFlo0nRCAACAv7rSdEIAAEAlDdN0QgAAgFYE1HRCAABAvFbUdEIAAAAiqdR0QgAAwIf71HRCAACA7U3VdEIAAMAeRdZ0QgAAgISX1nRCAABA6unWdEIAAABQPNd0QgAAwLWO13RCAAAA54XYdEIAAMBM2Nh0QgAAgLIq2XRCAABAGH3ZdEIAAAB+z9l0QgAAQK/G2nRCAAAAFRnbdEIAAMB6a9t0QgAAgOC923RCAABARhDcdEIAAIB3B910QgAAQN1Z3XRCAAAAQ6zddEIAAMCo/t10QgAAgA5R3nRCAADAP0jfdEIAAIClmt90QgAAQAvt33RCAAAAcT/gdEIAAMDWkeB0QgAAAAiJ4XRCAADAbdvhdEIAAIDTLeJ0QgAAQDmA4nRCAAAAn9LidEIAAEDQyeN0QgAAADYc5HRCAADAm27kdEIAAIABweR0QgAAQGcT5XRCAACAmArmdEIAAED+XOZ0QgAAAGSv5nRCAADAyQHndEIAAIAvVOd0QgAAwGBL6HRCAACAxp3odEIAAEAs8Oh0QgAAAJJC6XRCAADA95TpdEIAAAApjOp0QgAAwI7e6nRCAACA9DDrdEIAAEBag+t0QgAAAMDV63RCAABA8czsdEIAAABXH+10QgAAwLxx7XRCAACAIsTtdEIAAECIFu50QgAAgLkN73RCAABAH2DvdEIAAACFsu90QgAAwOoE8HRCAACAUFfwdEIAAMCBTvF0QgAAgOeg8XRCAABATfPxdEIAAACzRfJ0QgAAwBiY8nRCAAAASo/zdEIAAMCv4fN0QgAAgBU09HRCAABAe4b0dEIAAADh2PR0QgAAQBLQ9XRCAAAAeCL2dEIAAMDddPZ0QgAAgEPH9nRCAABAqRn3dEIAAIDaEPh0QgAAQEBj+HRCAAAAprX4dEIAAMALCPl0QgAAgHFa+XRCAADAolH6dEIAAIAIpPp0QgAAQG72+nRCAAAA1Ej7dEIAAMA5m/t0QgAAAGuS/HRCAADA0OT8dEIAAIA2N/10QgAAAALc/XRCAABAM9P+dEIAAACZJf90QgAAwP53/3RCAACAZMr/dEIAAID7EwF1QgAAQGFmAXVCAAAAx7gBdUIAAMAsCwJ1QgAAwMNUA3VCAACAKacDdUIAAECP+QN1QgAAAPVLBHVCAADAWp4EdUIAAACMlQV1QgAAwPHnBXVCAACAVzoGdUIAAEC9jAZ1QgAAACPfBnVCAABAVNYHdUIAAAC6KAh1QgAAwB97CHVCAABA6x8JdUIAAIAcFwp1QgAAQIJpCnVCAAAA6LsKdUIAAMBNDgt1QgAAgLNgC3VCAADA5FcMdUIAAIBKqgx1QgAAQLD8DHVCAAAAFk8NdUIAAMB7oQ11QgAAAK2YDnVCAADAEusOdUIAAIB4PQ91QgAAAETiD3VCAABAddkQdUIAAADbKxF1QgAAwEB+EXVCAACAptARdUIAAEAMIxJ1QgAAgD0aE3VCAABAo2wTdUIAAMBuERR1QgAAgNRjFHVCAADABVsVdUIAAIBrrRV1QgAAQNH/FXVCAAAAN1IWdUIAAMCcpBZ1QgAAAM6bF3VCAADAM+4XdUIAAICZQBh1QgAAQP+SGHVCAAAAZeUYdUIAAECW3Bl1QgAAAPwuGnVCAADAYYEadUIAAIDH0xp1QgAAQC0mG3VCAACAXh0cdUIAAEDEbxx1QgAAACrCHHVCAADAjxQddUIAAMAmXh51QgAAgIywHnVCAABA8gIfdUIAAABYVR91QgAAwL2nH3VC\",\"dtype\":\"float64\",\"shape\":[249]},\"y\":{\"__ndarray__\":\"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\",\"dtype\":\"float64\",\"shape\":[249]}},\"selected\":{\"id\":\"8e56f81c-2fd3-40c6-8fe5-2a98cec85d3a\",\"type\":\"Selection\"},\"selection_policy\":{\"id\":\"a2f44f4d-ead7-4f40-8e43-c44ab33c0435\",\"type\":\"UnionRenderers\"}},\"id\":\"f6ba419b-4aa1-437b-a285-7776aa047faf\",\"type\":\"ColumnDataSource\"},{\"attributes\":{\"base\":24,\"mantissas\":[1,2,4,6,8,12],\"max_interval\":43200000.0,\"min_interval\":3600000.0,\"num_minor_ticks\":0},\"id\":\"d66b5de9-b4ef-4b0f-96a0-75ca5be535d9\",\"type\":\"AdaptiveTicker\"},{\"attributes\":{\"days\":[1,8,15,22]},\"id\":\"50214950-d808-4e81-b14c-426d0d4da33f\",\"type\":\"DaysTicker\"},{\"attributes\":{\"data_source\":{\"id\":\"b9f317f1-fffe-478f-a493-186e1dfdeb68\",\"type\":\"ColumnDataSource\"},\"glyph\":{\"id\":\"56fbcbfa-b147-478a-a945-a430e185759e\",\"type\":\"Circle\"},\"hover_glyph\":null,\"muted_glyph\":null,\"nonselection_glyph\":{\"id\":\"d58ce960-f910-4f55-ba38-2d16d3c5487c\",\"type\":\"Circle\"},\"selection_glyph\":null,\"view\":{\"id\":\"5d22df7d-b2f7-4508-afdd-227efb962148\",\"type\":\"CDSView\"}},\"id\":\"67044088-c906-45b0-9c5e-6f87c24a14f7\",\"type\":\"GlyphRenderer\"},{\"attributes\":{\"callback\":null},\"id\":\"58bce52e-377d-40ba-b120-488198bbecf3\",\"type\":\"DataRange1d\"},{\"attributes\":{\"items\":[{\"id\":\"6a3ea464-dca2-4cca-aa12-d9da41e65aae\",\"type\":\"LegendItem\"}],\"plot\":{\"id\":\"3044c831-7bf4-40f7-96f8-4dcf13b9e989\",\"subtype\":\"Figure\",\"type\":\"Plot\"}},\"id\":\"451b511b-1790-43e4-8265-9f4605cf697d\",\"type\":\"Legend\"},{\"attributes\":{\"source\":{\"id\":\"f6ba419b-4aa1-437b-a285-7776aa047faf\",\"type\":\"ColumnDataSource\"}},\"id\":\"112a4803-239b-4f6a-82d4-be26677c228b\",\"type\":\"CDSView\"},{\"attributes\":{\"source\":{\"id\":\"b9f317f1-fffe-478f-a493-186e1dfdeb68\",\"type\":\"ColumnDataSource\"}},\"id\":\"5d22df7d-b2f7-4508-afdd-227efb962148\",\"type\":\"CDSView\"},{\"attributes\":{\"plot\":null,\"text\":\"Time Series for INFY\"},\"id\":\"f187abe7-554c-4c01-ab8d-fad8dbd3b5b2\",\"type\":\"Title\"},{\"attributes\":{\"fill_color\":{\"value\":\"red\"},\"line_color\":{\"value\":\"red\"},\"x\":{\"field\":\"x\"},\"y\":{\"field\":\"y\"}},\"id\":\"56fbcbfa-b147-478a-a945-a430e185759e\",\"type\":\"Circle\"},{\"attributes\":{\"line_alpha\":0.5,\"line_color\":\"blue\",\"x\":{\"field\":\"x\"},\"y\":{\"field\":\"y\"}},\"id\":\"b582aee4-7117-43a6-a1c2-5f74d1889973\",\"type\":\"Line\"},{\"attributes\":{\"mantissas\":[1,2,5],\"max_interval\":500.0,\"num_minor_ticks\":0},\"id\":\"1b177526-c786-4d33-a5f3-771d7feccc13\",\"type\":\"AdaptiveTicker\"},{\"attributes\":{\"base\":60,\"mantissas\":[1,2,5,10,15,20,30],\"max_interval\":1800000.0,\"min_interval\":1000.0,\"num_minor_ticks\":0},\"id\":\"bf6a3356-0d78-4195-9f02-ef65d8bc477d\",\"type\":\"AdaptiveTicker\"}],\"root_ids\":[\"3044c831-7bf4-40f7-96f8-4dcf13b9e989\"]},\"title\":\"Bokeh Application\",\"version\":\"0.12.16\"}};\n",
       "  var render_items = [{\"docid\":\"ca060ac9-d73e-433b-bd64-98c0b69eed64\",\"elementid\":\"2abfad8a-c436-4dfe-8d2e-dd82f20fcbe2\",\"modelid\":\"3044c831-7bf4-40f7-96f8-4dcf13b9e989\"}];\n",
       "  root.Bokeh.embed.embed_items_notebook(docs_json, render_items);\n",
       "\n",
       "  }\n",
       "  if (root.Bokeh !== undefined) {\n",
       "    embed_document(root);\n",
       "  } else {\n",
       "    var attempts = 0;\n",
       "    var timer = setInterval(function(root) {\n",
       "      if (root.Bokeh !== undefined) {\n",
       "        embed_document(root);\n",
       "        clearInterval(timer);\n",
       "      }\n",
       "      attempts++;\n",
       "      if (attempts > 100) {\n",
       "        console.log(\"Bokeh: ERROR: Unable to run BokehJS code because BokehJS library is missing\")\n",
       "        clearInterval(timer);\n",
       "      }\n",
       "    }, 10, root)\n",
       "  }\n",
       "})(window);"
      ],
      "application/vnd.bokehjs_exec.v0+json": ""
     },
     "metadata": {
      "application/vnd.bokehjs_exec.v0+json": {
       "id": "3044c831-7bf4-40f7-96f8-4dcf13b9e989"
      }
     },
     "output_type": "display_data"
    }
   ],
   "source": [
    "bokeh_plot_2(tcs)\n",
    "bokeh_plot_2(infy)"
   ]
  },
  {
   "cell_type": "code",
   "execution_count": 9,
   "metadata": {},
   "outputs": [],
   "source": [
    "from statsmodels.tsa.stattools import acf, pacf\n",
    "\n",
    "def draw_pacf(stock):\n",
    "    \n",
    "    lags = 50\n",
    "\n",
    "    x = list(range(lags))\n",
    "\n",
    "    p = figure(plot_height=500, title=\"Partial Autocorrelation PLot {}\" .format(stock.Symbol[0]))\n",
    "\n",
    "    partial_autocorr = pacf(stock[\"Close\"], nlags=lags)\n",
    "    p.vbar(x=x, top=partial_autocorr, width=0.9)\n",
    "    show(p)"
   ]
  },
  {
   "cell_type": "code",
   "execution_count": 10,
   "metadata": {},
   "outputs": [
    {
     "name": "stderr",
     "output_type": "stream",
     "text": [
      "C:\\Users\\Akarsh Somani\\Anaconda3\\lib\\site-packages\\bokeh\\models\\sources.py:110: BokehUserWarning: ColumnDataSource's columns must be of the same length. Current lengths: ('top', 51), ('x', 50)\n",
      "  \"Current lengths: %s\" % \", \".join(sorted(str((k, len(v))) for k, v in data.items())), BokehUserWarning))\n"
     ]
    },
    {
     "data": {
      "text/html": [
       "\n",
       "<div class=\"bk-root\">\n",
       "    <div class=\"bk-plotdiv\" id=\"76da067e-27e0-4829-8a2c-d6541f0fa62e\"></div>\n",
       "</div>"
      ]
     },
     "metadata": {},
     "output_type": "display_data"
    },
    {
     "data": {
      "application/javascript": [
       "(function(root) {\n",
       "  function embed_document(root) {\n",
       "    \n",
       "  var docs_json = {\"3e84366c-090c-4514-b1d3-f5093c9af6c0\":{\"roots\":{\"references\":[{\"attributes\":{},\"id\":\"f18d951b-1665-4037-8afa-54668c386539\",\"type\":\"BasicTickFormatter\"},{\"attributes\":{\"source\":{\"id\":\"b543cf93-369d-456e-9533-2239b28eb6e4\",\"type\":\"ColumnDataSource\"}},\"id\":\"58c93258-8363-4afb-9572-6c394678374f\",\"type\":\"CDSView\"},{\"attributes\":{\"overlay\":{\"id\":\"30b0f68c-0df5-47e3-b1f0-370cfd67b002\",\"type\":\"BoxAnnotation\"}},\"id\":\"27eeb6d7-d637-439e-be7a-01952b614403\",\"type\":\"BoxZoomTool\"},{\"attributes\":{},\"id\":\"e6df543e-b1b1-45c3-9dde-18a2bff19ee6\",\"type\":\"LinearScale\"},{\"attributes\":{\"bottom_units\":\"screen\",\"fill_alpha\":{\"value\":0.5},\"fill_color\":{\"value\":\"lightgrey\"},\"left_units\":\"screen\",\"level\":\"overlay\",\"line_alpha\":{\"value\":1.0},\"line_color\":{\"value\":\"black\"},\"line_dash\":[4,4],\"line_width\":{\"value\":2},\"plot\":null,\"render_mode\":\"css\",\"right_units\":\"screen\",\"top_units\":\"screen\"},\"id\":\"30b0f68c-0df5-47e3-b1f0-370cfd67b002\",\"type\":\"BoxAnnotation\"},{\"attributes\":{},\"id\":\"b4905534-5434-4651-8b8d-c78c08212cb8\",\"type\":\"HelpTool\"},{\"attributes\":{\"callback\":null,\"data\":{\"top\":{\"__ndarray__\":\"AAAAAAAA8D90zcFrJsLtP4Q4W5ZVsru/oHSgMy6krL9Lbp+ZWzmiP5CcyA78/a0/cNQy7Z+8pb/C0kKEGH2zP9FDrWW2HLA/ndpPva6Spz+UNWOTs2m1v4Tk//xBoJg/eLKeO5wyt78G7qabVrmwv3SCqNpX5Z8/GyZBFs5nsj9tVQ4LeE9tv5KgkgiYlrk/8Wg3R9kZsb/xAjs0KHeFvzq9DmCfp6A//7u+6c75wL+0jWcIh6+rP+m71Ja+2bA/h3HOsFsAsr+pjC1Tize/v+pdWSFh2ai/ILAx9J2SsT9tF1uy+sKtP1xCW5BbMrY/ASnd1yDGsT9JXc1Taq2xvw8QUrbUibS/EBZRx5iZwL/nwhk+n4y3v5rsS6JDnLK/XuawuVyopr+/9Xcr18O4v4jOCoPa/LI/yND/tPYOoT8ySyif/Rydv+7Gipe1EKA/RS1VD7Cjpz/avM+4GjKyvxYM9c6lXbw/qHWaXtVgqT9Pyx5LRlStP9bNVO9pdF2/cgHxZ73Zvj+WqXOt3VKTP9FXrCTWK6S/\",\"dtype\":\"float64\",\"shape\":[51]},\"x\":[0,1,2,3,4,5,6,7,8,9,10,11,12,13,14,15,16,17,18,19,20,21,22,23,24,25,26,27,28,29,30,31,32,33,34,35,36,37,38,39,40,41,42,43,44,45,46,47,48,49]},\"selected\":{\"id\":\"e6b12352-5fc8-4941-a732-86b269a2241d\",\"type\":\"Selection\"},\"selection_policy\":{\"id\":\"edee8921-6888-47d5-9ef5-5eb1f514c4e0\",\"type\":\"UnionRenderers\"}},\"id\":\"b543cf93-369d-456e-9533-2239b28eb6e4\",\"type\":\"ColumnDataSource\"},{\"attributes\":{},\"id\":\"957297b9-2b09-4904-aec7-eacea41879d1\",\"type\":\"PanTool\"},{\"attributes\":{},\"id\":\"c5ede636-e7ef-48c0-b4dc-8fbed7e910e9\",\"type\":\"ResetTool\"},{\"attributes\":{\"data_source\":{\"id\":\"b543cf93-369d-456e-9533-2239b28eb6e4\",\"type\":\"ColumnDataSource\"},\"glyph\":{\"id\":\"048f974d-e262-4eed-832b-ec24a4b81d60\",\"type\":\"VBar\"},\"hover_glyph\":null,\"muted_glyph\":null,\"nonselection_glyph\":{\"id\":\"d0f6189d-3460-45a4-88c1-53dea6f4a402\",\"type\":\"VBar\"},\"selection_glyph\":null,\"view\":{\"id\":\"58c93258-8363-4afb-9572-6c394678374f\",\"type\":\"CDSView\"}},\"id\":\"d6c265f7-278f-4e49-b3dd-9af1405e6851\",\"type\":\"GlyphRenderer\"},{\"attributes\":{},\"id\":\"44d69cfd-11b9-43d5-bbb0-025223f8e333\",\"type\":\"BasicTicker\"},{\"attributes\":{\"fill_color\":{\"value\":\"#1f77b4\"},\"line_color\":{\"value\":\"#1f77b4\"},\"top\":{\"field\":\"top\"},\"width\":{\"value\":0.9},\"x\":{\"field\":\"x\"}},\"id\":\"048f974d-e262-4eed-832b-ec24a4b81d60\",\"type\":\"VBar\"},{\"attributes\":{\"dimension\":1,\"plot\":{\"id\":\"2b941fe9-1336-427b-bd9f-5d51383c6ca7\",\"subtype\":\"Figure\",\"type\":\"Plot\"},\"ticker\":{\"id\":\"c3878eb4-b70a-46c3-af9d-0fdd814f825d\",\"type\":\"BasicTicker\"}},\"id\":\"cbae3761-9835-48a9-a7be-2767f7e48f51\",\"type\":\"Grid\"},{\"attributes\":{\"plot\":null,\"text\":\"Partial Autocorrelation PLot TCS\"},\"id\":\"67849127-412b-4225-8e0c-d18bc81c3aea\",\"type\":\"Title\"},{\"attributes\":{\"formatter\":{\"id\":\"f18d951b-1665-4037-8afa-54668c386539\",\"type\":\"BasicTickFormatter\"},\"plot\":{\"id\":\"2b941fe9-1336-427b-bd9f-5d51383c6ca7\",\"subtype\":\"Figure\",\"type\":\"Plot\"},\"ticker\":{\"id\":\"c3878eb4-b70a-46c3-af9d-0fdd814f825d\",\"type\":\"BasicTicker\"}},\"id\":\"e53d8771-9211-4f70-8e96-2ae6c7dd5ac7\",\"type\":\"LinearAxis\"},{\"attributes\":{\"fill_alpha\":{\"value\":0.1},\"fill_color\":{\"value\":\"#1f77b4\"},\"line_alpha\":{\"value\":0.1},\"line_color\":{\"value\":\"#1f77b4\"},\"top\":{\"field\":\"top\"},\"width\":{\"value\":0.9},\"x\":{\"field\":\"x\"}},\"id\":\"d0f6189d-3460-45a4-88c1-53dea6f4a402\",\"type\":\"VBar\"},{\"attributes\":{},\"id\":\"edee8921-6888-47d5-9ef5-5eb1f514c4e0\",\"type\":\"UnionRenderers\"},{\"attributes\":{\"formatter\":{\"id\":\"a5656c1d-908d-4566-886e-9124ff7186b2\",\"type\":\"BasicTickFormatter\"},\"plot\":{\"id\":\"2b941fe9-1336-427b-bd9f-5d51383c6ca7\",\"subtype\":\"Figure\",\"type\":\"Plot\"},\"ticker\":{\"id\":\"44d69cfd-11b9-43d5-bbb0-025223f8e333\",\"type\":\"BasicTicker\"}},\"id\":\"f4c695a0-4b74-4608-a244-8023eda20057\",\"type\":\"LinearAxis\"},{\"attributes\":{},\"id\":\"c3878eb4-b70a-46c3-af9d-0fdd814f825d\",\"type\":\"BasicTicker\"},{\"attributes\":{\"active_drag\":\"auto\",\"active_inspect\":\"auto\",\"active_scroll\":\"auto\",\"active_tap\":\"auto\",\"tools\":[{\"id\":\"957297b9-2b09-4904-aec7-eacea41879d1\",\"type\":\"PanTool\"},{\"id\":\"c565d97e-1cfb-4912-8ad8-dd31a53f1307\",\"type\":\"WheelZoomTool\"},{\"id\":\"27eeb6d7-d637-439e-be7a-01952b614403\",\"type\":\"BoxZoomTool\"},{\"id\":\"699e879f-ee1d-40f0-bd66-24fccdfd97b0\",\"type\":\"SaveTool\"},{\"id\":\"c5ede636-e7ef-48c0-b4dc-8fbed7e910e9\",\"type\":\"ResetTool\"},{\"id\":\"b4905534-5434-4651-8b8d-c78c08212cb8\",\"type\":\"HelpTool\"}]},\"id\":\"3f4f47fd-cebf-4efd-b816-cb4a1f1314e8\",\"type\":\"Toolbar\"},{\"attributes\":{},\"id\":\"c565d97e-1cfb-4912-8ad8-dd31a53f1307\",\"type\":\"WheelZoomTool\"},{\"attributes\":{},\"id\":\"a5656c1d-908d-4566-886e-9124ff7186b2\",\"type\":\"BasicTickFormatter\"},{\"attributes\":{\"callback\":null},\"id\":\"e965d52a-5614-4c11-954c-f57e7d998887\",\"type\":\"DataRange1d\"},{\"attributes\":{},\"id\":\"7c18850f-83c4-471c-9010-e66ecdc800b0\",\"type\":\"LinearScale\"},{\"attributes\":{},\"id\":\"e6b12352-5fc8-4941-a732-86b269a2241d\",\"type\":\"Selection\"},{\"attributes\":{\"below\":[{\"id\":\"f4c695a0-4b74-4608-a244-8023eda20057\",\"type\":\"LinearAxis\"}],\"left\":[{\"id\":\"e53d8771-9211-4f70-8e96-2ae6c7dd5ac7\",\"type\":\"LinearAxis\"}],\"plot_height\":500,\"renderers\":[{\"id\":\"f4c695a0-4b74-4608-a244-8023eda20057\",\"type\":\"LinearAxis\"},{\"id\":\"8b4debd9-a97e-4219-9766-d22e38ae2601\",\"type\":\"Grid\"},{\"id\":\"e53d8771-9211-4f70-8e96-2ae6c7dd5ac7\",\"type\":\"LinearAxis\"},{\"id\":\"cbae3761-9835-48a9-a7be-2767f7e48f51\",\"type\":\"Grid\"},{\"id\":\"30b0f68c-0df5-47e3-b1f0-370cfd67b002\",\"type\":\"BoxAnnotation\"},{\"id\":\"d6c265f7-278f-4e49-b3dd-9af1405e6851\",\"type\":\"GlyphRenderer\"}],\"title\":{\"id\":\"67849127-412b-4225-8e0c-d18bc81c3aea\",\"type\":\"Title\"},\"toolbar\":{\"id\":\"3f4f47fd-cebf-4efd-b816-cb4a1f1314e8\",\"type\":\"Toolbar\"},\"x_range\":{\"id\":\"e965d52a-5614-4c11-954c-f57e7d998887\",\"type\":\"DataRange1d\"},\"x_scale\":{\"id\":\"e6df543e-b1b1-45c3-9dde-18a2bff19ee6\",\"type\":\"LinearScale\"},\"y_range\":{\"id\":\"19c8d4c5-7bc0-477a-a8fa-91aa7a078e01\",\"type\":\"DataRange1d\"},\"y_scale\":{\"id\":\"7c18850f-83c4-471c-9010-e66ecdc800b0\",\"type\":\"LinearScale\"}},\"id\":\"2b941fe9-1336-427b-bd9f-5d51383c6ca7\",\"subtype\":\"Figure\",\"type\":\"Plot\"},{\"attributes\":{\"plot\":{\"id\":\"2b941fe9-1336-427b-bd9f-5d51383c6ca7\",\"subtype\":\"Figure\",\"type\":\"Plot\"},\"ticker\":{\"id\":\"44d69cfd-11b9-43d5-bbb0-025223f8e333\",\"type\":\"BasicTicker\"}},\"id\":\"8b4debd9-a97e-4219-9766-d22e38ae2601\",\"type\":\"Grid\"},{\"attributes\":{},\"id\":\"699e879f-ee1d-40f0-bd66-24fccdfd97b0\",\"type\":\"SaveTool\"},{\"attributes\":{\"callback\":null},\"id\":\"19c8d4c5-7bc0-477a-a8fa-91aa7a078e01\",\"type\":\"DataRange1d\"}],\"root_ids\":[\"2b941fe9-1336-427b-bd9f-5d51383c6ca7\"]},\"title\":\"Bokeh Application\",\"version\":\"0.12.16\"}};\n",
       "  var render_items = [{\"docid\":\"3e84366c-090c-4514-b1d3-f5093c9af6c0\",\"elementid\":\"76da067e-27e0-4829-8a2c-d6541f0fa62e\",\"modelid\":\"2b941fe9-1336-427b-bd9f-5d51383c6ca7\"}];\n",
       "  root.Bokeh.embed.embed_items_notebook(docs_json, render_items);\n",
       "\n",
       "  }\n",
       "  if (root.Bokeh !== undefined) {\n",
       "    embed_document(root);\n",
       "  } else {\n",
       "    var attempts = 0;\n",
       "    var timer = setInterval(function(root) {\n",
       "      if (root.Bokeh !== undefined) {\n",
       "        embed_document(root);\n",
       "        clearInterval(timer);\n",
       "      }\n",
       "      attempts++;\n",
       "      if (attempts > 100) {\n",
       "        console.log(\"Bokeh: ERROR: Unable to run BokehJS code because BokehJS library is missing\")\n",
       "        clearInterval(timer);\n",
       "      }\n",
       "    }, 10, root)\n",
       "  }\n",
       "})(window);"
      ],
      "application/vnd.bokehjs_exec.v0+json": ""
     },
     "metadata": {
      "application/vnd.bokehjs_exec.v0+json": {
       "id": "2b941fe9-1336-427b-bd9f-5d51383c6ca7"
      }
     },
     "output_type": "display_data"
    },
    {
     "name": "stderr",
     "output_type": "stream",
     "text": [
      "C:\\Users\\Akarsh Somani\\Anaconda3\\lib\\site-packages\\bokeh\\models\\sources.py:110: BokehUserWarning: ColumnDataSource's columns must be of the same length. Current lengths: ('top', 51), ('x', 50)\n",
      "  \"Current lengths: %s\" % \", \".join(sorted(str((k, len(v))) for k, v in data.items())), BokehUserWarning))\n"
     ]
    },
    {
     "data": {
      "text/html": [
       "\n",
       "<div class=\"bk-root\">\n",
       "    <div class=\"bk-plotdiv\" id=\"db691a1f-500c-4970-b7d8-f5a02ddfe854\"></div>\n",
       "</div>"
      ]
     },
     "metadata": {},
     "output_type": "display_data"
    },
    {
     "data": {
      "application/javascript": [
       "(function(root) {\n",
       "  function embed_document(root) {\n",
       "    \n",
       "  var docs_json = {\"0d861d54-680c-400b-9d33-ade6ccd4ef39\":{\"roots\":{\"references\":[{\"attributes\":{},\"id\":\"30a5602d-3cdc-4346-8df1-8810bc3bc8ba\",\"type\":\"SaveTool\"},{\"attributes\":{\"callback\":null},\"id\":\"4ec64d86-996d-4fb1-8b98-43ae1f073e2c\",\"type\":\"DataRange1d\"},{\"attributes\":{},\"id\":\"e37ca521-1da4-4bf6-acb2-b93133dccd7a\",\"type\":\"WheelZoomTool\"},{\"attributes\":{\"dimension\":1,\"plot\":{\"id\":\"172973b7-396b-4160-a018-b039ddf4418b\",\"subtype\":\"Figure\",\"type\":\"Plot\"},\"ticker\":{\"id\":\"5f36bfd9-6152-4755-87c5-445d1b85e2b9\",\"type\":\"BasicTicker\"}},\"id\":\"f3c451c5-80d2-4ca5-ac3a-c9dc37b4864b\",\"type\":\"Grid\"},{\"attributes\":{},\"id\":\"42b0afd1-50f6-4608-b580-02d4fc64ed78\",\"type\":\"Selection\"},{\"attributes\":{},\"id\":\"5f36bfd9-6152-4755-87c5-445d1b85e2b9\",\"type\":\"BasicTicker\"},{\"attributes\":{\"fill_color\":{\"value\":\"#1f77b4\"},\"line_color\":{\"value\":\"#1f77b4\"},\"top\":{\"field\":\"top\"},\"width\":{\"value\":0.9},\"x\":{\"field\":\"x\"}},\"id\":\"a8eea6cb-735b-4d32-9f4b-b081074d2e47\",\"type\":\"VBar\"},{\"attributes\":{\"formatter\":{\"id\":\"13a5ce2a-5655-461d-8b12-d48be763052f\",\"type\":\"BasicTickFormatter\"},\"plot\":{\"id\":\"172973b7-396b-4160-a018-b039ddf4418b\",\"subtype\":\"Figure\",\"type\":\"Plot\"},\"ticker\":{\"id\":\"5f36bfd9-6152-4755-87c5-445d1b85e2b9\",\"type\":\"BasicTicker\"}},\"id\":\"37a30588-cb9a-4dd6-a9cd-94fb74f185e1\",\"type\":\"LinearAxis\"},{\"attributes\":{\"source\":{\"id\":\"b24fd38c-fafd-4387-b443-0fbf87a48dec\",\"type\":\"ColumnDataSource\"}},\"id\":\"7afede47-6413-45cf-85e2-5cc1ec9ba887\",\"type\":\"CDSView\"},{\"attributes\":{},\"id\":\"2945c7ce-db07-4410-b07e-6597e1e6e4da\",\"type\":\"BasicTicker\"},{\"attributes\":{\"formatter\":{\"id\":\"6d3fc599-2d4c-493a-8cde-a9be5ed43e99\",\"type\":\"BasicTickFormatter\"},\"plot\":{\"id\":\"172973b7-396b-4160-a018-b039ddf4418b\",\"subtype\":\"Figure\",\"type\":\"Plot\"},\"ticker\":{\"id\":\"2945c7ce-db07-4410-b07e-6597e1e6e4da\",\"type\":\"BasicTicker\"}},\"id\":\"f6e0bf34-7a78-4e74-a680-f9a24815c656\",\"type\":\"LinearAxis\"},{\"attributes\":{\"below\":[{\"id\":\"f6e0bf34-7a78-4e74-a680-f9a24815c656\",\"type\":\"LinearAxis\"}],\"left\":[{\"id\":\"37a30588-cb9a-4dd6-a9cd-94fb74f185e1\",\"type\":\"LinearAxis\"}],\"plot_height\":500,\"renderers\":[{\"id\":\"f6e0bf34-7a78-4e74-a680-f9a24815c656\",\"type\":\"LinearAxis\"},{\"id\":\"eb238bfa-1912-45a4-bd50-eed9cb93009a\",\"type\":\"Grid\"},{\"id\":\"37a30588-cb9a-4dd6-a9cd-94fb74f185e1\",\"type\":\"LinearAxis\"},{\"id\":\"f3c451c5-80d2-4ca5-ac3a-c9dc37b4864b\",\"type\":\"Grid\"},{\"id\":\"c39bba9a-5aeb-418a-ab9d-ecab680eac3b\",\"type\":\"BoxAnnotation\"},{\"id\":\"23e67413-e78a-460c-9605-b8d1ad25a124\",\"type\":\"GlyphRenderer\"}],\"title\":{\"id\":\"e05195e8-5285-414f-8157-98dad975d7e0\",\"type\":\"Title\"},\"toolbar\":{\"id\":\"e6df96e0-c6ce-4a5b-9742-c22d6b0c1fd9\",\"type\":\"Toolbar\"},\"x_range\":{\"id\":\"4ec64d86-996d-4fb1-8b98-43ae1f073e2c\",\"type\":\"DataRange1d\"},\"x_scale\":{\"id\":\"6ed898f7-6d05-4dfc-9ece-b32e11075936\",\"type\":\"LinearScale\"},\"y_range\":{\"id\":\"55fb1768-0858-4235-985e-3b7f24a89d15\",\"type\":\"DataRange1d\"},\"y_scale\":{\"id\":\"4db6c984-7c40-40ab-b261-f3b2b6f64f81\",\"type\":\"LinearScale\"}},\"id\":\"172973b7-396b-4160-a018-b039ddf4418b\",\"subtype\":\"Figure\",\"type\":\"Plot\"},{\"attributes\":{\"data_source\":{\"id\":\"b24fd38c-fafd-4387-b443-0fbf87a48dec\",\"type\":\"ColumnDataSource\"},\"glyph\":{\"id\":\"a8eea6cb-735b-4d32-9f4b-b081074d2e47\",\"type\":\"VBar\"},\"hover_glyph\":null,\"muted_glyph\":null,\"nonselection_glyph\":{\"id\":\"3654ab61-2642-4544-80fb-15ad227d4772\",\"type\":\"VBar\"},\"selection_glyph\":null,\"view\":{\"id\":\"7afede47-6413-45cf-85e2-5cc1ec9ba887\",\"type\":\"CDSView\"}},\"id\":\"23e67413-e78a-460c-9605-b8d1ad25a124\",\"type\":\"GlyphRenderer\"},{\"attributes\":{\"callback\":null},\"id\":\"55fb1768-0858-4235-985e-3b7f24a89d15\",\"type\":\"DataRange1d\"},{\"attributes\":{\"callback\":null,\"data\":{\"top\":{\"__ndarray__\":\"AAAAAAAA8D8gcLZOZMfvP8kUX8hxFaO/RFr3tUewpb+wMoL/LZe1P6E0p0vgTqa/6o0fU/rqYb81UT4P/961v42hVRf6raS/ywK5a6BapD+vUDaDaH62v15DxoeLPaA/WFzDydALX79GjpLWdHqsPyM8f5riI7W/i8LtMs2Ar78/ZcErhm+jv6kJTUgw1Ji/vJJ/4BviXb8zNP9hoi+dv21JeGyU55c/95jBBTM+rz+0XLt8WPigPyv8DpEB7ZM/uS3pgePahb9fuaNApO2wv/7DCXQW6n2/fA496vfpuj/ThA6IEselvwTaTZ9a46+/cmMzopYznb8RydcgAnCgP1Xi3Vm92H+/TUr6cNdShr/tZ4yrvi6xv2kXLhM9PX6/ZbMu7mOjxr8ODw5QTz2xv9Xi0cXnD6g/H3MXzQ3fbj+OmUsr5m+uvw/QpxZjY7C/vLCZtH/MdT/7IbebDUyZP/LQeS+quJA/xTarC92RdD8CRDZfk5SBP+ec0iQVVbg/vKMem7Jzjr+dxuNGesqrv29q1CGisqa/\",\"dtype\":\"float64\",\"shape\":[51]},\"x\":[0,1,2,3,4,5,6,7,8,9,10,11,12,13,14,15,16,17,18,19,20,21,22,23,24,25,26,27,28,29,30,31,32,33,34,35,36,37,38,39,40,41,42,43,44,45,46,47,48,49]},\"selected\":{\"id\":\"42b0afd1-50f6-4608-b580-02d4fc64ed78\",\"type\":\"Selection\"},\"selection_policy\":{\"id\":\"dbffb15f-c981-4375-81d2-5c377cd1f3a3\",\"type\":\"UnionRenderers\"}},\"id\":\"b24fd38c-fafd-4387-b443-0fbf87a48dec\",\"type\":\"ColumnDataSource\"},{\"attributes\":{},\"id\":\"a3f11686-3e82-4691-a94c-e722d2ae7e0c\",\"type\":\"PanTool\"},{\"attributes\":{\"bottom_units\":\"screen\",\"fill_alpha\":{\"value\":0.5},\"fill_color\":{\"value\":\"lightgrey\"},\"left_units\":\"screen\",\"level\":\"overlay\",\"line_alpha\":{\"value\":1.0},\"line_color\":{\"value\":\"black\"},\"line_dash\":[4,4],\"line_width\":{\"value\":2},\"plot\":null,\"render_mode\":\"css\",\"right_units\":\"screen\",\"top_units\":\"screen\"},\"id\":\"c39bba9a-5aeb-418a-ab9d-ecab680eac3b\",\"type\":\"BoxAnnotation\"},{\"attributes\":{},\"id\":\"4db6c984-7c40-40ab-b261-f3b2b6f64f81\",\"type\":\"LinearScale\"},{\"attributes\":{},\"id\":\"6d3fc599-2d4c-493a-8cde-a9be5ed43e99\",\"type\":\"BasicTickFormatter\"},{\"attributes\":{},\"id\":\"dbffb15f-c981-4375-81d2-5c377cd1f3a3\",\"type\":\"UnionRenderers\"},{\"attributes\":{},\"id\":\"13a5ce2a-5655-461d-8b12-d48be763052f\",\"type\":\"BasicTickFormatter\"},{\"attributes\":{\"active_drag\":\"auto\",\"active_inspect\":\"auto\",\"active_scroll\":\"auto\",\"active_tap\":\"auto\",\"tools\":[{\"id\":\"a3f11686-3e82-4691-a94c-e722d2ae7e0c\",\"type\":\"PanTool\"},{\"id\":\"e37ca521-1da4-4bf6-acb2-b93133dccd7a\",\"type\":\"WheelZoomTool\"},{\"id\":\"3d941a1b-c224-4248-8518-ce1269e81a3f\",\"type\":\"BoxZoomTool\"},{\"id\":\"30a5602d-3cdc-4346-8df1-8810bc3bc8ba\",\"type\":\"SaveTool\"},{\"id\":\"a8c90f3e-17a7-4adf-a499-edc1c16e2002\",\"type\":\"ResetTool\"},{\"id\":\"3bc3abf8-46c9-4f57-9903-a344298b1442\",\"type\":\"HelpTool\"}]},\"id\":\"e6df96e0-c6ce-4a5b-9742-c22d6b0c1fd9\",\"type\":\"Toolbar\"},{\"attributes\":{},\"id\":\"3bc3abf8-46c9-4f57-9903-a344298b1442\",\"type\":\"HelpTool\"},{\"attributes\":{\"plot\":{\"id\":\"172973b7-396b-4160-a018-b039ddf4418b\",\"subtype\":\"Figure\",\"type\":\"Plot\"},\"ticker\":{\"id\":\"2945c7ce-db07-4410-b07e-6597e1e6e4da\",\"type\":\"BasicTicker\"}},\"id\":\"eb238bfa-1912-45a4-bd50-eed9cb93009a\",\"type\":\"Grid\"},{\"attributes\":{\"plot\":null,\"text\":\"Partial Autocorrelation PLot INFY\"},\"id\":\"e05195e8-5285-414f-8157-98dad975d7e0\",\"type\":\"Title\"},{\"attributes\":{\"overlay\":{\"id\":\"c39bba9a-5aeb-418a-ab9d-ecab680eac3b\",\"type\":\"BoxAnnotation\"}},\"id\":\"3d941a1b-c224-4248-8518-ce1269e81a3f\",\"type\":\"BoxZoomTool\"},{\"attributes\":{},\"id\":\"6ed898f7-6d05-4dfc-9ece-b32e11075936\",\"type\":\"LinearScale\"},{\"attributes\":{},\"id\":\"a8c90f3e-17a7-4adf-a499-edc1c16e2002\",\"type\":\"ResetTool\"},{\"attributes\":{\"fill_alpha\":{\"value\":0.1},\"fill_color\":{\"value\":\"#1f77b4\"},\"line_alpha\":{\"value\":0.1},\"line_color\":{\"value\":\"#1f77b4\"},\"top\":{\"field\":\"top\"},\"width\":{\"value\":0.9},\"x\":{\"field\":\"x\"}},\"id\":\"3654ab61-2642-4544-80fb-15ad227d4772\",\"type\":\"VBar\"}],\"root_ids\":[\"172973b7-396b-4160-a018-b039ddf4418b\"]},\"title\":\"Bokeh Application\",\"version\":\"0.12.16\"}};\n",
       "  var render_items = [{\"docid\":\"0d861d54-680c-400b-9d33-ade6ccd4ef39\",\"elementid\":\"db691a1f-500c-4970-b7d8-f5a02ddfe854\",\"modelid\":\"172973b7-396b-4160-a018-b039ddf4418b\"}];\n",
       "  root.Bokeh.embed.embed_items_notebook(docs_json, render_items);\n",
       "\n",
       "  }\n",
       "  if (root.Bokeh !== undefined) {\n",
       "    embed_document(root);\n",
       "  } else {\n",
       "    var attempts = 0;\n",
       "    var timer = setInterval(function(root) {\n",
       "      if (root.Bokeh !== undefined) {\n",
       "        embed_document(root);\n",
       "        clearInterval(timer);\n",
       "      }\n",
       "      attempts++;\n",
       "      if (attempts > 100) {\n",
       "        console.log(\"Bokeh: ERROR: Unable to run BokehJS code because BokehJS library is missing\")\n",
       "        clearInterval(timer);\n",
       "      }\n",
       "    }, 10, root)\n",
       "  }\n",
       "})(window);"
      ],
      "application/vnd.bokehjs_exec.v0+json": ""
     },
     "metadata": {
      "application/vnd.bokehjs_exec.v0+json": {
       "id": "172973b7-396b-4160-a018-b039ddf4418b"
      }
     },
     "output_type": "display_data"
    }
   ],
   "source": [
    "draw_pacf(tcs)\n",
    "draw_pacf(infy)"
   ]
  },
  {
   "cell_type": "code",
   "execution_count": null,
   "metadata": {},
   "outputs": [],
   "source": []
  }
 ],
 "metadata": {
  "kernelspec": {
   "display_name": "Python 3",
   "language": "python",
   "name": "python3"
  },
  "language_info": {
   "codemirror_mode": {
    "name": "ipython",
    "version": 3
   },
   "file_extension": ".py",
   "mimetype": "text/x-python",
   "name": "python",
   "nbconvert_exporter": "python",
   "pygments_lexer": "ipython3",
   "version": "3.6.5"
  }
 },
 "nbformat": 4,
 "nbformat_minor": 2
}
